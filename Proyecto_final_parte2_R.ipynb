{
  "nbformat": 4,
  "nbformat_minor": 0,
  "metadata": {
    "colab": {
      "name": "Proyecto_final_parte2_R.ipynb",
      "provenance": [],
      "collapsed_sections": [],
      "include_colab_link": true
    },
    "kernelspec": {
      "name": "ir",
      "display_name": "R"
    },
    "language_info": {
      "name": "R"
    }
  },
  "cells": [
    {
      "cell_type": "markdown",
      "metadata": {
        "id": "view-in-github",
        "colab_type": "text"
      },
      "source": [
        "<a href=\"https://colab.research.google.com/github/BautistaDavid/Team-1-Machine-Learning/blob/main/Proyecto_final_parte2_R.ipynb\" target=\"_parent\"><img src=\"https://colab.research.google.com/assets/colab-badge.svg\" alt=\"Open In Colab\"/></a>"
      ]
    },
    {
      "cell_type": "markdown",
      "metadata": {
        "id": "0o21ZFrrxpD3"
      },
      "source": [
        "# **Parte 2: Aprendizaje No Supervisado** \n",
        "##  **PCA Datos crecimiento Diario Acciones de empresas DowJones**"
      ]
    },
    {
      "cell_type": "code",
      "metadata": {
        "id": "f-5aPmyHyIJl",
        "colab": {
          "base_uri": "https://localhost:8080/"
        },
        "outputId": "cf5c25d4-fae6-4ce7-9a5d-e746ec3df280"
      },
      "source": [
        "install.packages('readxl')\n",
        "install.packages('corrplot')\n",
        "install.packages('FactoMineR')\n",
        "install.packages('factoextra')\n",
        "install.packages('plotrix')"
      ],
      "execution_count": 1,
      "outputs": [
        {
          "output_type": "stream",
          "text": [
            "Installing package into ‘/usr/local/lib/R/site-library’\n",
            "(as ‘lib’ is unspecified)\n",
            "\n",
            "Installing package into ‘/usr/local/lib/R/site-library’\n",
            "(as ‘lib’ is unspecified)\n",
            "\n",
            "Installing package into ‘/usr/local/lib/R/site-library’\n",
            "(as ‘lib’ is unspecified)\n",
            "\n",
            "also installing the dependencies ‘matrixStats’, ‘RcppArmadillo’, ‘numDeriv’, ‘SparseM’, ‘MatrixModels’, ‘conquer’, ‘sp’, ‘openxlsx’, ‘minqa’, ‘nloptr’, ‘RcppEigen’, ‘lazyeval’, ‘later’, ‘carData’, ‘abind’, ‘pbkrtest’, ‘quantreg’, ‘maptools’, ‘rio’, ‘lme4’, ‘htmlwidgets’, ‘crosstalk’, ‘promises’, ‘car’, ‘DT’, ‘ellipse’, ‘flashClust’, ‘leaps’, ‘scatterplot3d’, ‘ggrepel’\n",
            "\n",
            "\n",
            "Installing package into ‘/usr/local/lib/R/site-library’\n",
            "(as ‘lib’ is unspecified)\n",
            "\n",
            "also installing the dependencies ‘viridis’, ‘ggsci’, ‘cowplot’, ‘ggsignif’, ‘gridExtra’, ‘polynom’, ‘rstatix’, ‘plyr’, ‘dendextend’, ‘ggpubr’, ‘reshape2’\n",
            "\n",
            "\n",
            "Installing package into ‘/usr/local/lib/R/site-library’\n",
            "(as ‘lib’ is unspecified)\n",
            "\n"
          ],
          "name": "stderr"
        }
      ]
    },
    {
      "cell_type": "code",
      "metadata": {
        "id": "e9YN3341PhgP",
        "colab": {
          "base_uri": "https://localhost:8080/"
        },
        "outputId": "1e7a9770-526a-49e0-9f6e-c6d5aa40cc6b"
      },
      "source": [
        "library(tidyverse)\n",
        "library(data.table)\n",
        "library(readxl)\n",
        "library(corrplot)\n",
        "library(FactoMineR)\n",
        "library(factoextra)\n",
        "library(plotrix)"
      ],
      "execution_count": 2,
      "outputs": [
        {
          "output_type": "stream",
          "text": [
            "Warning message in system(\"timedatectl\", intern = TRUE):\n",
            "“running command 'timedatectl' had status 1”\n",
            "── \u001b[1mAttaching packages\u001b[22m ─────────────────────────────────────── tidyverse 1.3.1 ──\n",
            "\n",
            "\u001b[32m✔\u001b[39m \u001b[34mggplot2\u001b[39m 3.3.5     \u001b[32m✔\u001b[39m \u001b[34mpurrr  \u001b[39m 0.3.4\n",
            "\u001b[32m✔\u001b[39m \u001b[34mtibble \u001b[39m 3.1.2     \u001b[32m✔\u001b[39m \u001b[34mdplyr  \u001b[39m 1.0.7\n",
            "\u001b[32m✔\u001b[39m \u001b[34mtidyr  \u001b[39m 1.1.3     \u001b[32m✔\u001b[39m \u001b[34mstringr\u001b[39m 1.4.0\n",
            "\u001b[32m✔\u001b[39m \u001b[34mreadr  \u001b[39m 1.4.0     \u001b[32m✔\u001b[39m \u001b[34mforcats\u001b[39m 0.5.1\n",
            "\n",
            "── \u001b[1mConflicts\u001b[22m ────────────────────────────────────────── tidyverse_conflicts() ──\n",
            "\u001b[31m✖\u001b[39m \u001b[34mdplyr\u001b[39m::\u001b[32mfilter()\u001b[39m masks \u001b[34mstats\u001b[39m::filter()\n",
            "\u001b[31m✖\u001b[39m \u001b[34mdplyr\u001b[39m::\u001b[32mlag()\u001b[39m    masks \u001b[34mstats\u001b[39m::lag()\n",
            "\n",
            "\n",
            "Attaching package: ‘data.table’\n",
            "\n",
            "\n",
            "The following objects are masked from ‘package:dplyr’:\n",
            "\n",
            "    between, first, last\n",
            "\n",
            "\n",
            "The following object is masked from ‘package:purrr’:\n",
            "\n",
            "    transpose\n",
            "\n",
            "\n",
            "corrplot 0.90 loaded\n",
            "\n",
            "Welcome! Want to learn more? See two factoextra-related books at https://goo.gl/ve3WBa\n",
            "\n"
          ],
          "name": "stderr"
        }
      ]
    },
    {
      "cell_type": "markdown",
      "metadata": {
        "id": "dPc2Fg4nyaC2"
      },
      "source": [
        "### **Datos**"
      ]
    },
    {
      "cell_type": "markdown",
      "metadata": {
        "id": "KqyXe53zy5MI"
      },
      "source": [
        "Se cargan los datos preprocesados con el lenguaje ```python``` por medio de la libreria ```data.table```. \n"
      ]
    },
    {
      "cell_type": "code",
      "metadata": {
        "id": "Zl0bV1_7VcJx"
      },
      "source": [
        "url=\"https://raw.githubusercontent.com/BautistaDavid/Team-1-Machine-Learning/main/Trabajo%20Final/datos_acciones.csv\"\n",
        "datos <- fread(url)"
      ],
      "execution_count": 3,
      "outputs": []
    },
    {
      "cell_type": "code",
      "metadata": {
        "colab": {
          "base_uri": "https://localhost:8080/",
          "height": 206
        },
        "id": "SyFCPeGe0fD7",
        "outputId": "d495054f-3a0c-4c4c-972e-0a83b2026367"
      },
      "source": [
        "head(datos,3)"
      ],
      "execution_count": 4,
      "outputs": [
        {
          "output_type": "display_data",
          "data": {
            "text/plain": [
              "  V1   04/01/2021  05/01/2021  06/01/2021   07/01/2021   08/01/2021  \n",
              "1 AXP  0.005337174  0.03699334 -0.011376564 0.0009863554 -0.005912301\n",
              "2 AMGN 0.004853084  0.02410432  0.003301179 0.0191009315 -0.003857604\n",
              "3 AAPL 0.012363805 -0.03366155  0.034123223 0.0086312252 -0.023248769\n",
              "  11/01/2021   12/01/2021  13/01/2021  14/01/2021  ⋯ 29/06/2021  30/06/2021 \n",
              "1  0.004625805 0.006413419  0.01127451 -0.01316852 ⋯ 0.005966514 0.010349210\n",
              "2 -0.004125100 0.004860730  0.01648860  0.01584871 ⋯ 0.005320465 0.012923077\n",
              "3 -0.001395565 0.016226708 -0.01512721 -0.01373051 ⋯ 0.004621140 0.002263435\n",
              "  01/07/2021  02/07/2021   06/07/2021   07/07/2021   08/07/2021 09/07/2021  \n",
              "1 0.009344675  0.006290801  0.008374617 -0.020353258 0.02650746  0.009654531\n",
              "2 0.007290401 -0.020305589 -0.001764827  0.004358194 0.00376617 -0.003384992\n",
              "3 0.019596416  0.014718491  0.017955218 -0.009199696 0.01305501 -0.004203708\n",
              "  12/07/2021   13/07/2021   \n",
              "1 -0.005645161 -0.0005793071\n",
              "2  0.001882391 -0.0005309807\n",
              "3  0.007889273  0.0241005218"
            ],
            "text/latex": "A data.table: 3 × 133\n\\begin{tabular}{lllllllllllllllllllll}\n V1 & 04/01/2021 & 05/01/2021 & 06/01/2021 & 07/01/2021 & 08/01/2021 & 11/01/2021 & 12/01/2021 & 13/01/2021 & 14/01/2021 & ⋯ & 29/06/2021 & 30/06/2021 & 01/07/2021 & 02/07/2021 & 06/07/2021 & 07/07/2021 & 08/07/2021 & 09/07/2021 & 12/07/2021 & 13/07/2021\\\\\n <chr> & <dbl> & <dbl> & <dbl> & <dbl> & <dbl> & <dbl> & <dbl> & <dbl> & <dbl> & ⋯ & <dbl> & <dbl> & <dbl> & <dbl> & <dbl> & <dbl> & <dbl> & <dbl> & <dbl> & <dbl>\\\\\n\\hline\n\t AXP  & 0.005337174 &  0.03699334 & -0.011376564 & 0.0009863554 & -0.005912301 &  0.004625805 & 0.006413419 &  0.01127451 & -0.01316852 & ⋯ & 0.005966514 & 0.010349210 & 0.009344675 &  0.006290801 &  0.008374617 & -0.020353258 & 0.02650746 &  0.009654531 & -0.005645161 & -0.0005793071\\\\\n\t AMGN & 0.004853084 &  0.02410432 &  0.003301179 & 0.0191009315 & -0.003857604 & -0.004125100 & 0.004860730 &  0.01648860 &  0.01584871 & ⋯ & 0.005320465 & 0.012923077 & 0.007290401 & -0.020305589 & -0.001764827 &  0.004358194 & 0.00376617 & -0.003384992 &  0.001882391 & -0.0005309807\\\\\n\t AAPL & 0.012363805 & -0.03366155 &  0.034123223 & 0.0086312252 & -0.023248769 & -0.001395565 & 0.016226708 & -0.01512721 & -0.01373051 & ⋯ & 0.004621140 & 0.002263435 & 0.019596416 &  0.014718491 &  0.017955218 & -0.009199696 & 0.01305501 & -0.004203708 &  0.007889273 &  0.0241005218\\\\\n\\end{tabular}\n",
            "text/markdown": "\nA data.table: 3 × 133\n\n| V1 &lt;chr&gt; | 04/01/2021 &lt;dbl&gt; | 05/01/2021 &lt;dbl&gt; | 06/01/2021 &lt;dbl&gt; | 07/01/2021 &lt;dbl&gt; | 08/01/2021 &lt;dbl&gt; | 11/01/2021 &lt;dbl&gt; | 12/01/2021 &lt;dbl&gt; | 13/01/2021 &lt;dbl&gt; | 14/01/2021 &lt;dbl&gt; | ⋯ ⋯ | 29/06/2021 &lt;dbl&gt; | 30/06/2021 &lt;dbl&gt; | 01/07/2021 &lt;dbl&gt; | 02/07/2021 &lt;dbl&gt; | 06/07/2021 &lt;dbl&gt; | 07/07/2021 &lt;dbl&gt; | 08/07/2021 &lt;dbl&gt; | 09/07/2021 &lt;dbl&gt; | 12/07/2021 &lt;dbl&gt; | 13/07/2021 &lt;dbl&gt; |\n|---|---|---|---|---|---|---|---|---|---|---|---|---|---|---|---|---|---|---|---|---|\n| AXP  | 0.005337174 |  0.03699334 | -0.011376564 | 0.0009863554 | -0.005912301 |  0.004625805 | 0.006413419 |  0.01127451 | -0.01316852 | ⋯ | 0.005966514 | 0.010349210 | 0.009344675 |  0.006290801 |  0.008374617 | -0.020353258 | 0.02650746 |  0.009654531 | -0.005645161 | -0.0005793071 |\n| AMGN | 0.004853084 |  0.02410432 |  0.003301179 | 0.0191009315 | -0.003857604 | -0.004125100 | 0.004860730 |  0.01648860 |  0.01584871 | ⋯ | 0.005320465 | 0.012923077 | 0.007290401 | -0.020305589 | -0.001764827 |  0.004358194 | 0.00376617 | -0.003384992 |  0.001882391 | -0.0005309807 |\n| AAPL | 0.012363805 | -0.03366155 |  0.034123223 | 0.0086312252 | -0.023248769 | -0.001395565 | 0.016226708 | -0.01512721 | -0.01373051 | ⋯ | 0.004621140 | 0.002263435 | 0.019596416 |  0.014718491 |  0.017955218 | -0.009199696 | 0.01305501 | -0.004203708 |  0.007889273 |  0.0241005218 |\n\n",
            "text/html": [
              "<table class=\"dataframe\">\n",
              "<caption>A data.table: 3 × 133</caption>\n",
              "<thead>\n",
              "\t<tr><th scope=col>V1</th><th scope=col>04/01/2021</th><th scope=col>05/01/2021</th><th scope=col>06/01/2021</th><th scope=col>07/01/2021</th><th scope=col>08/01/2021</th><th scope=col>11/01/2021</th><th scope=col>12/01/2021</th><th scope=col>13/01/2021</th><th scope=col>14/01/2021</th><th scope=col>⋯</th><th scope=col>29/06/2021</th><th scope=col>30/06/2021</th><th scope=col>01/07/2021</th><th scope=col>02/07/2021</th><th scope=col>06/07/2021</th><th scope=col>07/07/2021</th><th scope=col>08/07/2021</th><th scope=col>09/07/2021</th><th scope=col>12/07/2021</th><th scope=col>13/07/2021</th></tr>\n",
              "\t<tr><th scope=col>&lt;chr&gt;</th><th scope=col>&lt;dbl&gt;</th><th scope=col>&lt;dbl&gt;</th><th scope=col>&lt;dbl&gt;</th><th scope=col>&lt;dbl&gt;</th><th scope=col>&lt;dbl&gt;</th><th scope=col>&lt;dbl&gt;</th><th scope=col>&lt;dbl&gt;</th><th scope=col>&lt;dbl&gt;</th><th scope=col>&lt;dbl&gt;</th><th scope=col>⋯</th><th scope=col>&lt;dbl&gt;</th><th scope=col>&lt;dbl&gt;</th><th scope=col>&lt;dbl&gt;</th><th scope=col>&lt;dbl&gt;</th><th scope=col>&lt;dbl&gt;</th><th scope=col>&lt;dbl&gt;</th><th scope=col>&lt;dbl&gt;</th><th scope=col>&lt;dbl&gt;</th><th scope=col>&lt;dbl&gt;</th><th scope=col>&lt;dbl&gt;</th></tr>\n",
              "</thead>\n",
              "<tbody>\n",
              "\t<tr><td>AXP </td><td>0.005337174</td><td> 0.03699334</td><td>-0.011376564</td><td>0.0009863554</td><td>-0.005912301</td><td> 0.004625805</td><td>0.006413419</td><td> 0.01127451</td><td>-0.01316852</td><td>⋯</td><td>0.005966514</td><td>0.010349210</td><td>0.009344675</td><td> 0.006290801</td><td> 0.008374617</td><td>-0.020353258</td><td>0.02650746</td><td> 0.009654531</td><td>-0.005645161</td><td>-0.0005793071</td></tr>\n",
              "\t<tr><td>AMGN</td><td>0.004853084</td><td> 0.02410432</td><td> 0.003301179</td><td>0.0191009315</td><td>-0.003857604</td><td>-0.004125100</td><td>0.004860730</td><td> 0.01648860</td><td> 0.01584871</td><td>⋯</td><td>0.005320465</td><td>0.012923077</td><td>0.007290401</td><td>-0.020305589</td><td>-0.001764827</td><td> 0.004358194</td><td>0.00376617</td><td>-0.003384992</td><td> 0.001882391</td><td>-0.0005309807</td></tr>\n",
              "\t<tr><td>AAPL</td><td>0.012363805</td><td>-0.03366155</td><td> 0.034123223</td><td>0.0086312252</td><td>-0.023248769</td><td>-0.001395565</td><td>0.016226708</td><td>-0.01512721</td><td>-0.01373051</td><td>⋯</td><td>0.004621140</td><td>0.002263435</td><td>0.019596416</td><td> 0.014718491</td><td> 0.017955218</td><td>-0.009199696</td><td>0.01305501</td><td>-0.004203708</td><td> 0.007889273</td><td> 0.0241005218</td></tr>\n",
              "</tbody>\n",
              "</table>\n"
            ]
          },
          "metadata": {
            "tags": []
          }
        }
      ]
    },
    {
      "cell_type": "markdown",
      "metadata": {
        "id": "F6QKDZzV0d9O"
      },
      "source": [
        "* Se transforma la columna ```V1``` a indice del DataFrame para poder incluir esta infromacion dentro edl algortimo de analisis de componentes principales (**PCA**)."
      ]
    },
    {
      "cell_type": "code",
      "metadata": {
        "id": "LDPzqt0fVcPd"
      },
      "source": [
        "datos<-datos %>% column_to_rownames(., var = \"V1\")"
      ],
      "execution_count": 5,
      "outputs": []
    },
    {
      "cell_type": "code",
      "metadata": {
        "colab": {
          "base_uri": "https://localhost:8080/",
          "height": 296
        },
        "id": "RVfCn8TpVtXM",
        "outputId": "ad6a310f-60f8-4b6b-c5b9-13e84b5a316f"
      },
      "source": [
        "head(datos)"
      ],
      "execution_count": 6,
      "outputs": [
        {
          "output_type": "display_data",
          "data": {
            "text/plain": [
              "     04/01/2021  05/01/2021   06/01/2021   07/01/2021    08/01/2021  \n",
              "AXP  0.005337174  0.036993343 -0.011376564  0.0009863554 -0.005912301\n",
              "AMGN 0.004853084  0.024104320  0.003301179  0.0191009315 -0.003857604\n",
              "AAPL 0.012363805 -0.033661553  0.034123223  0.0086312252 -0.023248769\n",
              "BA   0.043952249 -0.002835137  0.007960953 -0.0132104744 -0.014816579\n",
              "CAT  0.008180071  0.055652363  0.001908594  0.0001544561 -0.002059096\n",
              "CVX  0.027033408  0.032183908  0.004677060  0.0095322545  0.005709267\n",
              "     11/01/2021   12/01/2021    13/01/2021   14/01/2021  15/01/2021   ⋯\n",
              "AXP   0.004625805  0.0064134188  0.011274510 -0.01316852  0.037658616 ⋯\n",
              "AMGN -0.004125100  0.0048607295  0.016488601  0.01584871  0.011324290 ⋯\n",
              "AAPL -0.001395565  0.0162267081 -0.015127206 -0.01373051  0.005427088 ⋯\n",
              "BA    0.007834035 -0.0057578811  0.013030259 -0.02663046  0.031274471 ⋯\n",
              "CAT   0.018982771 -0.0083527387  0.007708408 -0.01408308 -0.002877402 ⋯\n",
              "CVX   0.018995633 -0.0009642168  0.024021448 -0.03560582  0.026278640 ⋯\n",
              "     29/06/2021  30/06/2021    01/07/2021   02/07/2021   06/07/2021  \n",
              "AXP  0.005966514  0.0103492102  0.009344675  0.006290801  0.008374617\n",
              "AMGN 0.005320465  0.0129230769  0.007290401 -0.020305589 -0.001764827\n",
              "AAPL 0.004621140  0.0022634346  0.019596416  0.014718491  0.017955218\n",
              "BA   0.016118086  0.0007096343 -0.012722646 -0.002281562 -0.018463623\n",
              "CAT  0.011761971 -0.0042273584  0.004845185 -0.019470977  0.005479580\n",
              "CVX  0.009444873  0.0140347527 -0.001318143 -0.019609692 -0.010193288\n",
              "     07/07/2021   08/07/2021 09/07/2021   12/07/2021   13/07/2021   \n",
              "AXP  -0.020353258 0.02650746  0.009654531 -0.005645161 -0.0005793071\n",
              "AMGN  0.004358194 0.00376617 -0.003384992  0.001882391 -0.0005309807\n",
              "AAPL -0.009199696 0.01305501 -0.004203708  0.007889273  0.0241005218\n",
              "BA    0.021529036 0.01191029 -0.005425936 -0.042343363 -0.0164329535\n",
              "CAT  -0.012017327 0.02503418  0.005335296 -0.015509196 -0.0164970491\n",
              "CVX  -0.003206062 0.01432749  0.002017873 -0.003356348 -0.0188588473"
            ],
            "text/latex": "A data.frame: 6 × 132\n\\begin{tabular}{r|lllllllllllllllllllll}\n  & 04/01/2021 & 05/01/2021 & 06/01/2021 & 07/01/2021 & 08/01/2021 & 11/01/2021 & 12/01/2021 & 13/01/2021 & 14/01/2021 & 15/01/2021 & ⋯ & 29/06/2021 & 30/06/2021 & 01/07/2021 & 02/07/2021 & 06/07/2021 & 07/07/2021 & 08/07/2021 & 09/07/2021 & 12/07/2021 & 13/07/2021\\\\\n  & <dbl> & <dbl> & <dbl> & <dbl> & <dbl> & <dbl> & <dbl> & <dbl> & <dbl> & <dbl> & ⋯ & <dbl> & <dbl> & <dbl> & <dbl> & <dbl> & <dbl> & <dbl> & <dbl> & <dbl> & <dbl>\\\\\n\\hline\n\tAXP & 0.005337174 &  0.036993343 & -0.011376564 &  0.0009863554 & -0.005912301 &  0.004625805 &  0.0064134188 &  0.011274510 & -0.01316852 &  0.037658616 & ⋯ & 0.005966514 &  0.0103492102 &  0.009344675 &  0.006290801 &  0.008374617 & -0.020353258 & 0.02650746 &  0.009654531 & -0.005645161 & -0.0005793071\\\\\n\tAMGN & 0.004853084 &  0.024104320 &  0.003301179 &  0.0191009315 & -0.003857604 & -0.004125100 &  0.0048607295 &  0.016488601 &  0.01584871 &  0.011324290 & ⋯ & 0.005320465 &  0.0129230769 &  0.007290401 & -0.020305589 & -0.001764827 &  0.004358194 & 0.00376617 & -0.003384992 &  0.001882391 & -0.0005309807\\\\\n\tAAPL & 0.012363805 & -0.033661553 &  0.034123223 &  0.0086312252 & -0.023248769 & -0.001395565 &  0.0162267081 & -0.015127206 & -0.01373051 &  0.005427088 & ⋯ & 0.004621140 &  0.0022634346 &  0.019596416 &  0.014718491 &  0.017955218 & -0.009199696 & 0.01305501 & -0.004203708 &  0.007889273 &  0.0241005218\\\\\n\tBA & 0.043952249 & -0.002835137 &  0.007960953 & -0.0132104744 & -0.014816579 &  0.007834035 & -0.0057578811 &  0.013030259 & -0.02663046 &  0.031274471 & ⋯ & 0.016118086 &  0.0007096343 & -0.012722646 & -0.002281562 & -0.018463623 &  0.021529036 & 0.01191029 & -0.005425936 & -0.042343363 & -0.0164329535\\\\\n\tCAT & 0.008180071 &  0.055652363 &  0.001908594 &  0.0001544561 & -0.002059096 &  0.018982771 & -0.0083527387 &  0.007708408 & -0.01408308 & -0.002877402 & ⋯ & 0.011761971 & -0.0042273584 &  0.004845185 & -0.019470977 &  0.005479580 & -0.012017327 & 0.02503418 &  0.005335296 & -0.015509196 & -0.0164970491\\\\\n\tCVX & 0.027033408 &  0.032183908 &  0.004677060 &  0.0095322545 &  0.005709267 &  0.018995633 & -0.0009642168 &  0.024021448 & -0.03560582 &  0.026278640 & ⋯ & 0.009444873 &  0.0140347527 & -0.001318143 & -0.019609692 & -0.010193288 & -0.003206062 & 0.01432749 &  0.002017873 & -0.003356348 & -0.0188588473\\\\\n\\end{tabular}\n",
            "text/markdown": "\nA data.frame: 6 × 132\n\n| <!--/--> | 04/01/2021 &lt;dbl&gt; | 05/01/2021 &lt;dbl&gt; | 06/01/2021 &lt;dbl&gt; | 07/01/2021 &lt;dbl&gt; | 08/01/2021 &lt;dbl&gt; | 11/01/2021 &lt;dbl&gt; | 12/01/2021 &lt;dbl&gt; | 13/01/2021 &lt;dbl&gt; | 14/01/2021 &lt;dbl&gt; | 15/01/2021 &lt;dbl&gt; | ⋯ ⋯ | 29/06/2021 &lt;dbl&gt; | 30/06/2021 &lt;dbl&gt; | 01/07/2021 &lt;dbl&gt; | 02/07/2021 &lt;dbl&gt; | 06/07/2021 &lt;dbl&gt; | 07/07/2021 &lt;dbl&gt; | 08/07/2021 &lt;dbl&gt; | 09/07/2021 &lt;dbl&gt; | 12/07/2021 &lt;dbl&gt; | 13/07/2021 &lt;dbl&gt; |\n|---|---|---|---|---|---|---|---|---|---|---|---|---|---|---|---|---|---|---|---|---|---|\n| AXP | 0.005337174 |  0.036993343 | -0.011376564 |  0.0009863554 | -0.005912301 |  0.004625805 |  0.0064134188 |  0.011274510 | -0.01316852 |  0.037658616 | ⋯ | 0.005966514 |  0.0103492102 |  0.009344675 |  0.006290801 |  0.008374617 | -0.020353258 | 0.02650746 |  0.009654531 | -0.005645161 | -0.0005793071 |\n| AMGN | 0.004853084 |  0.024104320 |  0.003301179 |  0.0191009315 | -0.003857604 | -0.004125100 |  0.0048607295 |  0.016488601 |  0.01584871 |  0.011324290 | ⋯ | 0.005320465 |  0.0129230769 |  0.007290401 | -0.020305589 | -0.001764827 |  0.004358194 | 0.00376617 | -0.003384992 |  0.001882391 | -0.0005309807 |\n| AAPL | 0.012363805 | -0.033661553 |  0.034123223 |  0.0086312252 | -0.023248769 | -0.001395565 |  0.0162267081 | -0.015127206 | -0.01373051 |  0.005427088 | ⋯ | 0.004621140 |  0.0022634346 |  0.019596416 |  0.014718491 |  0.017955218 | -0.009199696 | 0.01305501 | -0.004203708 |  0.007889273 |  0.0241005218 |\n| BA | 0.043952249 | -0.002835137 |  0.007960953 | -0.0132104744 | -0.014816579 |  0.007834035 | -0.0057578811 |  0.013030259 | -0.02663046 |  0.031274471 | ⋯ | 0.016118086 |  0.0007096343 | -0.012722646 | -0.002281562 | -0.018463623 |  0.021529036 | 0.01191029 | -0.005425936 | -0.042343363 | -0.0164329535 |\n| CAT | 0.008180071 |  0.055652363 |  0.001908594 |  0.0001544561 | -0.002059096 |  0.018982771 | -0.0083527387 |  0.007708408 | -0.01408308 | -0.002877402 | ⋯ | 0.011761971 | -0.0042273584 |  0.004845185 | -0.019470977 |  0.005479580 | -0.012017327 | 0.02503418 |  0.005335296 | -0.015509196 | -0.0164970491 |\n| CVX | 0.027033408 |  0.032183908 |  0.004677060 |  0.0095322545 |  0.005709267 |  0.018995633 | -0.0009642168 |  0.024021448 | -0.03560582 |  0.026278640 | ⋯ | 0.009444873 |  0.0140347527 | -0.001318143 | -0.019609692 | -0.010193288 | -0.003206062 | 0.01432749 |  0.002017873 | -0.003356348 | -0.0188588473 |\n\n",
            "text/html": [
              "<table class=\"dataframe\">\n",
              "<caption>A data.frame: 6 × 132</caption>\n",
              "<thead>\n",
              "\t<tr><th></th><th scope=col>04/01/2021</th><th scope=col>05/01/2021</th><th scope=col>06/01/2021</th><th scope=col>07/01/2021</th><th scope=col>08/01/2021</th><th scope=col>11/01/2021</th><th scope=col>12/01/2021</th><th scope=col>13/01/2021</th><th scope=col>14/01/2021</th><th scope=col>15/01/2021</th><th scope=col>⋯</th><th scope=col>29/06/2021</th><th scope=col>30/06/2021</th><th scope=col>01/07/2021</th><th scope=col>02/07/2021</th><th scope=col>06/07/2021</th><th scope=col>07/07/2021</th><th scope=col>08/07/2021</th><th scope=col>09/07/2021</th><th scope=col>12/07/2021</th><th scope=col>13/07/2021</th></tr>\n",
              "\t<tr><th></th><th scope=col>&lt;dbl&gt;</th><th scope=col>&lt;dbl&gt;</th><th scope=col>&lt;dbl&gt;</th><th scope=col>&lt;dbl&gt;</th><th scope=col>&lt;dbl&gt;</th><th scope=col>&lt;dbl&gt;</th><th scope=col>&lt;dbl&gt;</th><th scope=col>&lt;dbl&gt;</th><th scope=col>&lt;dbl&gt;</th><th scope=col>&lt;dbl&gt;</th><th scope=col>⋯</th><th scope=col>&lt;dbl&gt;</th><th scope=col>&lt;dbl&gt;</th><th scope=col>&lt;dbl&gt;</th><th scope=col>&lt;dbl&gt;</th><th scope=col>&lt;dbl&gt;</th><th scope=col>&lt;dbl&gt;</th><th scope=col>&lt;dbl&gt;</th><th scope=col>&lt;dbl&gt;</th><th scope=col>&lt;dbl&gt;</th><th scope=col>&lt;dbl&gt;</th></tr>\n",
              "</thead>\n",
              "<tbody>\n",
              "\t<tr><th scope=row>AXP</th><td>0.005337174</td><td> 0.036993343</td><td>-0.011376564</td><td> 0.0009863554</td><td>-0.005912301</td><td> 0.004625805</td><td> 0.0064134188</td><td> 0.011274510</td><td>-0.01316852</td><td> 0.037658616</td><td>⋯</td><td>0.005966514</td><td> 0.0103492102</td><td> 0.009344675</td><td> 0.006290801</td><td> 0.008374617</td><td>-0.020353258</td><td>0.02650746</td><td> 0.009654531</td><td>-0.005645161</td><td>-0.0005793071</td></tr>\n",
              "\t<tr><th scope=row>AMGN</th><td>0.004853084</td><td> 0.024104320</td><td> 0.003301179</td><td> 0.0191009315</td><td>-0.003857604</td><td>-0.004125100</td><td> 0.0048607295</td><td> 0.016488601</td><td> 0.01584871</td><td> 0.011324290</td><td>⋯</td><td>0.005320465</td><td> 0.0129230769</td><td> 0.007290401</td><td>-0.020305589</td><td>-0.001764827</td><td> 0.004358194</td><td>0.00376617</td><td>-0.003384992</td><td> 0.001882391</td><td>-0.0005309807</td></tr>\n",
              "\t<tr><th scope=row>AAPL</th><td>0.012363805</td><td>-0.033661553</td><td> 0.034123223</td><td> 0.0086312252</td><td>-0.023248769</td><td>-0.001395565</td><td> 0.0162267081</td><td>-0.015127206</td><td>-0.01373051</td><td> 0.005427088</td><td>⋯</td><td>0.004621140</td><td> 0.0022634346</td><td> 0.019596416</td><td> 0.014718491</td><td> 0.017955218</td><td>-0.009199696</td><td>0.01305501</td><td>-0.004203708</td><td> 0.007889273</td><td> 0.0241005218</td></tr>\n",
              "\t<tr><th scope=row>BA</th><td>0.043952249</td><td>-0.002835137</td><td> 0.007960953</td><td>-0.0132104744</td><td>-0.014816579</td><td> 0.007834035</td><td>-0.0057578811</td><td> 0.013030259</td><td>-0.02663046</td><td> 0.031274471</td><td>⋯</td><td>0.016118086</td><td> 0.0007096343</td><td>-0.012722646</td><td>-0.002281562</td><td>-0.018463623</td><td> 0.021529036</td><td>0.01191029</td><td>-0.005425936</td><td>-0.042343363</td><td>-0.0164329535</td></tr>\n",
              "\t<tr><th scope=row>CAT</th><td>0.008180071</td><td> 0.055652363</td><td> 0.001908594</td><td> 0.0001544561</td><td>-0.002059096</td><td> 0.018982771</td><td>-0.0083527387</td><td> 0.007708408</td><td>-0.01408308</td><td>-0.002877402</td><td>⋯</td><td>0.011761971</td><td>-0.0042273584</td><td> 0.004845185</td><td>-0.019470977</td><td> 0.005479580</td><td>-0.012017327</td><td>0.02503418</td><td> 0.005335296</td><td>-0.015509196</td><td>-0.0164970491</td></tr>\n",
              "\t<tr><th scope=row>CVX</th><td>0.027033408</td><td> 0.032183908</td><td> 0.004677060</td><td> 0.0095322545</td><td> 0.005709267</td><td> 0.018995633</td><td>-0.0009642168</td><td> 0.024021448</td><td>-0.03560582</td><td> 0.026278640</td><td>⋯</td><td>0.009444873</td><td> 0.0140347527</td><td>-0.001318143</td><td>-0.019609692</td><td>-0.010193288</td><td>-0.003206062</td><td>0.01432749</td><td> 0.002017873</td><td>-0.003356348</td><td>-0.0188588473</td></tr>\n",
              "</tbody>\n",
              "</table>\n"
            ]
          },
          "metadata": {
            "tags": []
          }
        }
      ]
    },
    {
      "cell_type": "markdown",
      "metadata": {
        "id": "aJmcOjYo1H0m"
      },
      "source": [
        "### **Algoritmo PCA** "
      ]
    },
    {
      "cell_type": "markdown",
      "metadata": {
        "id": "xZSG-r2g1S8c"
      },
      "source": [
        "Se usa la libreria ```FactoMineR``` para plantear el Analsis de componentes principales sobre los datos importados."
      ]
    },
    {
      "cell_type": "code",
      "metadata": {
        "id": "X3uA3eGjP9VY"
      },
      "source": [
        "res.pca = FactoMineR::PCA(datos, scale.unit = TRUE, graph = F)"
      ],
      "execution_count": 7,
      "outputs": []
    },
    {
      "cell_type": "markdown",
      "metadata": {
        "id": "UMFHspLc2f1T"
      },
      "source": [
        "Se visualiza la proporción de varianza explicada por cada una de las componentes y así mismo el acumulado de estas."
      ]
    },
    {
      "cell_type": "code",
      "metadata": {
        "colab": {
          "base_uri": "https://localhost:8080/",
          "height": 851
        },
        "id": "GXdJInGA2XfR",
        "outputId": "caf9d7f9-42dd-4420-a98a-d4eecb967bd7"
      },
      "source": [
        "res.pca$eig"
      ],
      "execution_count": 8,
      "outputs": [
        {
          "output_type": "display_data",
          "data": {
            "text/plain": [
              "        eigenvalue percentage of variance cumulative percentage of variance\n",
              "comp 1  26.456991  20.0431751              20.04318                        \n",
              "comp 2  16.727893  12.6726465              32.71582                        \n",
              "comp 3  11.006268   8.3380821              41.05390                        \n",
              "comp 4   8.690063   6.5833812              47.63728                        \n",
              "comp 5   7.300507   5.5306872              53.16797                        \n",
              "comp 6   7.119181   5.3933188              58.56129                        \n",
              "comp 7   6.138181   4.6501375              63.21143                        \n",
              "comp 8   5.531005   4.1901551              67.40158                        \n",
              "comp 9   5.127592   3.8845392              71.28612                        \n",
              "comp 10  4.410145   3.3410186              74.62714                        \n",
              "comp 11  4.203257   3.1842858              77.81143                        \n",
              "comp 12  3.284853   2.4885249              80.29995                        \n",
              "comp 13  3.038326   2.3017624              82.60171                        \n",
              "comp 14  2.949050   2.2341290              84.83584                        \n",
              "comp 15  2.698008   2.0439451              86.87979                        \n",
              "comp 16  2.273104   1.7220482              88.60184                        \n",
              "comp 17  2.139501   1.6208342              90.22267                        \n",
              "comp 18  2.049405   1.5525798              91.77525                        \n",
              "comp 19  1.944307   1.4729601              93.24821                        \n",
              "comp 20  1.720812   1.3036458              94.55186                        \n",
              "comp 21  1.480356   1.1214821              95.67334                        \n",
              "comp 22  1.444625   1.0944130              96.76775                        \n",
              "comp 23  1.284062   0.9727745              97.74053                        \n",
              "comp 24  1.140191   0.8637810              98.60431                        \n",
              "comp 25  1.067374   0.8086169              99.41292                        \n",
              "comp 26  0.774940   0.5870758             100.00000                        "
            ],
            "text/latex": "A matrix: 26 × 3 of type dbl\n\\begin{tabular}{r|lll}\n  & eigenvalue & percentage of variance & cumulative percentage of variance\\\\\n\\hline\n\tcomp 1 & 26.456991 & 20.0431751 &  20.04318\\\\\n\tcomp 2 & 16.727893 & 12.6726465 &  32.71582\\\\\n\tcomp 3 & 11.006268 &  8.3380821 &  41.05390\\\\\n\tcomp 4 &  8.690063 &  6.5833812 &  47.63728\\\\\n\tcomp 5 &  7.300507 &  5.5306872 &  53.16797\\\\\n\tcomp 6 &  7.119181 &  5.3933188 &  58.56129\\\\\n\tcomp 7 &  6.138181 &  4.6501375 &  63.21143\\\\\n\tcomp 8 &  5.531005 &  4.1901551 &  67.40158\\\\\n\tcomp 9 &  5.127592 &  3.8845392 &  71.28612\\\\\n\tcomp 10 &  4.410145 &  3.3410186 &  74.62714\\\\\n\tcomp 11 &  4.203257 &  3.1842858 &  77.81143\\\\\n\tcomp 12 &  3.284853 &  2.4885249 &  80.29995\\\\\n\tcomp 13 &  3.038326 &  2.3017624 &  82.60171\\\\\n\tcomp 14 &  2.949050 &  2.2341290 &  84.83584\\\\\n\tcomp 15 &  2.698008 &  2.0439451 &  86.87979\\\\\n\tcomp 16 &  2.273104 &  1.7220482 &  88.60184\\\\\n\tcomp 17 &  2.139501 &  1.6208342 &  90.22267\\\\\n\tcomp 18 &  2.049405 &  1.5525798 &  91.77525\\\\\n\tcomp 19 &  1.944307 &  1.4729601 &  93.24821\\\\\n\tcomp 20 &  1.720812 &  1.3036458 &  94.55186\\\\\n\tcomp 21 &  1.480356 &  1.1214821 &  95.67334\\\\\n\tcomp 22 &  1.444625 &  1.0944130 &  96.76775\\\\\n\tcomp 23 &  1.284062 &  0.9727745 &  97.74053\\\\\n\tcomp 24 &  1.140191 &  0.8637810 &  98.60431\\\\\n\tcomp 25 &  1.067374 &  0.8086169 &  99.41292\\\\\n\tcomp 26 &  0.774940 &  0.5870758 & 100.00000\\\\\n\\end{tabular}\n",
            "text/markdown": "\nA matrix: 26 × 3 of type dbl\n\n| <!--/--> | eigenvalue | percentage of variance | cumulative percentage of variance |\n|---|---|---|---|\n| comp 1 | 26.456991 | 20.0431751 |  20.04318 |\n| comp 2 | 16.727893 | 12.6726465 |  32.71582 |\n| comp 3 | 11.006268 |  8.3380821 |  41.05390 |\n| comp 4 |  8.690063 |  6.5833812 |  47.63728 |\n| comp 5 |  7.300507 |  5.5306872 |  53.16797 |\n| comp 6 |  7.119181 |  5.3933188 |  58.56129 |\n| comp 7 |  6.138181 |  4.6501375 |  63.21143 |\n| comp 8 |  5.531005 |  4.1901551 |  67.40158 |\n| comp 9 |  5.127592 |  3.8845392 |  71.28612 |\n| comp 10 |  4.410145 |  3.3410186 |  74.62714 |\n| comp 11 |  4.203257 |  3.1842858 |  77.81143 |\n| comp 12 |  3.284853 |  2.4885249 |  80.29995 |\n| comp 13 |  3.038326 |  2.3017624 |  82.60171 |\n| comp 14 |  2.949050 |  2.2341290 |  84.83584 |\n| comp 15 |  2.698008 |  2.0439451 |  86.87979 |\n| comp 16 |  2.273104 |  1.7220482 |  88.60184 |\n| comp 17 |  2.139501 |  1.6208342 |  90.22267 |\n| comp 18 |  2.049405 |  1.5525798 |  91.77525 |\n| comp 19 |  1.944307 |  1.4729601 |  93.24821 |\n| comp 20 |  1.720812 |  1.3036458 |  94.55186 |\n| comp 21 |  1.480356 |  1.1214821 |  95.67334 |\n| comp 22 |  1.444625 |  1.0944130 |  96.76775 |\n| comp 23 |  1.284062 |  0.9727745 |  97.74053 |\n| comp 24 |  1.140191 |  0.8637810 |  98.60431 |\n| comp 25 |  1.067374 |  0.8086169 |  99.41292 |\n| comp 26 |  0.774940 |  0.5870758 | 100.00000 |\n\n",
            "text/html": [
              "<table class=\"dataframe\">\n",
              "<caption>A matrix: 26 × 3 of type dbl</caption>\n",
              "<thead>\n",
              "\t<tr><th></th><th scope=col>eigenvalue</th><th scope=col>percentage of variance</th><th scope=col>cumulative percentage of variance</th></tr>\n",
              "</thead>\n",
              "<tbody>\n",
              "\t<tr><th scope=row>comp 1</th><td>26.456991</td><td>20.0431751</td><td> 20.04318</td></tr>\n",
              "\t<tr><th scope=row>comp 2</th><td>16.727893</td><td>12.6726465</td><td> 32.71582</td></tr>\n",
              "\t<tr><th scope=row>comp 3</th><td>11.006268</td><td> 8.3380821</td><td> 41.05390</td></tr>\n",
              "\t<tr><th scope=row>comp 4</th><td> 8.690063</td><td> 6.5833812</td><td> 47.63728</td></tr>\n",
              "\t<tr><th scope=row>comp 5</th><td> 7.300507</td><td> 5.5306872</td><td> 53.16797</td></tr>\n",
              "\t<tr><th scope=row>comp 6</th><td> 7.119181</td><td> 5.3933188</td><td> 58.56129</td></tr>\n",
              "\t<tr><th scope=row>comp 7</th><td> 6.138181</td><td> 4.6501375</td><td> 63.21143</td></tr>\n",
              "\t<tr><th scope=row>comp 8</th><td> 5.531005</td><td> 4.1901551</td><td> 67.40158</td></tr>\n",
              "\t<tr><th scope=row>comp 9</th><td> 5.127592</td><td> 3.8845392</td><td> 71.28612</td></tr>\n",
              "\t<tr><th scope=row>comp 10</th><td> 4.410145</td><td> 3.3410186</td><td> 74.62714</td></tr>\n",
              "\t<tr><th scope=row>comp 11</th><td> 4.203257</td><td> 3.1842858</td><td> 77.81143</td></tr>\n",
              "\t<tr><th scope=row>comp 12</th><td> 3.284853</td><td> 2.4885249</td><td> 80.29995</td></tr>\n",
              "\t<tr><th scope=row>comp 13</th><td> 3.038326</td><td> 2.3017624</td><td> 82.60171</td></tr>\n",
              "\t<tr><th scope=row>comp 14</th><td> 2.949050</td><td> 2.2341290</td><td> 84.83584</td></tr>\n",
              "\t<tr><th scope=row>comp 15</th><td> 2.698008</td><td> 2.0439451</td><td> 86.87979</td></tr>\n",
              "\t<tr><th scope=row>comp 16</th><td> 2.273104</td><td> 1.7220482</td><td> 88.60184</td></tr>\n",
              "\t<tr><th scope=row>comp 17</th><td> 2.139501</td><td> 1.6208342</td><td> 90.22267</td></tr>\n",
              "\t<tr><th scope=row>comp 18</th><td> 2.049405</td><td> 1.5525798</td><td> 91.77525</td></tr>\n",
              "\t<tr><th scope=row>comp 19</th><td> 1.944307</td><td> 1.4729601</td><td> 93.24821</td></tr>\n",
              "\t<tr><th scope=row>comp 20</th><td> 1.720812</td><td> 1.3036458</td><td> 94.55186</td></tr>\n",
              "\t<tr><th scope=row>comp 21</th><td> 1.480356</td><td> 1.1214821</td><td> 95.67334</td></tr>\n",
              "\t<tr><th scope=row>comp 22</th><td> 1.444625</td><td> 1.0944130</td><td> 96.76775</td></tr>\n",
              "\t<tr><th scope=row>comp 23</th><td> 1.284062</td><td> 0.9727745</td><td> 97.74053</td></tr>\n",
              "\t<tr><th scope=row>comp 24</th><td> 1.140191</td><td> 0.8637810</td><td> 98.60431</td></tr>\n",
              "\t<tr><th scope=row>comp 25</th><td> 1.067374</td><td> 0.8086169</td><td> 99.41292</td></tr>\n",
              "\t<tr><th scope=row>comp 26</th><td> 0.774940</td><td> 0.5870758</td><td>100.00000</td></tr>\n",
              "</tbody>\n",
              "</table>\n"
            ]
          },
          "metadata": {
            "tags": []
          }
        }
      ]
    },
    {
      "cell_type": "code",
      "metadata": {
        "colab": {
          "base_uri": "https://localhost:8080/",
          "height": 437
        },
        "id": "w27qWB--TLX8",
        "outputId": "90081c01-81fb-4b68-f670-d4e199518287"
      },
      "source": [
        "grafica<-factoextra::fviz_screeplot(res.pca, ncp = 6,\n",
        "                                    linecolor=\"red\",addlabels=TRUE, hjust = -0.3,\n",
        "                                    main=\"Proporcion Varianza Explicada\",\n",
        "                                    x=\"Componentes Principales\",y=\"% Varianza Explicada\",\n",
        "                                    )                                     \n",
        "grafica + theme_classic()"
      ],
      "execution_count": 9,
      "outputs": [
        {
          "output_type": "display_data",
          "data": {
            "image/png": "[encoded data removed]",
            "text/plain": [
              "plot without title"
            ]
          },
          "metadata": {
            "tags": [],
            "image/png": {
              "width": 420,
              "height": 420
            }
          }
        }
      ]
    },
    {
      "cell_type": "code",
      "metadata": {
        "colab": {
          "base_uri": "https://localhost:8080/",
          "height": 437
        },
        "id": "5_LMu_iGSo13",
        "outputId": "5f167d7d-b0a7-4e86-f4ce-334007937bdb"
      },
      "source": [
        "FactoMineR::plot.PCA(res.pca, axes = c(1,2), choix = \"ind\")"
      ],
      "execution_count": 10,
      "outputs": [
        {
          "output_type": "display_data",
          "data": {
            "image/png": "[encoded data removed]",
            "text/plain": [
              "plot without title"
            ]
          },
          "metadata": {
            "tags": [],
            "image/png": {
              "width": 420,
              "height": 420
            }
          }
        }
      ]
    },
    {
      "cell_type": "code",
      "metadata": {
        "id": "ZHfFs1u3WTsf",
        "colab": {
          "base_uri": "https://localhost:8080/",
          "height": 881
        },
        "outputId": "f764f42c-0352-43c7-c9f9-21071e3d2421"
      },
      "source": [
        "res.pca$ind$coord"
      ],
      "execution_count": 11,
      "outputs": [
        {
          "output_type": "display_data",
          "data": {
            "text/plain": [
              "     Dim.1      Dim.2       Dim.3       Dim.4       Dim.5       \n",
              "AXP  -6.0069314  3.72331643   4.0081355  0.01334456 -1.237790343\n",
              "AMGN  3.7071016 -4.54644552  -1.9010737  2.31513449 -2.495433123\n",
              "AAPL  9.0831060  4.79340250  -0.5124284  1.41001259  3.423083203\n",
              "BA   -7.9471523  8.33705021 -10.4700414 -5.31614870 -2.426067046\n",
              "CAT  -7.1964256 -0.02533068   0.6044036  1.59427800 -1.853043777\n",
              "CVX  -7.0062529  0.55562307   1.4855310  5.77335581 -3.031308483\n",
              "CSCO  3.0514460 -0.75392590   0.8222927  0.26847107  1.001938089\n",
              "KO    2.6328123 -2.83210480   1.3413062 -0.86500651 -1.837225167\n",
              "DIS  -2.1522392  1.96904440   1.3489331 -5.72328773 -2.641578841\n",
              "DOW  -8.4648316  0.20236238   3.6011825  3.39685322  3.058585475\n",
              "GS   -8.0530544  1.00008969   1.4729193 -0.89905599  3.356555661\n",
              "HD    2.0751745 -2.19485129   1.2766899 -3.09049072  4.201970187\n",
              "HON  -2.1872958  0.21118107   0.9696089 -0.75118229  0.144627848\n",
              "INTC  3.9797286  9.29886605  -1.9851731  7.66133382 -0.568958176\n",
              "JNJ   2.4149206 -4.85460371  -0.7359778  0.38650367 -1.841731210\n",
              "JPM  -5.5372006  0.05766020   1.7271023  0.38194899  2.365940842\n",
              "MCD   2.3964445 -1.98791292  -0.1395958 -2.64890297 -1.069812708\n",
              "MRK   2.1324131 -6.76558458  -0.7881233  2.98448891 -2.973156417\n",
              "MSFT  8.0665708  3.64024792  -0.5403073  0.44482659  1.494317121\n",
              "NKE   2.8451248  0.87913483   4.5509741 -3.79420615  4.918981629\n",
              "PG    3.0237134 -4.15999278  -0.5795092 -1.36026617 -2.365977287\n",
              "CRM   8.4246525  5.97699023   0.4866127 -0.20547894 -2.374904714\n",
              "TRV  -3.4728115 -0.94613553   2.6667659 -0.59850300 -0.704684547\n",
              "VZ    0.4296302 -4.98494299   0.6492365 -0.91665942 -3.043407346\n",
              "V     3.8856123  2.31014796   3.0515152 -0.91615138 -0.033951298\n",
              "WBA  -2.0934479 -6.50389744  -9.3269865  2.83193705  6.538148516\n",
              "WMT   1.9691920 -2.39938880  -3.0839929 -2.37714880 -0.005118087"
            ],
            "text/latex": "A matrix: 27 × 5 of type dbl\n\\begin{tabular}{r|lllll}\n  & Dim.1 & Dim.2 & Dim.3 & Dim.4 & Dim.5\\\\\n\\hline\n\tAXP & -6.0069314 &  3.72331643 &   4.0081355 &  0.01334456 & -1.237790343\\\\\n\tAMGN &  3.7071016 & -4.54644552 &  -1.9010737 &  2.31513449 & -2.495433123\\\\\n\tAAPL &  9.0831060 &  4.79340250 &  -0.5124284 &  1.41001259 &  3.423083203\\\\\n\tBA & -7.9471523 &  8.33705021 & -10.4700414 & -5.31614870 & -2.426067046\\\\\n\tCAT & -7.1964256 & -0.02533068 &   0.6044036 &  1.59427800 & -1.853043777\\\\\n\tCVX & -7.0062529 &  0.55562307 &   1.4855310 &  5.77335581 & -3.031308483\\\\\n\tCSCO &  3.0514460 & -0.75392590 &   0.8222927 &  0.26847107 &  1.001938089\\\\\n\tKO &  2.6328123 & -2.83210480 &   1.3413062 & -0.86500651 & -1.837225167\\\\\n\tDIS & -2.1522392 &  1.96904440 &   1.3489331 & -5.72328773 & -2.641578841\\\\\n\tDOW & -8.4648316 &  0.20236238 &   3.6011825 &  3.39685322 &  3.058585475\\\\\n\tGS & -8.0530544 &  1.00008969 &   1.4729193 & -0.89905599 &  3.356555661\\\\\n\tHD &  2.0751745 & -2.19485129 &   1.2766899 & -3.09049072 &  4.201970187\\\\\n\tHON & -2.1872958 &  0.21118107 &   0.9696089 & -0.75118229 &  0.144627848\\\\\n\tINTC &  3.9797286 &  9.29886605 &  -1.9851731 &  7.66133382 & -0.568958176\\\\\n\tJNJ &  2.4149206 & -4.85460371 &  -0.7359778 &  0.38650367 & -1.841731210\\\\\n\tJPM & -5.5372006 &  0.05766020 &   1.7271023 &  0.38194899 &  2.365940842\\\\\n\tMCD &  2.3964445 & -1.98791292 &  -0.1395958 & -2.64890297 & -1.069812708\\\\\n\tMRK &  2.1324131 & -6.76558458 &  -0.7881233 &  2.98448891 & -2.973156417\\\\\n\tMSFT &  8.0665708 &  3.64024792 &  -0.5403073 &  0.44482659 &  1.494317121\\\\\n\tNKE &  2.8451248 &  0.87913483 &   4.5509741 & -3.79420615 &  4.918981629\\\\\n\tPG &  3.0237134 & -4.15999278 &  -0.5795092 & -1.36026617 & -2.365977287\\\\\n\tCRM &  8.4246525 &  5.97699023 &   0.4866127 & -0.20547894 & -2.374904714\\\\\n\tTRV & -3.4728115 & -0.94613553 &   2.6667659 & -0.59850300 & -0.704684547\\\\\n\tVZ &  0.4296302 & -4.98494299 &   0.6492365 & -0.91665942 & -3.043407346\\\\\n\tV &  3.8856123 &  2.31014796 &   3.0515152 & -0.91615138 & -0.033951298\\\\\n\tWBA & -2.0934479 & -6.50389744 &  -9.3269865 &  2.83193705 &  6.538148516\\\\\n\tWMT &  1.9691920 & -2.39938880 &  -3.0839929 & -2.37714880 & -0.005118087\\\\\n\\end{tabular}\n",
            "text/markdown": "\nA matrix: 27 × 5 of type dbl\n\n| <!--/--> | Dim.1 | Dim.2 | Dim.3 | Dim.4 | Dim.5 |\n|---|---|---|---|---|---|\n| AXP | -6.0069314 |  3.72331643 |   4.0081355 |  0.01334456 | -1.237790343 |\n| AMGN |  3.7071016 | -4.54644552 |  -1.9010737 |  2.31513449 | -2.495433123 |\n| AAPL |  9.0831060 |  4.79340250 |  -0.5124284 |  1.41001259 |  3.423083203 |\n| BA | -7.9471523 |  8.33705021 | -10.4700414 | -5.31614870 | -2.426067046 |\n| CAT | -7.1964256 | -0.02533068 |   0.6044036 |  1.59427800 | -1.853043777 |\n| CVX | -7.0062529 |  0.55562307 |   1.4855310 |  5.77335581 | -3.031308483 |\n| CSCO |  3.0514460 | -0.75392590 |   0.8222927 |  0.26847107 |  1.001938089 |\n| KO |  2.6328123 | -2.83210480 |   1.3413062 | -0.86500651 | -1.837225167 |\n| DIS | -2.1522392 |  1.96904440 |   1.3489331 | -5.72328773 | -2.641578841 |\n| DOW | -8.4648316 |  0.20236238 |   3.6011825 |  3.39685322 |  3.058585475 |\n| GS | -8.0530544 |  1.00008969 |   1.4729193 | -0.89905599 |  3.356555661 |\n| HD |  2.0751745 | -2.19485129 |   1.2766899 | -3.09049072 |  4.201970187 |\n| HON | -2.1872958 |  0.21118107 |   0.9696089 | -0.75118229 |  0.144627848 |\n| INTC |  3.9797286 |  9.29886605 |  -1.9851731 |  7.66133382 | -0.568958176 |\n| JNJ |  2.4149206 | -4.85460371 |  -0.7359778 |  0.38650367 | -1.841731210 |\n| JPM | -5.5372006 |  0.05766020 |   1.7271023 |  0.38194899 |  2.365940842 |\n| MCD |  2.3964445 | -1.98791292 |  -0.1395958 | -2.64890297 | -1.069812708 |\n| MRK |  2.1324131 | -6.76558458 |  -0.7881233 |  2.98448891 | -2.973156417 |\n| MSFT |  8.0665708 |  3.64024792 |  -0.5403073 |  0.44482659 |  1.494317121 |\n| NKE |  2.8451248 |  0.87913483 |   4.5509741 | -3.79420615 |  4.918981629 |\n| PG |  3.0237134 | -4.15999278 |  -0.5795092 | -1.36026617 | -2.365977287 |\n| CRM |  8.4246525 |  5.97699023 |   0.4866127 | -0.20547894 | -2.374904714 |\n| TRV | -3.4728115 | -0.94613553 |   2.6667659 | -0.59850300 | -0.704684547 |\n| VZ |  0.4296302 | -4.98494299 |   0.6492365 | -0.91665942 | -3.043407346 |\n| V |  3.8856123 |  2.31014796 |   3.0515152 | -0.91615138 | -0.033951298 |\n| WBA | -2.0934479 | -6.50389744 |  -9.3269865 |  2.83193705 |  6.538148516 |\n| WMT |  1.9691920 | -2.39938880 |  -3.0839929 | -2.37714880 | -0.005118087 |\n\n",
            "text/html": [
              "<table class=\"dataframe\">\n",
              "<caption>A matrix: 27 × 5 of type dbl</caption>\n",
              "<thead>\n",
              "\t<tr><th></th><th scope=col>Dim.1</th><th scope=col>Dim.2</th><th scope=col>Dim.3</th><th scope=col>Dim.4</th><th scope=col>Dim.5</th></tr>\n",
              "</thead>\n",
              "<tbody>\n",
              "\t<tr><th scope=row>AXP</th><td>-6.0069314</td><td> 3.72331643</td><td>  4.0081355</td><td> 0.01334456</td><td>-1.237790343</td></tr>\n",
              "\t<tr><th scope=row>AMGN</th><td> 3.7071016</td><td>-4.54644552</td><td> -1.9010737</td><td> 2.31513449</td><td>-2.495433123</td></tr>\n",
              "\t<tr><th scope=row>AAPL</th><td> 9.0831060</td><td> 4.79340250</td><td> -0.5124284</td><td> 1.41001259</td><td> 3.423083203</td></tr>\n",
              "\t<tr><th scope=row>BA</th><td>-7.9471523</td><td> 8.33705021</td><td>-10.4700414</td><td>-5.31614870</td><td>-2.426067046</td></tr>\n",
              "\t<tr><th scope=row>CAT</th><td>-7.1964256</td><td>-0.02533068</td><td>  0.6044036</td><td> 1.59427800</td><td>-1.853043777</td></tr>\n",
              "\t<tr><th scope=row>CVX</th><td>-7.0062529</td><td> 0.55562307</td><td>  1.4855310</td><td> 5.77335581</td><td>-3.031308483</td></tr>\n",
              "\t<tr><th scope=row>CSCO</th><td> 3.0514460</td><td>-0.75392590</td><td>  0.8222927</td><td> 0.26847107</td><td> 1.001938089</td></tr>\n",
              "\t<tr><th scope=row>KO</th><td> 2.6328123</td><td>-2.83210480</td><td>  1.3413062</td><td>-0.86500651</td><td>-1.837225167</td></tr>\n",
              "\t<tr><th scope=row>DIS</th><td>-2.1522392</td><td> 1.96904440</td><td>  1.3489331</td><td>-5.72328773</td><td>-2.641578841</td></tr>\n",
              "\t<tr><th scope=row>DOW</th><td>-8.4648316</td><td> 0.20236238</td><td>  3.6011825</td><td> 3.39685322</td><td> 3.058585475</td></tr>\n",
              "\t<tr><th scope=row>GS</th><td>-8.0530544</td><td> 1.00008969</td><td>  1.4729193</td><td>-0.89905599</td><td> 3.356555661</td></tr>\n",
              "\t<tr><th scope=row>HD</th><td> 2.0751745</td><td>-2.19485129</td><td>  1.2766899</td><td>-3.09049072</td><td> 4.201970187</td></tr>\n",
              "\t<tr><th scope=row>HON</th><td>-2.1872958</td><td> 0.21118107</td><td>  0.9696089</td><td>-0.75118229</td><td> 0.144627848</td></tr>\n",
              "\t<tr><th scope=row>INTC</th><td> 3.9797286</td><td> 9.29886605</td><td> -1.9851731</td><td> 7.66133382</td><td>-0.568958176</td></tr>\n",
              "\t<tr><th scope=row>JNJ</th><td> 2.4149206</td><td>-4.85460371</td><td> -0.7359778</td><td> 0.38650367</td><td>-1.841731210</td></tr>\n",
              "\t<tr><th scope=row>JPM</th><td>-5.5372006</td><td> 0.05766020</td><td>  1.7271023</td><td> 0.38194899</td><td> 2.365940842</td></tr>\n",
              "\t<tr><th scope=row>MCD</th><td> 2.3964445</td><td>-1.98791292</td><td> -0.1395958</td><td>-2.64890297</td><td>-1.069812708</td></tr>\n",
              "\t<tr><th scope=row>MRK</th><td> 2.1324131</td><td>-6.76558458</td><td> -0.7881233</td><td> 2.98448891</td><td>-2.973156417</td></tr>\n",
              "\t<tr><th scope=row>MSFT</th><td> 8.0665708</td><td> 3.64024792</td><td> -0.5403073</td><td> 0.44482659</td><td> 1.494317121</td></tr>\n",
              "\t<tr><th scope=row>NKE</th><td> 2.8451248</td><td> 0.87913483</td><td>  4.5509741</td><td>-3.79420615</td><td> 4.918981629</td></tr>\n",
              "\t<tr><th scope=row>PG</th><td> 3.0237134</td><td>-4.15999278</td><td> -0.5795092</td><td>-1.36026617</td><td>-2.365977287</td></tr>\n",
              "\t<tr><th scope=row>CRM</th><td> 8.4246525</td><td> 5.97699023</td><td>  0.4866127</td><td>-0.20547894</td><td>-2.374904714</td></tr>\n",
              "\t<tr><th scope=row>TRV</th><td>-3.4728115</td><td>-0.94613553</td><td>  2.6667659</td><td>-0.59850300</td><td>-0.704684547</td></tr>\n",
              "\t<tr><th scope=row>VZ</th><td> 0.4296302</td><td>-4.98494299</td><td>  0.6492365</td><td>-0.91665942</td><td>-3.043407346</td></tr>\n",
              "\t<tr><th scope=row>V</th><td> 3.8856123</td><td> 2.31014796</td><td>  3.0515152</td><td>-0.91615138</td><td>-0.033951298</td></tr>\n",
              "\t<tr><th scope=row>WBA</th><td>-2.0934479</td><td>-6.50389744</td><td> -9.3269865</td><td> 2.83193705</td><td> 6.538148516</td></tr>\n",
              "\t<tr><th scope=row>WMT</th><td> 1.9691920</td><td>-2.39938880</td><td> -3.0839929</td><td>-2.37714880</td><td>-0.005118087</td></tr>\n",
              "</tbody>\n",
              "</table>\n"
            ]
          },
          "metadata": {
            "tags": []
          }
        }
      ]
    },
    {
      "cell_type": "code",
      "metadata": {
        "id": "4DRRSXBTONOb"
      },
      "source": [
        ""
      ],
      "execution_count": 12,
      "outputs": []
    },
    {
      "cell_type": "markdown",
      "metadata": {
        "id": "c-yAJS-uOPPf"
      },
      "source": [
        "* Se obtiene una matriz con los valores que representan la cantidad de cada variable dentro de cada dimension, la cual sera usada posteriormente para relizar un modelo supervisado SVM"
      ]
    },
    {
      "cell_type": "code",
      "metadata": {
        "colab": {
          "base_uri": "https://localhost:8080/",
          "height": 246
        },
        "id": "NXx09IcnxLig",
        "outputId": "ccc5005c-c5cc-4f7d-ade7-f2ea249cecab"
      },
      "source": [
        "datos_coord<-res.pca$ind$coord\n",
        "head(datos_coord)"
      ],
      "execution_count": 13,
      "outputs": [
        {
          "output_type": "display_data",
          "data": {
            "text/plain": [
              "     Dim.1     Dim.2       Dim.3       Dim.4       Dim.5    \n",
              "AXP  -6.006931  3.72331643   4.0081355  0.01334456 -1.237790\n",
              "AMGN  3.707102 -4.54644552  -1.9010737  2.31513449 -2.495433\n",
              "AAPL  9.083106  4.79340250  -0.5124284  1.41001259  3.423083\n",
              "BA   -7.947152  8.33705021 -10.4700414 -5.31614870 -2.426067\n",
              "CAT  -7.196426 -0.02533068   0.6044036  1.59427800 -1.853044\n",
              "CVX  -7.006253  0.55562307   1.4855310  5.77335581 -3.031308"
            ],
            "text/latex": "A matrix: 6 × 5 of type dbl\n\\begin{tabular}{r|lllll}\n  & Dim.1 & Dim.2 & Dim.3 & Dim.4 & Dim.5\\\\\n\\hline\n\tAXP & -6.006931 &  3.72331643 &   4.0081355 &  0.01334456 & -1.237790\\\\\n\tAMGN &  3.707102 & -4.54644552 &  -1.9010737 &  2.31513449 & -2.495433\\\\\n\tAAPL &  9.083106 &  4.79340250 &  -0.5124284 &  1.41001259 &  3.423083\\\\\n\tBA & -7.947152 &  8.33705021 & -10.4700414 & -5.31614870 & -2.426067\\\\\n\tCAT & -7.196426 & -0.02533068 &   0.6044036 &  1.59427800 & -1.853044\\\\\n\tCVX & -7.006253 &  0.55562307 &   1.4855310 &  5.77335581 & -3.031308\\\\\n\\end{tabular}\n",
            "text/markdown": "\nA matrix: 6 × 5 of type dbl\n\n| <!--/--> | Dim.1 | Dim.2 | Dim.3 | Dim.4 | Dim.5 |\n|---|---|---|---|---|---|\n| AXP | -6.006931 |  3.72331643 |   4.0081355 |  0.01334456 | -1.237790 |\n| AMGN |  3.707102 | -4.54644552 |  -1.9010737 |  2.31513449 | -2.495433 |\n| AAPL |  9.083106 |  4.79340250 |  -0.5124284 |  1.41001259 |  3.423083 |\n| BA | -7.947152 |  8.33705021 | -10.4700414 | -5.31614870 | -2.426067 |\n| CAT | -7.196426 | -0.02533068 |   0.6044036 |  1.59427800 | -1.853044 |\n| CVX | -7.006253 |  0.55562307 |   1.4855310 |  5.77335581 | -3.031308 |\n\n",
            "text/html": [
              "<table class=\"dataframe\">\n",
              "<caption>A matrix: 6 × 5 of type dbl</caption>\n",
              "<thead>\n",
              "\t<tr><th></th><th scope=col>Dim.1</th><th scope=col>Dim.2</th><th scope=col>Dim.3</th><th scope=col>Dim.4</th><th scope=col>Dim.5</th></tr>\n",
              "</thead>\n",
              "<tbody>\n",
              "\t<tr><th scope=row>AXP</th><td>-6.006931</td><td> 3.72331643</td><td>  4.0081355</td><td> 0.01334456</td><td>-1.237790</td></tr>\n",
              "\t<tr><th scope=row>AMGN</th><td> 3.707102</td><td>-4.54644552</td><td> -1.9010737</td><td> 2.31513449</td><td>-2.495433</td></tr>\n",
              "\t<tr><th scope=row>AAPL</th><td> 9.083106</td><td> 4.79340250</td><td> -0.5124284</td><td> 1.41001259</td><td> 3.423083</td></tr>\n",
              "\t<tr><th scope=row>BA</th><td>-7.947152</td><td> 8.33705021</td><td>-10.4700414</td><td>-5.31614870</td><td>-2.426067</td></tr>\n",
              "\t<tr><th scope=row>CAT</th><td>-7.196426</td><td>-0.02533068</td><td>  0.6044036</td><td> 1.59427800</td><td>-1.853044</td></tr>\n",
              "\t<tr><th scope=row>CVX</th><td>-7.006253</td><td> 0.55562307</td><td>  1.4855310</td><td> 5.77335581</td><td>-3.031308</td></tr>\n",
              "</tbody>\n",
              "</table>\n"
            ]
          },
          "metadata": {
            "tags": []
          }
        }
      ]
    },
    {
      "cell_type": "code",
      "metadata": {
        "id": "Zf3yWbiXOJB-"
      },
      "source": [
        "write.csv(datos_coord,\"Datos_coord.csv\")"
      ],
      "execution_count": 14,
      "outputs": []
    },
    {
      "cell_type": "code",
      "metadata": {
        "id": "iLYiLz7hRFKv"
      },
      "source": [
        "#print(res.pca$var$coord)"
      ],
      "execution_count": 15,
      "outputs": []
    },
    {
      "cell_type": "code",
      "metadata": {
        "id": "lJW0yfwDRdvN"
      },
      "source": [
        ""
      ],
      "execution_count": 16,
      "outputs": []
    }
  ]
}