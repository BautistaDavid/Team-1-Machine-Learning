{
  "nbformat": 4,
  "nbformat_minor": 0,
  "metadata": {
    "colab": {
      "name": "Micronegocios.ipynb",
      "provenance": [],
      "collapsed_sections": [],
      "include_colab_link": true
    },
    "kernelspec": {
      "name": "python3",
      "display_name": "Python 3"
    },
    "language_info": {
      "name": "python"
    }
  },
  "cells": [
    {
      "cell_type": "markdown",
      "metadata": {
        "id": "view-in-github",
        "colab_type": "text"
      },
      "source": [
        "<a href=\"https://colab.research.google.com/github/BautistaDavid/Team-1-Machine-Learning/blob/main/Micronegocios.ipynb\" target=\"_parent\"><img src=\"https://colab.research.google.com/assets/colab-badge.svg\" alt=\"Open In Colab\"/></a>"
      ]
    },
    {
      "cell_type": "markdown",
      "metadata": {
        "id": "U2YMaXVHZOHs"
      },
      "source": [
        "# Analisis Exploratorio Encusta de Micronegocios 2019\n",
        "\n",
        "Analisis Exploratorio de variables estraidas de los Modulos ```identificacion``` y ```ventas_Ingresos``` de la encuesta de Micronegocios 2019 presentada por el DANE.  "
      ]
    },
    {
      "cell_type": "markdown",
      "metadata": {
        "id": "QNPLHLeWh9Vn"
      },
      "source": [
        "## Importación \n",
        "\n",
        "* Se importan la libreria ```pandas``` para poder trabajar con las bases de datos resepectivas.\n",
        "> Notese que se importan las bases de datos usando el argmuneto ```dtype``` para transfromar los dataframes ```\"DIRECTORIO\" ```,``` \"SECUENCIA_ENCUESTA\" ```,```\"SECUENCIA_P\"``` a strings. Lo anterior con el fin de crear una ID para poder realizar un ```merge``` sobre las bases de datos.    "
      ]
    },
    {
      "cell_type": "code",
      "metadata": {
        "id": "cnVAg3UbW0jp"
      },
      "source": [
        "import pandas as pd\n",
        "import matplotlib.pyplot as plt   \n",
        "import numpy as np     \n",
        "import seaborn as sns"
      ],
      "execution_count": 1,
      "outputs": []
    },
    {
      "cell_type": "code",
      "metadata": {
        "id": "84JiYHP7W20G"
      },
      "source": [
        "identificacion=pd.read_csv(\"Modulo de identificacion.csv\",sep=\";\",dtype={\"DIRECTORIO\":str,\\\n",
        "                                                                         \"SECUENCIA_ENCUESTA\":str,\\\n",
        "                                                                         \"SECUENCIA_P\":str})        \n",
        "ventas_ingresos=pd.read_csv(\"Modulo de ventas o ingresos.csv\",sep=\";\",dtype={\"DIRECTORIO\":str,\\\n",
        "                                                                         \"SECUENCIA_ENCUESTA\":str,\\\n",
        "                                                                         \"SECUENCIA_P\":str})"
      ],
      "execution_count": 2,
      "outputs": []
    },
    {
      "cell_type": "code",
      "metadata": {
        "id": "iKP3ojIiGmfa"
      },
      "source": [
        "identificacion.insert(0,\"ID\",identificacion[\"DIRECTORIO\"]+identificacion[\"SECUENCIA_ENCUESTA\"]+\\\n",
        "                      identificacion[\"SECUENCIA_P\"])\n",
        "ventas_ingresos.insert(0,\"ID\",ventas_ingresos[\"DIRECTORIO\"]+ventas_ingresos[\"SECUENCIA_ENCUESTA\"]+\\\n",
        "                      ventas_ingresos[\"SECUENCIA_P\"])"
      ],
      "execution_count": 3,
      "outputs": []
    },
    {
      "cell_type": "code",
      "metadata": {
        "colab": {
          "base_uri": "https://localhost:8080/",
          "height": 222
        },
        "id": "-9yOMQchGcPe",
        "outputId": "ca4230ac-da80-459b-f1b6-9cdb311799a4"
      },
      "source": [
        "identificacion.head()"
      ],
      "execution_count": 4,
      "outputs": [
        {
          "output_type": "execute_result",
          "data": {
            "text/html": [
              "<div>\n",
              "<style scoped>\n",
              "    .dataframe tbody tr th:only-of-type {\n",
              "        vertical-align: middle;\n",
              "    }\n",
              "\n",
              "    .dataframe tbody tr th {\n",
              "        vertical-align: top;\n",
              "    }\n",
              "\n",
              "    .dataframe thead th {\n",
              "        text-align: right;\n",
              "    }\n",
              "</style>\n",
              "<table border=\"1\" class=\"dataframe\">\n",
              "  <thead>\n",
              "    <tr style=\"text-align: right;\">\n",
              "      <th></th>\n",
              "      <th>ID</th>\n",
              "      <th>DIRECTORIO</th>\n",
              "      <th>SECUENCIA_ENCUESTA</th>\n",
              "      <th>SECUENCIA_P</th>\n",
              "      <th>COD_DEPTO</th>\n",
              "      <th>AREA</th>\n",
              "      <th>CLASE</th>\n",
              "      <th>P35</th>\n",
              "      <th>P241</th>\n",
              "      <th>MES_REF</th>\n",
              "      <th>P3031</th>\n",
              "      <th>P3032_1</th>\n",
              "      <th>P3032_2</th>\n",
              "      <th>P3032_3</th>\n",
              "      <th>P3033</th>\n",
              "      <th>P3034</th>\n",
              "      <th>P3035</th>\n",
              "      <th>P3000</th>\n",
              "      <th>F_EXP</th>\n",
              "      <th>GRUPOS12</th>\n",
              "      <th>GRUPOS4</th>\n",
              "    </tr>\n",
              "  </thead>\n",
              "  <tbody>\n",
              "    <tr>\n",
              "      <th>0</th>\n",
              "      <td>478012011</td>\n",
              "      <td>4780120</td>\n",
              "      <td>1</td>\n",
              "      <td>1</td>\n",
              "      <td>76</td>\n",
              "      <td></td>\n",
              "      <td>1</td>\n",
              "      <td>1</td>\n",
              "      <td>22</td>\n",
              "      <td>ENERO</td>\n",
              "      <td>1</td>\n",
              "      <td>1</td>\n",
              "      <td>0</td>\n",
              "      <td>0</td>\n",
              "      <td>1</td>\n",
              "      <td>14</td>\n",
              "      <td>2</td>\n",
              "      <td>1</td>\n",
              "      <td>295,24240408</td>\n",
              "      <td>12</td>\n",
              "      <td>4</td>\n",
              "    </tr>\n",
              "    <tr>\n",
              "      <th>1</th>\n",
              "      <td>478012411</td>\n",
              "      <td>4780124</td>\n",
              "      <td>1</td>\n",
              "      <td>1</td>\n",
              "      <td>76</td>\n",
              "      <td></td>\n",
              "      <td>1</td>\n",
              "      <td>1</td>\n",
              "      <td>28</td>\n",
              "      <td>ENERO</td>\n",
              "      <td>1</td>\n",
              "      <td>2</td>\n",
              "      <td>0</td>\n",
              "      <td>0</td>\n",
              "      <td>1</td>\n",
              "      <td>108</td>\n",
              "      <td>2</td>\n",
              "      <td>2</td>\n",
              "      <td>363,25222238</td>\n",
              "      <td>4</td>\n",
              "      <td>4</td>\n",
              "    </tr>\n",
              "    <tr>\n",
              "      <th>2</th>\n",
              "      <td>478012511</td>\n",
              "      <td>4780125</td>\n",
              "      <td>1</td>\n",
              "      <td>1</td>\n",
              "      <td>76</td>\n",
              "      <td></td>\n",
              "      <td>1</td>\n",
              "      <td>1</td>\n",
              "      <td>38</td>\n",
              "      <td>ENERO</td>\n",
              "      <td>2</td>\n",
              "      <td></td>\n",
              "      <td></td>\n",
              "      <td></td>\n",
              "      <td>2</td>\n",
              "      <td>240</td>\n",
              "      <td>2</td>\n",
              "      <td>2</td>\n",
              "      <td>423,131668</td>\n",
              "      <td>12</td>\n",
              "      <td>4</td>\n",
              "    </tr>\n",
              "    <tr>\n",
              "      <th>3</th>\n",
              "      <td>478013811</td>\n",
              "      <td>4780138</td>\n",
              "      <td>1</td>\n",
              "      <td>1</td>\n",
              "      <td>76</td>\n",
              "      <td></td>\n",
              "      <td>1</td>\n",
              "      <td>1</td>\n",
              "      <td>53</td>\n",
              "      <td>ENERO</td>\n",
              "      <td>2</td>\n",
              "      <td></td>\n",
              "      <td></td>\n",
              "      <td></td>\n",
              "      <td>2</td>\n",
              "      <td>240</td>\n",
              "      <td>2</td>\n",
              "      <td>2</td>\n",
              "      <td>337,29445917</td>\n",
              "      <td>4</td>\n",
              "      <td>4</td>\n",
              "    </tr>\n",
              "    <tr>\n",
              "      <th>4</th>\n",
              "      <td>478014511</td>\n",
              "      <td>4780145</td>\n",
              "      <td>1</td>\n",
              "      <td>1</td>\n",
              "      <td>23</td>\n",
              "      <td></td>\n",
              "      <td>2</td>\n",
              "      <td>1</td>\n",
              "      <td>42</td>\n",
              "      <td>ENERO</td>\n",
              "      <td>2</td>\n",
              "      <td></td>\n",
              "      <td></td>\n",
              "      <td></td>\n",
              "      <td>2</td>\n",
              "      <td>12</td>\n",
              "      <td>2</td>\n",
              "      <td>2</td>\n",
              "      <td>201,81828011</td>\n",
              "      <td>4</td>\n",
              "      <td>4</td>\n",
              "    </tr>\n",
              "  </tbody>\n",
              "</table>\n",
              "</div>"
            ],
            "text/plain": [
              "          ID DIRECTORIO SECUENCIA_ENCUESTA  ...         F_EXP  GRUPOS12 GRUPOS4\n",
              "0  478012011    4780120                  1  ...  295,24240408        12       4\n",
              "1  478012411    4780124                  1  ...  363,25222238         4       4\n",
              "2  478012511    4780125                  1  ...    423,131668        12       4\n",
              "3  478013811    4780138                  1  ...  337,29445917         4       4\n",
              "4  478014511    4780145                  1  ...  201,81828011         4       4\n",
              "\n",
              "[5 rows x 21 columns]"
            ]
          },
          "metadata": {
            "tags": []
          },
          "execution_count": 4
        }
      ]
    },
    {
      "cell_type": "code",
      "metadata": {
        "id": "aAgFsnCJXGdJ",
        "colab": {
          "base_uri": "https://localhost:8080/",
          "height": 251
        },
        "outputId": "8685b7a9-1f07-445e-ca3c-fdda49b08ceb"
      },
      "source": [
        "ventas_ingresos.head()"
      ],
      "execution_count": 5,
      "outputs": [
        {
          "output_type": "execute_result",
          "data": {
            "text/html": [
              "<div>\n",
              "<style scoped>\n",
              "    .dataframe tbody tr th:only-of-type {\n",
              "        vertical-align: middle;\n",
              "    }\n",
              "\n",
              "    .dataframe tbody tr th {\n",
              "        vertical-align: top;\n",
              "    }\n",
              "\n",
              "    .dataframe thead th {\n",
              "        text-align: right;\n",
              "    }\n",
              "</style>\n",
              "<table border=\"1\" class=\"dataframe\">\n",
              "  <thead>\n",
              "    <tr style=\"text-align: right;\">\n",
              "      <th></th>\n",
              "      <th>ID</th>\n",
              "      <th>DIRECTORIO</th>\n",
              "      <th>SECUENCIA_ENCUESTA</th>\n",
              "      <th>SECUENCIA_P</th>\n",
              "      <th>P3057</th>\n",
              "      <th>P3058</th>\n",
              "      <th>P3059</th>\n",
              "      <th>P3060</th>\n",
              "      <th>P3061</th>\n",
              "      <th>P3062</th>\n",
              "      <th>P4002</th>\n",
              "      <th>P3063</th>\n",
              "      <th>P3064</th>\n",
              "      <th>P3065</th>\n",
              "      <th>P3066</th>\n",
              "      <th>P3067</th>\n",
              "      <th>P3092</th>\n",
              "      <th>P3093</th>\n",
              "      <th>P4005</th>\n",
              "      <th>P4006</th>\n",
              "      <th>P4007</th>\n",
              "      <th>P4008</th>\n",
              "      <th>P4009</th>\n",
              "      <th>P4010</th>\n",
              "      <th>P4011</th>\n",
              "      <th>P4012</th>\n",
              "      <th>P4013</th>\n",
              "      <th>P4014</th>\n",
              "      <th>P4015</th>\n",
              "      <th>P4016</th>\n",
              "      <th>P4017</th>\n",
              "      <th>P4018</th>\n",
              "      <th>P3075</th>\n",
              "      <th>P3068_ENE</th>\n",
              "      <th>P3068_1</th>\n",
              "      <th>P3068_FEB</th>\n",
              "      <th>P3068_2</th>\n",
              "      <th>P3068_MAR</th>\n",
              "      <th>P3068_3</th>\n",
              "      <th>P3068_ABR</th>\n",
              "      <th>...</th>\n",
              "      <th>P3068_JUN</th>\n",
              "      <th>P3068_6</th>\n",
              "      <th>P3068_JUL</th>\n",
              "      <th>P3068_7</th>\n",
              "      <th>P3068_AGO</th>\n",
              "      <th>P3068_8</th>\n",
              "      <th>P3068_SEP</th>\n",
              "      <th>P3068_9</th>\n",
              "      <th>P3068_OCT</th>\n",
              "      <th>P3068_10</th>\n",
              "      <th>P3068_NOV</th>\n",
              "      <th>P3068_11</th>\n",
              "      <th>P3068_DIC</th>\n",
              "      <th>P3068_12</th>\n",
              "      <th>P3068_TOD</th>\n",
              "      <th>P3068_NIN</th>\n",
              "      <th>P4019</th>\n",
              "      <th>P4020</th>\n",
              "      <th>P4021</th>\n",
              "      <th>P4022</th>\n",
              "      <th>P4023</th>\n",
              "      <th>P4024</th>\n",
              "      <th>P4025</th>\n",
              "      <th>P4026</th>\n",
              "      <th>P4027</th>\n",
              "      <th>P4028</th>\n",
              "      <th>P4029</th>\n",
              "      <th>P4030</th>\n",
              "      <th>P4031</th>\n",
              "      <th>P4032</th>\n",
              "      <th>P3072</th>\n",
              "      <th>VENTAS_MES_ANTERIOR</th>\n",
              "      <th>VENTAS_MES_ANIO_ANTERIOR</th>\n",
              "      <th>VENTAS_ANIO_ANTERIOR</th>\n",
              "      <th>VALOR_AGREGADO</th>\n",
              "      <th>INGRESO_MIXTO</th>\n",
              "      <th>CLASE</th>\n",
              "      <th>COD_DEPTO</th>\n",
              "      <th>AREA</th>\n",
              "      <th>F_EXP</th>\n",
              "    </tr>\n",
              "  </thead>\n",
              "  <tbody>\n",
              "    <tr>\n",
              "      <th>0</th>\n",
              "      <td>478012011</td>\n",
              "      <td>4780120</td>\n",
              "      <td>1</td>\n",
              "      <td>1</td>\n",
              "      <td></td>\n",
              "      <td></td>\n",
              "      <td></td>\n",
              "      <td></td>\n",
              "      <td></td>\n",
              "      <td></td>\n",
              "      <td></td>\n",
              "      <td></td>\n",
              "      <td>0</td>\n",
              "      <td>0</td>\n",
              "      <td>0</td>\n",
              "      <td>0</td>\n",
              "      <td></td>\n",
              "      <td></td>\n",
              "      <td></td>\n",
              "      <td></td>\n",
              "      <td></td>\n",
              "      <td></td>\n",
              "      <td></td>\n",
              "      <td></td>\n",
              "      <td></td>\n",
              "      <td></td>\n",
              "      <td>1200000</td>\n",
              "      <td>0</td>\n",
              "      <td>0</td>\n",
              "      <td>0</td>\n",
              "      <td></td>\n",
              "      <td></td>\n",
              "      <td>1</td>\n",
              "      <td></td>\n",
              "      <td></td>\n",
              "      <td></td>\n",
              "      <td></td>\n",
              "      <td></td>\n",
              "      <td></td>\n",
              "      <td></td>\n",
              "      <td>...</td>\n",
              "      <td></td>\n",
              "      <td></td>\n",
              "      <td></td>\n",
              "      <td></td>\n",
              "      <td></td>\n",
              "      <td></td>\n",
              "      <td></td>\n",
              "      <td></td>\n",
              "      <td></td>\n",
              "      <td></td>\n",
              "      <td></td>\n",
              "      <td></td>\n",
              "      <td></td>\n",
              "      <td></td>\n",
              "      <td>1</td>\n",
              "      <td></td>\n",
              "      <td></td>\n",
              "      <td></td>\n",
              "      <td></td>\n",
              "      <td></td>\n",
              "      <td></td>\n",
              "      <td></td>\n",
              "      <td></td>\n",
              "      <td></td>\n",
              "      <td>10000000</td>\n",
              "      <td>0</td>\n",
              "      <td>0</td>\n",
              "      <td>0</td>\n",
              "      <td></td>\n",
              "      <td></td>\n",
              "      <td>500000</td>\n",
              "      <td>0.0</td>\n",
              "      <td>1200000</td>\n",
              "      <td>10000000</td>\n",
              "      <td>-60000.0</td>\n",
              "      <td>-60000.0</td>\n",
              "      <td>1.0</td>\n",
              "      <td>76.0</td>\n",
              "      <td></td>\n",
              "      <td>295,24240408</td>\n",
              "    </tr>\n",
              "    <tr>\n",
              "      <th>1</th>\n",
              "      <td>478012411</td>\n",
              "      <td>4780124</td>\n",
              "      <td>1</td>\n",
              "      <td>1</td>\n",
              "      <td></td>\n",
              "      <td></td>\n",
              "      <td></td>\n",
              "      <td></td>\n",
              "      <td></td>\n",
              "      <td></td>\n",
              "      <td></td>\n",
              "      <td></td>\n",
              "      <td>0</td>\n",
              "      <td>0</td>\n",
              "      <td>0</td>\n",
              "      <td>0</td>\n",
              "      <td></td>\n",
              "      <td></td>\n",
              "      <td></td>\n",
              "      <td></td>\n",
              "      <td></td>\n",
              "      <td></td>\n",
              "      <td></td>\n",
              "      <td></td>\n",
              "      <td></td>\n",
              "      <td></td>\n",
              "      <td>2500000</td>\n",
              "      <td>0</td>\n",
              "      <td>0</td>\n",
              "      <td>0</td>\n",
              "      <td></td>\n",
              "      <td></td>\n",
              "      <td>1</td>\n",
              "      <td></td>\n",
              "      <td></td>\n",
              "      <td></td>\n",
              "      <td></td>\n",
              "      <td></td>\n",
              "      <td></td>\n",
              "      <td></td>\n",
              "      <td>...</td>\n",
              "      <td></td>\n",
              "      <td></td>\n",
              "      <td></td>\n",
              "      <td></td>\n",
              "      <td></td>\n",
              "      <td></td>\n",
              "      <td></td>\n",
              "      <td></td>\n",
              "      <td></td>\n",
              "      <td></td>\n",
              "      <td></td>\n",
              "      <td></td>\n",
              "      <td></td>\n",
              "      <td></td>\n",
              "      <td>1</td>\n",
              "      <td></td>\n",
              "      <td></td>\n",
              "      <td></td>\n",
              "      <td></td>\n",
              "      <td></td>\n",
              "      <td></td>\n",
              "      <td></td>\n",
              "      <td></td>\n",
              "      <td></td>\n",
              "      <td>39000000</td>\n",
              "      <td>0</td>\n",
              "      <td>0</td>\n",
              "      <td>0</td>\n",
              "      <td></td>\n",
              "      <td></td>\n",
              "      <td>1100000</td>\n",
              "      <td>0.0</td>\n",
              "      <td>2500000</td>\n",
              "      <td>39000000</td>\n",
              "      <td>0.0</td>\n",
              "      <td>-1600000.0</td>\n",
              "      <td>1.0</td>\n",
              "      <td>76.0</td>\n",
              "      <td></td>\n",
              "      <td>363,25222238</td>\n",
              "    </tr>\n",
              "    <tr>\n",
              "      <th>2</th>\n",
              "      <td>478012511</td>\n",
              "      <td>4780125</td>\n",
              "      <td>1</td>\n",
              "      <td>1</td>\n",
              "      <td></td>\n",
              "      <td></td>\n",
              "      <td></td>\n",
              "      <td></td>\n",
              "      <td></td>\n",
              "      <td></td>\n",
              "      <td></td>\n",
              "      <td></td>\n",
              "      <td>1300000</td>\n",
              "      <td>0</td>\n",
              "      <td>0</td>\n",
              "      <td>0</td>\n",
              "      <td></td>\n",
              "      <td></td>\n",
              "      <td></td>\n",
              "      <td></td>\n",
              "      <td></td>\n",
              "      <td></td>\n",
              "      <td></td>\n",
              "      <td></td>\n",
              "      <td></td>\n",
              "      <td></td>\n",
              "      <td>1100000</td>\n",
              "      <td>0</td>\n",
              "      <td>0</td>\n",
              "      <td>0</td>\n",
              "      <td></td>\n",
              "      <td></td>\n",
              "      <td>1</td>\n",
              "      <td></td>\n",
              "      <td></td>\n",
              "      <td></td>\n",
              "      <td></td>\n",
              "      <td></td>\n",
              "      <td></td>\n",
              "      <td></td>\n",
              "      <td>...</td>\n",
              "      <td></td>\n",
              "      <td></td>\n",
              "      <td></td>\n",
              "      <td></td>\n",
              "      <td></td>\n",
              "      <td></td>\n",
              "      <td></td>\n",
              "      <td></td>\n",
              "      <td></td>\n",
              "      <td></td>\n",
              "      <td></td>\n",
              "      <td></td>\n",
              "      <td></td>\n",
              "      <td></td>\n",
              "      <td>1</td>\n",
              "      <td></td>\n",
              "      <td></td>\n",
              "      <td></td>\n",
              "      <td></td>\n",
              "      <td></td>\n",
              "      <td></td>\n",
              "      <td></td>\n",
              "      <td></td>\n",
              "      <td></td>\n",
              "      <td>14760000</td>\n",
              "      <td>0</td>\n",
              "      <td>0</td>\n",
              "      <td>0</td>\n",
              "      <td></td>\n",
              "      <td></td>\n",
              "      <td>700000</td>\n",
              "      <td>1300000.0</td>\n",
              "      <td>1100000</td>\n",
              "      <td>14760000</td>\n",
              "      <td>498000.0</td>\n",
              "      <td>498000.0</td>\n",
              "      <td>1.0</td>\n",
              "      <td>76.0</td>\n",
              "      <td></td>\n",
              "      <td>423,131668</td>\n",
              "    </tr>\n",
              "    <tr>\n",
              "      <th>3</th>\n",
              "      <td>478013811</td>\n",
              "      <td>4780138</td>\n",
              "      <td>1</td>\n",
              "      <td>1</td>\n",
              "      <td></td>\n",
              "      <td></td>\n",
              "      <td></td>\n",
              "      <td></td>\n",
              "      <td></td>\n",
              "      <td></td>\n",
              "      <td></td>\n",
              "      <td></td>\n",
              "      <td>400000</td>\n",
              "      <td>0</td>\n",
              "      <td>0</td>\n",
              "      <td>0</td>\n",
              "      <td></td>\n",
              "      <td></td>\n",
              "      <td></td>\n",
              "      <td></td>\n",
              "      <td></td>\n",
              "      <td></td>\n",
              "      <td></td>\n",
              "      <td></td>\n",
              "      <td></td>\n",
              "      <td></td>\n",
              "      <td>800000</td>\n",
              "      <td>0</td>\n",
              "      <td>0</td>\n",
              "      <td>0</td>\n",
              "      <td></td>\n",
              "      <td></td>\n",
              "      <td>1</td>\n",
              "      <td></td>\n",
              "      <td></td>\n",
              "      <td>1</td>\n",
              "      <td></td>\n",
              "      <td></td>\n",
              "      <td></td>\n",
              "      <td></td>\n",
              "      <td>...</td>\n",
              "      <td></td>\n",
              "      <td></td>\n",
              "      <td></td>\n",
              "      <td></td>\n",
              "      <td></td>\n",
              "      <td></td>\n",
              "      <td>1</td>\n",
              "      <td></td>\n",
              "      <td></td>\n",
              "      <td></td>\n",
              "      <td></td>\n",
              "      <td></td>\n",
              "      <td></td>\n",
              "      <td></td>\n",
              "      <td></td>\n",
              "      <td></td>\n",
              "      <td></td>\n",
              "      <td></td>\n",
              "      <td></td>\n",
              "      <td></td>\n",
              "      <td></td>\n",
              "      <td></td>\n",
              "      <td></td>\n",
              "      <td></td>\n",
              "      <td>1000000</td>\n",
              "      <td>0</td>\n",
              "      <td>0</td>\n",
              "      <td>0</td>\n",
              "      <td></td>\n",
              "      <td></td>\n",
              "      <td>300000</td>\n",
              "      <td>400000.0</td>\n",
              "      <td>800000</td>\n",
              "      <td>1000000</td>\n",
              "      <td>260000.0</td>\n",
              "      <td>260000.0</td>\n",
              "      <td>1.0</td>\n",
              "      <td>76.0</td>\n",
              "      <td></td>\n",
              "      <td>337,29445917</td>\n",
              "    </tr>\n",
              "    <tr>\n",
              "      <th>4</th>\n",
              "      <td>478014511</td>\n",
              "      <td>4780145</td>\n",
              "      <td>1</td>\n",
              "      <td>1</td>\n",
              "      <td></td>\n",
              "      <td></td>\n",
              "      <td></td>\n",
              "      <td></td>\n",
              "      <td></td>\n",
              "      <td></td>\n",
              "      <td></td>\n",
              "      <td></td>\n",
              "      <td>60000</td>\n",
              "      <td>0</td>\n",
              "      <td>0</td>\n",
              "      <td>0</td>\n",
              "      <td></td>\n",
              "      <td></td>\n",
              "      <td></td>\n",
              "      <td></td>\n",
              "      <td></td>\n",
              "      <td></td>\n",
              "      <td></td>\n",
              "      <td></td>\n",
              "      <td></td>\n",
              "      <td></td>\n",
              "      <td></td>\n",
              "      <td></td>\n",
              "      <td></td>\n",
              "      <td></td>\n",
              "      <td></td>\n",
              "      <td></td>\n",
              "      <td>1</td>\n",
              "      <td></td>\n",
              "      <td></td>\n",
              "      <td></td>\n",
              "      <td></td>\n",
              "      <td></td>\n",
              "      <td></td>\n",
              "      <td></td>\n",
              "      <td>...</td>\n",
              "      <td></td>\n",
              "      <td></td>\n",
              "      <td></td>\n",
              "      <td></td>\n",
              "      <td></td>\n",
              "      <td></td>\n",
              "      <td></td>\n",
              "      <td></td>\n",
              "      <td></td>\n",
              "      <td></td>\n",
              "      <td></td>\n",
              "      <td></td>\n",
              "      <td></td>\n",
              "      <td></td>\n",
              "      <td>1</td>\n",
              "      <td></td>\n",
              "      <td></td>\n",
              "      <td></td>\n",
              "      <td></td>\n",
              "      <td></td>\n",
              "      <td></td>\n",
              "      <td></td>\n",
              "      <td></td>\n",
              "      <td></td>\n",
              "      <td>600000</td>\n",
              "      <td>0</td>\n",
              "      <td>0</td>\n",
              "      <td>0</td>\n",
              "      <td></td>\n",
              "      <td></td>\n",
              "      <td>80000</td>\n",
              "      <td>60000.0</td>\n",
              "      <td></td>\n",
              "      <td>600000</td>\n",
              "      <td>60000.0</td>\n",
              "      <td>60000.0</td>\n",
              "      <td>2.0</td>\n",
              "      <td>23.0</td>\n",
              "      <td></td>\n",
              "      <td>201,81828011</td>\n",
              "    </tr>\n",
              "  </tbody>\n",
              "</table>\n",
              "<p>5 rows × 83 columns</p>\n",
              "</div>"
            ],
            "text/plain": [
              "          ID DIRECTORIO SECUENCIA_ENCUESTA  ... COD_DEPTO AREA         F_EXP\n",
              "0  478012011    4780120                  1  ...      76.0       295,24240408\n",
              "1  478012411    4780124                  1  ...      76.0       363,25222238\n",
              "2  478012511    4780125                  1  ...      76.0         423,131668\n",
              "3  478013811    4780138                  1  ...      76.0       337,29445917\n",
              "4  478014511    4780145                  1  ...      23.0       201,81828011\n",
              "\n",
              "[5 rows x 83 columns]"
            ]
          },
          "metadata": {
            "tags": []
          },
          "execution_count": 5
        }
      ]
    },
    {
      "cell_type": "code",
      "metadata": {
        "colab": {
          "base_uri": "https://localhost:8080/",
          "height": 251
        },
        "id": "GnvydUCQIuzJ",
        "outputId": "d40e616d-a936-4598-c285-529f7d73c371"
      },
      "source": [
        "datos=pd.merge(identificacion,ventas_ingresos,on=\"ID\",how=\"outer\",suffixes=(\"\",\"_\"))\n",
        "datos.drop(columns=[\"DIRECTORIO_\",\"SECUENCIA_ENCUESTA_\",\"SECUENCIA_P_\",\"COD_DEPTO_\",\"AREA_\",\"F_EXP_\",\"CLASE_\",\"F_EXP\"],inplace=True)\n",
        "datos.head()"
      ],
      "execution_count": 87,
      "outputs": [
        {
          "output_type": "execute_result",
          "data": {
            "text/html": [
              "<div>\n",
              "<style scoped>\n",
              "    .dataframe tbody tr th:only-of-type {\n",
              "        vertical-align: middle;\n",
              "    }\n",
              "\n",
              "    .dataframe tbody tr th {\n",
              "        vertical-align: top;\n",
              "    }\n",
              "\n",
              "    .dataframe thead th {\n",
              "        text-align: right;\n",
              "    }\n",
              "</style>\n",
              "<table border=\"1\" class=\"dataframe\">\n",
              "  <thead>\n",
              "    <tr style=\"text-align: right;\">\n",
              "      <th></th>\n",
              "      <th>ID</th>\n",
              "      <th>DIRECTORIO</th>\n",
              "      <th>SECUENCIA_ENCUESTA</th>\n",
              "      <th>SECUENCIA_P</th>\n",
              "      <th>COD_DEPTO</th>\n",
              "      <th>AREA</th>\n",
              "      <th>CLASE</th>\n",
              "      <th>P35</th>\n",
              "      <th>P241</th>\n",
              "      <th>MES_REF</th>\n",
              "      <th>P3031</th>\n",
              "      <th>P3032_1</th>\n",
              "      <th>P3032_2</th>\n",
              "      <th>P3032_3</th>\n",
              "      <th>P3033</th>\n",
              "      <th>P3034</th>\n",
              "      <th>P3035</th>\n",
              "      <th>P3000</th>\n",
              "      <th>GRUPOS12</th>\n",
              "      <th>GRUPOS4</th>\n",
              "      <th>P3057</th>\n",
              "      <th>P3058</th>\n",
              "      <th>P3059</th>\n",
              "      <th>P3060</th>\n",
              "      <th>P3061</th>\n",
              "      <th>P3062</th>\n",
              "      <th>P4002</th>\n",
              "      <th>P3063</th>\n",
              "      <th>P3064</th>\n",
              "      <th>P3065</th>\n",
              "      <th>P3066</th>\n",
              "      <th>P3067</th>\n",
              "      <th>P3092</th>\n",
              "      <th>P3093</th>\n",
              "      <th>P4005</th>\n",
              "      <th>P4006</th>\n",
              "      <th>P4007</th>\n",
              "      <th>P4008</th>\n",
              "      <th>P4009</th>\n",
              "      <th>P4010</th>\n",
              "      <th>...</th>\n",
              "      <th>P3068_ABR</th>\n",
              "      <th>P3068_4</th>\n",
              "      <th>P3068_MAY</th>\n",
              "      <th>P3068_5</th>\n",
              "      <th>P3068_JUN</th>\n",
              "      <th>P3068_6</th>\n",
              "      <th>P3068_JUL</th>\n",
              "      <th>P3068_7</th>\n",
              "      <th>P3068_AGO</th>\n",
              "      <th>P3068_8</th>\n",
              "      <th>P3068_SEP</th>\n",
              "      <th>P3068_9</th>\n",
              "      <th>P3068_OCT</th>\n",
              "      <th>P3068_10</th>\n",
              "      <th>P3068_NOV</th>\n",
              "      <th>P3068_11</th>\n",
              "      <th>P3068_DIC</th>\n",
              "      <th>P3068_12</th>\n",
              "      <th>P3068_TOD</th>\n",
              "      <th>P3068_NIN</th>\n",
              "      <th>P4019</th>\n",
              "      <th>P4020</th>\n",
              "      <th>P4021</th>\n",
              "      <th>P4022</th>\n",
              "      <th>P4023</th>\n",
              "      <th>P4024</th>\n",
              "      <th>P4025</th>\n",
              "      <th>P4026</th>\n",
              "      <th>P4027</th>\n",
              "      <th>P4028</th>\n",
              "      <th>P4029</th>\n",
              "      <th>P4030</th>\n",
              "      <th>P4031</th>\n",
              "      <th>P4032</th>\n",
              "      <th>P3072</th>\n",
              "      <th>VENTAS_MES_ANTERIOR</th>\n",
              "      <th>VENTAS_MES_ANIO_ANTERIOR</th>\n",
              "      <th>VENTAS_ANIO_ANTERIOR</th>\n",
              "      <th>VALOR_AGREGADO</th>\n",
              "      <th>INGRESO_MIXTO</th>\n",
              "    </tr>\n",
              "  </thead>\n",
              "  <tbody>\n",
              "    <tr>\n",
              "      <th>0</th>\n",
              "      <td>478012011</td>\n",
              "      <td>4780120</td>\n",
              "      <td>1</td>\n",
              "      <td>1</td>\n",
              "      <td>76</td>\n",
              "      <td></td>\n",
              "      <td>1</td>\n",
              "      <td>1</td>\n",
              "      <td>22</td>\n",
              "      <td>ENERO</td>\n",
              "      <td>1</td>\n",
              "      <td>1</td>\n",
              "      <td>0</td>\n",
              "      <td>0</td>\n",
              "      <td>1</td>\n",
              "      <td>14</td>\n",
              "      <td>2</td>\n",
              "      <td>1</td>\n",
              "      <td>12</td>\n",
              "      <td>4</td>\n",
              "      <td></td>\n",
              "      <td></td>\n",
              "      <td></td>\n",
              "      <td></td>\n",
              "      <td></td>\n",
              "      <td></td>\n",
              "      <td></td>\n",
              "      <td></td>\n",
              "      <td>0</td>\n",
              "      <td>0</td>\n",
              "      <td>0</td>\n",
              "      <td>0</td>\n",
              "      <td></td>\n",
              "      <td></td>\n",
              "      <td></td>\n",
              "      <td></td>\n",
              "      <td></td>\n",
              "      <td></td>\n",
              "      <td></td>\n",
              "      <td></td>\n",
              "      <td>...</td>\n",
              "      <td></td>\n",
              "      <td></td>\n",
              "      <td></td>\n",
              "      <td></td>\n",
              "      <td></td>\n",
              "      <td></td>\n",
              "      <td></td>\n",
              "      <td></td>\n",
              "      <td></td>\n",
              "      <td></td>\n",
              "      <td></td>\n",
              "      <td></td>\n",
              "      <td></td>\n",
              "      <td></td>\n",
              "      <td></td>\n",
              "      <td></td>\n",
              "      <td></td>\n",
              "      <td></td>\n",
              "      <td>1</td>\n",
              "      <td></td>\n",
              "      <td></td>\n",
              "      <td></td>\n",
              "      <td></td>\n",
              "      <td></td>\n",
              "      <td></td>\n",
              "      <td></td>\n",
              "      <td></td>\n",
              "      <td></td>\n",
              "      <td>10000000</td>\n",
              "      <td>0</td>\n",
              "      <td>0</td>\n",
              "      <td>0</td>\n",
              "      <td></td>\n",
              "      <td></td>\n",
              "      <td>500000</td>\n",
              "      <td>0.0</td>\n",
              "      <td>1200000</td>\n",
              "      <td>10000000</td>\n",
              "      <td>-60000.0</td>\n",
              "      <td>-60000.0</td>\n",
              "    </tr>\n",
              "    <tr>\n",
              "      <th>1</th>\n",
              "      <td>478012411</td>\n",
              "      <td>4780124</td>\n",
              "      <td>1</td>\n",
              "      <td>1</td>\n",
              "      <td>76</td>\n",
              "      <td></td>\n",
              "      <td>1</td>\n",
              "      <td>1</td>\n",
              "      <td>28</td>\n",
              "      <td>ENERO</td>\n",
              "      <td>1</td>\n",
              "      <td>2</td>\n",
              "      <td>0</td>\n",
              "      <td>0</td>\n",
              "      <td>1</td>\n",
              "      <td>108</td>\n",
              "      <td>2</td>\n",
              "      <td>2</td>\n",
              "      <td>4</td>\n",
              "      <td>4</td>\n",
              "      <td></td>\n",
              "      <td></td>\n",
              "      <td></td>\n",
              "      <td></td>\n",
              "      <td></td>\n",
              "      <td></td>\n",
              "      <td></td>\n",
              "      <td></td>\n",
              "      <td>0</td>\n",
              "      <td>0</td>\n",
              "      <td>0</td>\n",
              "      <td>0</td>\n",
              "      <td></td>\n",
              "      <td></td>\n",
              "      <td></td>\n",
              "      <td></td>\n",
              "      <td></td>\n",
              "      <td></td>\n",
              "      <td></td>\n",
              "      <td></td>\n",
              "      <td>...</td>\n",
              "      <td></td>\n",
              "      <td></td>\n",
              "      <td></td>\n",
              "      <td></td>\n",
              "      <td></td>\n",
              "      <td></td>\n",
              "      <td></td>\n",
              "      <td></td>\n",
              "      <td></td>\n",
              "      <td></td>\n",
              "      <td></td>\n",
              "      <td></td>\n",
              "      <td></td>\n",
              "      <td></td>\n",
              "      <td></td>\n",
              "      <td></td>\n",
              "      <td></td>\n",
              "      <td></td>\n",
              "      <td>1</td>\n",
              "      <td></td>\n",
              "      <td></td>\n",
              "      <td></td>\n",
              "      <td></td>\n",
              "      <td></td>\n",
              "      <td></td>\n",
              "      <td></td>\n",
              "      <td></td>\n",
              "      <td></td>\n",
              "      <td>39000000</td>\n",
              "      <td>0</td>\n",
              "      <td>0</td>\n",
              "      <td>0</td>\n",
              "      <td></td>\n",
              "      <td></td>\n",
              "      <td>1100000</td>\n",
              "      <td>0.0</td>\n",
              "      <td>2500000</td>\n",
              "      <td>39000000</td>\n",
              "      <td>0.0</td>\n",
              "      <td>-1600000.0</td>\n",
              "    </tr>\n",
              "    <tr>\n",
              "      <th>2</th>\n",
              "      <td>478012511</td>\n",
              "      <td>4780125</td>\n",
              "      <td>1</td>\n",
              "      <td>1</td>\n",
              "      <td>76</td>\n",
              "      <td></td>\n",
              "      <td>1</td>\n",
              "      <td>1</td>\n",
              "      <td>38</td>\n",
              "      <td>ENERO</td>\n",
              "      <td>2</td>\n",
              "      <td></td>\n",
              "      <td></td>\n",
              "      <td></td>\n",
              "      <td>2</td>\n",
              "      <td>240</td>\n",
              "      <td>2</td>\n",
              "      <td>2</td>\n",
              "      <td>12</td>\n",
              "      <td>4</td>\n",
              "      <td></td>\n",
              "      <td></td>\n",
              "      <td></td>\n",
              "      <td></td>\n",
              "      <td></td>\n",
              "      <td></td>\n",
              "      <td></td>\n",
              "      <td></td>\n",
              "      <td>1300000</td>\n",
              "      <td>0</td>\n",
              "      <td>0</td>\n",
              "      <td>0</td>\n",
              "      <td></td>\n",
              "      <td></td>\n",
              "      <td></td>\n",
              "      <td></td>\n",
              "      <td></td>\n",
              "      <td></td>\n",
              "      <td></td>\n",
              "      <td></td>\n",
              "      <td>...</td>\n",
              "      <td></td>\n",
              "      <td></td>\n",
              "      <td></td>\n",
              "      <td></td>\n",
              "      <td></td>\n",
              "      <td></td>\n",
              "      <td></td>\n",
              "      <td></td>\n",
              "      <td></td>\n",
              "      <td></td>\n",
              "      <td></td>\n",
              "      <td></td>\n",
              "      <td></td>\n",
              "      <td></td>\n",
              "      <td></td>\n",
              "      <td></td>\n",
              "      <td></td>\n",
              "      <td></td>\n",
              "      <td>1</td>\n",
              "      <td></td>\n",
              "      <td></td>\n",
              "      <td></td>\n",
              "      <td></td>\n",
              "      <td></td>\n",
              "      <td></td>\n",
              "      <td></td>\n",
              "      <td></td>\n",
              "      <td></td>\n",
              "      <td>14760000</td>\n",
              "      <td>0</td>\n",
              "      <td>0</td>\n",
              "      <td>0</td>\n",
              "      <td></td>\n",
              "      <td></td>\n",
              "      <td>700000</td>\n",
              "      <td>1300000.0</td>\n",
              "      <td>1100000</td>\n",
              "      <td>14760000</td>\n",
              "      <td>498000.0</td>\n",
              "      <td>498000.0</td>\n",
              "    </tr>\n",
              "    <tr>\n",
              "      <th>3</th>\n",
              "      <td>478013811</td>\n",
              "      <td>4780138</td>\n",
              "      <td>1</td>\n",
              "      <td>1</td>\n",
              "      <td>76</td>\n",
              "      <td></td>\n",
              "      <td>1</td>\n",
              "      <td>1</td>\n",
              "      <td>53</td>\n",
              "      <td>ENERO</td>\n",
              "      <td>2</td>\n",
              "      <td></td>\n",
              "      <td></td>\n",
              "      <td></td>\n",
              "      <td>2</td>\n",
              "      <td>240</td>\n",
              "      <td>2</td>\n",
              "      <td>2</td>\n",
              "      <td>4</td>\n",
              "      <td>4</td>\n",
              "      <td></td>\n",
              "      <td></td>\n",
              "      <td></td>\n",
              "      <td></td>\n",
              "      <td></td>\n",
              "      <td></td>\n",
              "      <td></td>\n",
              "      <td></td>\n",
              "      <td>400000</td>\n",
              "      <td>0</td>\n",
              "      <td>0</td>\n",
              "      <td>0</td>\n",
              "      <td></td>\n",
              "      <td></td>\n",
              "      <td></td>\n",
              "      <td></td>\n",
              "      <td></td>\n",
              "      <td></td>\n",
              "      <td></td>\n",
              "      <td></td>\n",
              "      <td>...</td>\n",
              "      <td></td>\n",
              "      <td></td>\n",
              "      <td></td>\n",
              "      <td></td>\n",
              "      <td></td>\n",
              "      <td></td>\n",
              "      <td></td>\n",
              "      <td></td>\n",
              "      <td></td>\n",
              "      <td></td>\n",
              "      <td>1</td>\n",
              "      <td></td>\n",
              "      <td></td>\n",
              "      <td></td>\n",
              "      <td></td>\n",
              "      <td></td>\n",
              "      <td></td>\n",
              "      <td></td>\n",
              "      <td></td>\n",
              "      <td></td>\n",
              "      <td></td>\n",
              "      <td></td>\n",
              "      <td></td>\n",
              "      <td></td>\n",
              "      <td></td>\n",
              "      <td></td>\n",
              "      <td></td>\n",
              "      <td></td>\n",
              "      <td>1000000</td>\n",
              "      <td>0</td>\n",
              "      <td>0</td>\n",
              "      <td>0</td>\n",
              "      <td></td>\n",
              "      <td></td>\n",
              "      <td>300000</td>\n",
              "      <td>400000.0</td>\n",
              "      <td>800000</td>\n",
              "      <td>1000000</td>\n",
              "      <td>260000.0</td>\n",
              "      <td>260000.0</td>\n",
              "    </tr>\n",
              "    <tr>\n",
              "      <th>4</th>\n",
              "      <td>478014511</td>\n",
              "      <td>4780145</td>\n",
              "      <td>1</td>\n",
              "      <td>1</td>\n",
              "      <td>23</td>\n",
              "      <td></td>\n",
              "      <td>2</td>\n",
              "      <td>1</td>\n",
              "      <td>42</td>\n",
              "      <td>ENERO</td>\n",
              "      <td>2</td>\n",
              "      <td></td>\n",
              "      <td></td>\n",
              "      <td></td>\n",
              "      <td>2</td>\n",
              "      <td>12</td>\n",
              "      <td>2</td>\n",
              "      <td>2</td>\n",
              "      <td>4</td>\n",
              "      <td>4</td>\n",
              "      <td></td>\n",
              "      <td></td>\n",
              "      <td></td>\n",
              "      <td></td>\n",
              "      <td></td>\n",
              "      <td></td>\n",
              "      <td></td>\n",
              "      <td></td>\n",
              "      <td>60000</td>\n",
              "      <td>0</td>\n",
              "      <td>0</td>\n",
              "      <td>0</td>\n",
              "      <td></td>\n",
              "      <td></td>\n",
              "      <td></td>\n",
              "      <td></td>\n",
              "      <td></td>\n",
              "      <td></td>\n",
              "      <td></td>\n",
              "      <td></td>\n",
              "      <td>...</td>\n",
              "      <td></td>\n",
              "      <td></td>\n",
              "      <td></td>\n",
              "      <td></td>\n",
              "      <td></td>\n",
              "      <td></td>\n",
              "      <td></td>\n",
              "      <td></td>\n",
              "      <td></td>\n",
              "      <td></td>\n",
              "      <td></td>\n",
              "      <td></td>\n",
              "      <td></td>\n",
              "      <td></td>\n",
              "      <td></td>\n",
              "      <td></td>\n",
              "      <td></td>\n",
              "      <td></td>\n",
              "      <td>1</td>\n",
              "      <td></td>\n",
              "      <td></td>\n",
              "      <td></td>\n",
              "      <td></td>\n",
              "      <td></td>\n",
              "      <td></td>\n",
              "      <td></td>\n",
              "      <td></td>\n",
              "      <td></td>\n",
              "      <td>600000</td>\n",
              "      <td>0</td>\n",
              "      <td>0</td>\n",
              "      <td>0</td>\n",
              "      <td></td>\n",
              "      <td></td>\n",
              "      <td>80000</td>\n",
              "      <td>60000.0</td>\n",
              "      <td></td>\n",
              "      <td>600000</td>\n",
              "      <td>60000.0</td>\n",
              "      <td>60000.0</td>\n",
              "    </tr>\n",
              "  </tbody>\n",
              "</table>\n",
              "<p>5 rows × 95 columns</p>\n",
              "</div>"
            ],
            "text/plain": [
              "          ID DIRECTORIO  ... VALOR_AGREGADO INGRESO_MIXTO\n",
              "0  478012011    4780120  ...       -60000.0      -60000.0\n",
              "1  478012411    4780124  ...            0.0    -1600000.0\n",
              "2  478012511    4780125  ...       498000.0      498000.0\n",
              "3  478013811    4780138  ...       260000.0      260000.0\n",
              "4  478014511    4780145  ...        60000.0       60000.0\n",
              "\n",
              "[5 rows x 95 columns]"
            ]
          },
          "metadata": {
            "tags": []
          },
          "execution_count": 87
        }
      ]
    },
    {
      "cell_type": "markdown",
      "metadata": {
        "id": "NuRCFD7HoQAn"
      },
      "source": [
        "* Ahora se puede seleccionar columnas en especifico para generar un DatFrame de analisis, el cual se reindexara y modificarán los codigos de preguntas de las columnas por etiquetas mas faciles de ifentificar. "
      ]
    },
    {
      "cell_type": "code",
      "metadata": {
        "id": "rPwViVusRGhu"
      },
      "source": [
        "datos_analisis=datos[[\"ID\",\"COD_DEPTO\",\"AREA\",\"CLASE\",\"P35\",\"P241\",\"P3032_1\",\"P3032_2\",\"P3033\",\"P3035\",\"GRUPOS12\",\"GRUPOS4\",\\\n",
        "                      \"VENTAS_MES_ANTERIOR\",\"VALOR_AGREGADO\",\"INGRESO_MIXTO\"]]"
      ],
      "execution_count": 88,
      "outputs": []
    },
    {
      "cell_type": "code",
      "metadata": {
        "colab": {
          "base_uri": "https://localhost:8080/",
          "height": 285
        },
        "id": "JzosDqvacXyd",
        "outputId": "e8ae8222-36fb-433a-a254-9c700def2c1b"
      },
      "source": [
        "datos_analisis=datos_analisis.rename(columns={\"P35\":\"Sexo propietario\",\"P241\":\"Edad Propietario\",\"P3032_1\":\"No.Trabajad remun\",\"P3032_2\":\"No.socios\",\\\n",
        "                                              \"P3033\":\"socio-Trabajad\",\"P3035\":\"Nombre Comercial\",\"GRUPOS12\":\"Sector CIIU_12\",\"GRUPOS4\":\"Sector CIIU_4\",\\\n",
        "                                              \"VENTAS_MES_ANTERIOR\":\"Ventas ultimo mes\",\"VALOR_AGREGADO\":\"Valor Agreagado mensual\",\"INGRESO_MIXTO\":\"Ingreso Mixto\"})\n",
        "datos_analisis.set_index(\"ID\",inplace=True)\n",
        "datos_analisis.head()"
      ],
      "execution_count": 89,
      "outputs": [
        {
          "output_type": "execute_result",
          "data": {
            "text/html": [
              "<div>\n",
              "<style scoped>\n",
              "    .dataframe tbody tr th:only-of-type {\n",
              "        vertical-align: middle;\n",
              "    }\n",
              "\n",
              "    .dataframe tbody tr th {\n",
              "        vertical-align: top;\n",
              "    }\n",
              "\n",
              "    .dataframe thead th {\n",
              "        text-align: right;\n",
              "    }\n",
              "</style>\n",
              "<table border=\"1\" class=\"dataframe\">\n",
              "  <thead>\n",
              "    <tr style=\"text-align: right;\">\n",
              "      <th></th>\n",
              "      <th>COD_DEPTO</th>\n",
              "      <th>AREA</th>\n",
              "      <th>CLASE</th>\n",
              "      <th>Sexo propietario</th>\n",
              "      <th>Edad Propietario</th>\n",
              "      <th>No.Trabajad remun</th>\n",
              "      <th>No.socios</th>\n",
              "      <th>socio-Trabajad</th>\n",
              "      <th>Nombre Comercial</th>\n",
              "      <th>Sector CIIU_12</th>\n",
              "      <th>Sector CIIU_4</th>\n",
              "      <th>Ventas ultimo mes</th>\n",
              "      <th>Valor Agreagado mensual</th>\n",
              "      <th>Ingreso Mixto</th>\n",
              "    </tr>\n",
              "    <tr>\n",
              "      <th>ID</th>\n",
              "      <th></th>\n",
              "      <th></th>\n",
              "      <th></th>\n",
              "      <th></th>\n",
              "      <th></th>\n",
              "      <th></th>\n",
              "      <th></th>\n",
              "      <th></th>\n",
              "      <th></th>\n",
              "      <th></th>\n",
              "      <th></th>\n",
              "      <th></th>\n",
              "      <th></th>\n",
              "      <th></th>\n",
              "    </tr>\n",
              "  </thead>\n",
              "  <tbody>\n",
              "    <tr>\n",
              "      <th>478012011</th>\n",
              "      <td>76</td>\n",
              "      <td></td>\n",
              "      <td>1</td>\n",
              "      <td>1</td>\n",
              "      <td>22</td>\n",
              "      <td>1</td>\n",
              "      <td>0</td>\n",
              "      <td>1</td>\n",
              "      <td>2</td>\n",
              "      <td>12</td>\n",
              "      <td>4</td>\n",
              "      <td>0.0</td>\n",
              "      <td>-60000.0</td>\n",
              "      <td>-60000.0</td>\n",
              "    </tr>\n",
              "    <tr>\n",
              "      <th>478012411</th>\n",
              "      <td>76</td>\n",
              "      <td></td>\n",
              "      <td>1</td>\n",
              "      <td>1</td>\n",
              "      <td>28</td>\n",
              "      <td>2</td>\n",
              "      <td>0</td>\n",
              "      <td>1</td>\n",
              "      <td>2</td>\n",
              "      <td>4</td>\n",
              "      <td>4</td>\n",
              "      <td>0.0</td>\n",
              "      <td>0.0</td>\n",
              "      <td>-1600000.0</td>\n",
              "    </tr>\n",
              "    <tr>\n",
              "      <th>478012511</th>\n",
              "      <td>76</td>\n",
              "      <td></td>\n",
              "      <td>1</td>\n",
              "      <td>1</td>\n",
              "      <td>38</td>\n",
              "      <td></td>\n",
              "      <td></td>\n",
              "      <td>2</td>\n",
              "      <td>2</td>\n",
              "      <td>12</td>\n",
              "      <td>4</td>\n",
              "      <td>1300000.0</td>\n",
              "      <td>498000.0</td>\n",
              "      <td>498000.0</td>\n",
              "    </tr>\n",
              "    <tr>\n",
              "      <th>478013811</th>\n",
              "      <td>76</td>\n",
              "      <td></td>\n",
              "      <td>1</td>\n",
              "      <td>1</td>\n",
              "      <td>53</td>\n",
              "      <td></td>\n",
              "      <td></td>\n",
              "      <td>2</td>\n",
              "      <td>2</td>\n",
              "      <td>4</td>\n",
              "      <td>4</td>\n",
              "      <td>400000.0</td>\n",
              "      <td>260000.0</td>\n",
              "      <td>260000.0</td>\n",
              "    </tr>\n",
              "    <tr>\n",
              "      <th>478014511</th>\n",
              "      <td>23</td>\n",
              "      <td></td>\n",
              "      <td>2</td>\n",
              "      <td>1</td>\n",
              "      <td>42</td>\n",
              "      <td></td>\n",
              "      <td></td>\n",
              "      <td>2</td>\n",
              "      <td>2</td>\n",
              "      <td>4</td>\n",
              "      <td>4</td>\n",
              "      <td>60000.0</td>\n",
              "      <td>60000.0</td>\n",
              "      <td>60000.0</td>\n",
              "    </tr>\n",
              "  </tbody>\n",
              "</table>\n",
              "</div>"
            ],
            "text/plain": [
              "           COD_DEPTO AREA  ...  Valor Agreagado mensual  Ingreso Mixto\n",
              "ID                         ...                                        \n",
              "478012011         76       ...                 -60000.0       -60000.0\n",
              "478012411         76       ...                      0.0     -1600000.0\n",
              "478012511         76       ...                 498000.0       498000.0\n",
              "478013811         76       ...                 260000.0       260000.0\n",
              "478014511         23       ...                  60000.0        60000.0\n",
              "\n",
              "[5 rows x 14 columns]"
            ]
          },
          "metadata": {
            "tags": []
          },
          "execution_count": 89
        }
      ]
    },
    {
      "cell_type": "markdown",
      "metadata": {
        "id": "ZGVqds_mr8v1"
      },
      "source": [
        "## Analisis Datos"
      ]
    },
    {
      "cell_type": "code",
      "metadata": {
        "colab": {
          "base_uri": "https://localhost:8080/"
        },
        "id": "W6mzJTqVrQ41",
        "outputId": "2a1d7135-6608-46b2-9d47-03abd1481816"
      },
      "source": [
        "datos_analisis.info()"
      ],
      "execution_count": 90,
      "outputs": [
        {
          "output_type": "stream",
          "text": [
            "<class 'pandas.core.frame.DataFrame'>\n",
            "Index: 86969 entries, 478012011 to 508026131\n",
            "Data columns (total 14 columns):\n",
            " #   Column                   Non-Null Count  Dtype  \n",
            "---  ------                   --------------  -----  \n",
            " 0   COD_DEPTO                86969 non-null  int64  \n",
            " 1   AREA                     86969 non-null  object \n",
            " 2   CLASE                    86969 non-null  int64  \n",
            " 3   Sexo propietario         86969 non-null  int64  \n",
            " 4   Edad Propietario         86969 non-null  int64  \n",
            " 5   No.Trabajad remun        86969 non-null  object \n",
            " 6   No.socios                86969 non-null  object \n",
            " 7   socio-Trabajad           86969 non-null  int64  \n",
            " 8   Nombre Comercial         86969 non-null  int64  \n",
            " 9   Sector CIIU_12           86969 non-null  int64  \n",
            " 10  Sector CIIU_4            86969 non-null  int64  \n",
            " 11  Ventas ultimo mes        59129 non-null  float64\n",
            " 12  Valor Agreagado mensual  59129 non-null  float64\n",
            " 13  Ingreso Mixto            59129 non-null  float64\n",
            "dtypes: float64(3), int64(8), object(3)\n",
            "memory usage: 10.0+ MB\n"
          ],
          "name": "stdout"
        }
      ]
    },
    {
      "cell_type": "code",
      "metadata": {
        "colab": {
          "base_uri": "https://localhost:8080/"
        },
        "id": "lpG9xJWLaoTr",
        "outputId": "b49365c4-4398-4a55-c4b4-be7566f589d2"
      },
      "source": [
        "datos_analisis.shape"
      ],
      "execution_count": 91,
      "outputs": [
        {
          "output_type": "execute_result",
          "data": {
            "text/plain": [
              "(86969, 14)"
            ]
          },
          "metadata": {
            "tags": []
          },
          "execution_count": 91
        }
      ]
    },
    {
      "cell_type": "markdown",
      "metadata": {
        "id": "dPknXZtNsGM8"
      },
      "source": [
        "* Se realiza calculos estadisticos Basicos"
      ]
    },
    {
      "cell_type": "code",
      "metadata": {
        "colab": {
          "base_uri": "https://localhost:8080/",
          "height": 294
        },
        "id": "6mHVNuJQec-q",
        "outputId": "ffb9861f-4cab-4418-a9e5-19dc6ee8c28f"
      },
      "source": [
        "datos_analisis.describe().drop(columns=[\"COD_DEPTO\",\"CLASE\",\"Sexo propietario\",\"Nombre Comercial\",\"Sector CIIU_12\",\"Sector CIIU_4\"])"
      ],
      "execution_count": 92,
      "outputs": [
        {
          "output_type": "execute_result",
          "data": {
            "text/html": [
              "<div>\n",
              "<style scoped>\n",
              "    .dataframe tbody tr th:only-of-type {\n",
              "        vertical-align: middle;\n",
              "    }\n",
              "\n",
              "    .dataframe tbody tr th {\n",
              "        vertical-align: top;\n",
              "    }\n",
              "\n",
              "    .dataframe thead th {\n",
              "        text-align: right;\n",
              "    }\n",
              "</style>\n",
              "<table border=\"1\" class=\"dataframe\">\n",
              "  <thead>\n",
              "    <tr style=\"text-align: right;\">\n",
              "      <th></th>\n",
              "      <th>Edad Propietario</th>\n",
              "      <th>socio-Trabajad</th>\n",
              "      <th>Ventas ultimo mes</th>\n",
              "      <th>Valor Agreagado mensual</th>\n",
              "      <th>Ingreso Mixto</th>\n",
              "    </tr>\n",
              "  </thead>\n",
              "  <tbody>\n",
              "    <tr>\n",
              "      <th>count</th>\n",
              "      <td>86969.000000</td>\n",
              "      <td>86969.000000</td>\n",
              "      <td>5.912900e+04</td>\n",
              "      <td>5.912900e+04</td>\n",
              "      <td>5.912900e+04</td>\n",
              "    </tr>\n",
              "    <tr>\n",
              "      <th>mean</th>\n",
              "      <td>46.504318</td>\n",
              "      <td>1.876324</td>\n",
              "      <td>2.566033e+06</td>\n",
              "      <td>9.763400e+05</td>\n",
              "      <td>7.272574e+05</td>\n",
              "    </tr>\n",
              "    <tr>\n",
              "      <th>std</th>\n",
              "      <td>14.421158</td>\n",
              "      <td>0.329214</td>\n",
              "      <td>8.215239e+06</td>\n",
              "      <td>3.974382e+06</td>\n",
              "      <td>3.840246e+06</td>\n",
              "    </tr>\n",
              "    <tr>\n",
              "      <th>min</th>\n",
              "      <td>18.000000</td>\n",
              "      <td>1.000000</td>\n",
              "      <td>0.000000e+00</td>\n",
              "      <td>-2.321350e+08</td>\n",
              "      <td>-2.404555e+08</td>\n",
              "    </tr>\n",
              "    <tr>\n",
              "      <th>25%</th>\n",
              "      <td>35.000000</td>\n",
              "      <td>2.000000</td>\n",
              "      <td>3.600000e+05</td>\n",
              "      <td>1.227500e+05</td>\n",
              "      <td>9.900000e+04</td>\n",
              "    </tr>\n",
              "    <tr>\n",
              "      <th>50%</th>\n",
              "      <td>47.000000</td>\n",
              "      <td>2.000000</td>\n",
              "      <td>9.000000e+05</td>\n",
              "      <td>4.250000e+05</td>\n",
              "      <td>3.800000e+05</td>\n",
              "    </tr>\n",
              "    <tr>\n",
              "      <th>75%</th>\n",
              "      <td>57.000000</td>\n",
              "      <td>2.000000</td>\n",
              "      <td>2.100000e+06</td>\n",
              "      <td>9.700000e+05</td>\n",
              "      <td>8.500000e+05</td>\n",
              "    </tr>\n",
              "    <tr>\n",
              "      <th>max</th>\n",
              "      <td>98.000000</td>\n",
              "      <td>2.000000</td>\n",
              "      <td>5.000000e+08</td>\n",
              "      <td>1.950000e+08</td>\n",
              "      <td>1.941000e+08</td>\n",
              "    </tr>\n",
              "  </tbody>\n",
              "</table>\n",
              "</div>"
            ],
            "text/plain": [
              "       Edad Propietario  socio-Trabajad  ...  Valor Agreagado mensual  Ingreso Mixto\n",
              "count      86969.000000    86969.000000  ...             5.912900e+04   5.912900e+04\n",
              "mean          46.504318        1.876324  ...             9.763400e+05   7.272574e+05\n",
              "std           14.421158        0.329214  ...             3.974382e+06   3.840246e+06\n",
              "min           18.000000        1.000000  ...            -2.321350e+08  -2.404555e+08\n",
              "25%           35.000000        2.000000  ...             1.227500e+05   9.900000e+04\n",
              "50%           47.000000        2.000000  ...             4.250000e+05   3.800000e+05\n",
              "75%           57.000000        2.000000  ...             9.700000e+05   8.500000e+05\n",
              "max           98.000000        2.000000  ...             1.950000e+08   1.941000e+08\n",
              "\n",
              "[8 rows x 5 columns]"
            ]
          },
          "metadata": {
            "tags": []
          },
          "execution_count": 92
        }
      ]
    },
    {
      "cell_type": "markdown",
      "metadata": {
        "id": "9BSjEqMNZVVA"
      },
      "source": [
        "* Se busca estudiar la participacion de los departamentos dentro de la encuesta de micronegocios del Dane, en pro de posteriormente analizar la distribucion del valor agregado de estos mismos bajo detrminadas condiciones.\n",
        "\n",
        "De esta manera se plantean Diagramas de barras que denotan los departamentos pertencientes a las regiones de administracion y planificacíon **RAP** con sus respectivas participaciones porcentuales dentro de la Encuesta de Micronegocios 2019."
      ]
    },
    {
      "cell_type": "code",
      "metadata": {
        "id": "x7fZ7lIho0tU"
      },
      "source": [
        "datos_depto=datos_analisis[\"COD_DEPTO\"].replace({5:\"Antioquia\",8:\"Atlantico\",11:\"Bogota\",13:\"Bolivar\",15:\"Boyaca\",\\\n",
        "                        17:\"Caldas\",18:\"Caqueta\",19:\"Cauca\",20:\"Cesar\",23:\"Cordoba\",\\\n",
        "                        25:\"Cundinamarca\",27:\"Choco\",41:\"Huila\",44:\"La Guajira\",47:\"Magdalena\",\\\n",
        "                        50:\"Meta\",52:\"Nariño\",54:\"N.Santander\",63:\"Quindio\",\\\n",
        "                        66:\"Risaralda\",68:\"Santander\",70:\"Sucre\",73:\"Tolima\",76:\"Valle del Cauca\",\n",
        "                        88:\"San Andres\"})"
      ],
      "execution_count": 149,
      "outputs": []
    },
    {
      "cell_type": "code",
      "metadata": {
        "colab": {
          "base_uri": "https://localhost:8080/",
          "height": 805
        },
        "id": "47_AXjKFSFDQ",
        "outputId": "44241a94-a384-4edb-cadf-9271945291d6"
      },
      "source": [
        "\n",
        "datos=datos_depto.value_counts()\n",
        "\n",
        "regiones_str=[\"Region Caribe\",\"Region Cafetera\",\"Region Central\",\"Region Pacifica\",\"Departamentos no clasificados\"]\n",
        "region_caribe=[\"Atlantico\",\"Bolivar\",\"Cesar\",\"Cordoba\",\"La Guajira\",\"Magdalena\",\"Sucre\"]\n",
        "region_cafetera=[\"Caldas\",\"Quindio\",\"Risaralda\",\"Tolima\"]\n",
        "region_central=[\"Boyaca\",\"Cundinamarca\",\"Meta\",\"Bogota\",\"Huila\"]\n",
        "region_pacifica=[\"Cauca\",\"Choco\",\"Nariño\",\"Valle del Cauca\"]\n",
        "otros_deptos=[\"N.Santander\",\"Santander\",\"Caqueta\",\"Antioquia\",\"San Andres\"]\n",
        "regiones=[region_caribe,region_cafetera,region_central,region_pacifica,otros_deptos]\n",
        "\n",
        "fig, ax = plt.subplots(5, sharex=True)\n",
        "fig.set_size_inches(5,12)\n",
        "plt.subplots_adjust(hspace = 0.5)\n",
        "fig.subplots_adjust(top=0.9)\n",
        "fig.suptitle(\"Distribucion Porcentual por Departamentos de las RAP\", fontsize=16)\n",
        "\n",
        "for i in range(5):\n",
        "  ax[i].barh(datos[regiones[i]].index,list(map(lambda x:x*(1/86969),list(datos[regiones[i]].values*100)))\\\n",
        "             ,linewidth=0.1,height=0.5,color=\"red\",alpha=0.5)\n",
        "  ax[i].set_title(regiones_str[i])\n",
        "  ax[i].xaxis.set_tick_params(which='both', labelbottom=True)\n",
        "  \n",
        "ax[4].set_xlabel(\"Porcentaje(%)\",fontsize=16)\n",
        "\n",
        "ax[0].xaxis.set_tick_params(which='both', labelbottom=True)\n",
        "plt.show()\n"
      ],
      "execution_count": 150,
      "outputs": [
        {
          "output_type": "display_data",
          "data": {
            "image/png": "[encoded data removed]",
            "text/plain": [
              "<Figure size 360x864 with 5 Axes>"
            ]
          },
          "metadata": {
            "tags": [],
            "needs_background": "light"
          }
        }
      ]
    },
    {
      "cell_type": "code",
      "metadata": {
        "colab": {
          "base_uri": "https://localhost:8080/",
          "height": 445
        },
        "id": "VkRByur6b04K",
        "outputId": "d7374b1f-fbfc-43f6-9f51-d2ef7f390ef4"
      },
      "source": [
        "datos_depto_2=pd.DataFrame(datos_depto)\n",
        "datos_depto_2[\"Region\"]=datos_depto.replace({\"Valle del Cauca\":\"Pacifica\",\"Atlantico\":\"Caribe\",\\\n",
        "                                             \"Bogota\":\"Central\",\"Bolivar\":\"Caribe\",\"Boyaca\":\"Central\"\\\n",
        "                                             ,\"Caldas\":\"Cafetera\",\"Caqueta\":\"No clasificado\",\"Cauca\":\"Pacifica\",\n",
        "                                             \"Cesar\":\"Caribe\",\"Cordoba\":\"Caribe\",\"Cundinamarca\":\"Central\",\"Choco\":\"Pacifica\",\\\n",
        "                                             \"Huila\":\"Central\",\"La Guajira\":\"Caribe\",\"Magdalena\":\"Caribe\",\"Meta\":\"Central\",\\\n",
        "                                             \"Nariño\":\"Pacifica\",\"N.Santander\":\"No clasificado\",\"Quindio\":\"Cafetera\",\\\n",
        "                                             \"Risaralda\":\"Cafetera\",\"Santander\":\"No clasificado\",\"Sucre\":\"Caribe\",\"Tolima\":\"Central\",\\\n",
        "                                             \"Valle del Cauca\":\"Pacifica\",\"San Andres\":\"No clasificado\",\"Antioquia\":\"No clasificado\"})\n",
        "                                           \n",
        "datos_depto_2[\"Ingreso_mes\"]=datos_analisis[\"Ventas ultimo mes\"]\n",
        "datos_depto_2"
      ],
      "execution_count": 152,
      "outputs": [
        {
          "output_type": "execute_result",
          "data": {
            "text/html": [
              "<div>\n",
              "<style scoped>\n",
              "    .dataframe tbody tr th:only-of-type {\n",
              "        vertical-align: middle;\n",
              "    }\n",
              "\n",
              "    .dataframe tbody tr th {\n",
              "        vertical-align: top;\n",
              "    }\n",
              "\n",
              "    .dataframe thead th {\n",
              "        text-align: right;\n",
              "    }\n",
              "</style>\n",
              "<table border=\"1\" class=\"dataframe\">\n",
              "  <thead>\n",
              "    <tr style=\"text-align: right;\">\n",
              "      <th></th>\n",
              "      <th>COD_DEPTO</th>\n",
              "      <th>Region</th>\n",
              "      <th>Ingreso_mes</th>\n",
              "    </tr>\n",
              "    <tr>\n",
              "      <th>ID</th>\n",
              "      <th></th>\n",
              "      <th></th>\n",
              "      <th></th>\n",
              "    </tr>\n",
              "  </thead>\n",
              "  <tbody>\n",
              "    <tr>\n",
              "      <th>478012011</th>\n",
              "      <td>Valle del Cauca</td>\n",
              "      <td>Pacifica</td>\n",
              "      <td>0.0</td>\n",
              "    </tr>\n",
              "    <tr>\n",
              "      <th>478012411</th>\n",
              "      <td>Valle del Cauca</td>\n",
              "      <td>Pacifica</td>\n",
              "      <td>0.0</td>\n",
              "    </tr>\n",
              "    <tr>\n",
              "      <th>478012511</th>\n",
              "      <td>Valle del Cauca</td>\n",
              "      <td>Pacifica</td>\n",
              "      <td>1300000.0</td>\n",
              "    </tr>\n",
              "    <tr>\n",
              "      <th>478013811</th>\n",
              "      <td>Valle del Cauca</td>\n",
              "      <td>Pacifica</td>\n",
              "      <td>400000.0</td>\n",
              "    </tr>\n",
              "    <tr>\n",
              "      <th>478014511</th>\n",
              "      <td>Cordoba</td>\n",
              "      <td>Caribe</td>\n",
              "      <td>60000.0</td>\n",
              "    </tr>\n",
              "    <tr>\n",
              "      <th>...</th>\n",
              "      <td>...</td>\n",
              "      <td>...</td>\n",
              "      <td>...</td>\n",
              "    </tr>\n",
              "    <tr>\n",
              "      <th>508024811</th>\n",
              "      <td>Huila</td>\n",
              "      <td>Central</td>\n",
              "      <td>NaN</td>\n",
              "    </tr>\n",
              "    <tr>\n",
              "      <th>508024821</th>\n",
              "      <td>Huila</td>\n",
              "      <td>Central</td>\n",
              "      <td>NaN</td>\n",
              "    </tr>\n",
              "    <tr>\n",
              "      <th>508025411</th>\n",
              "      <td>Caldas</td>\n",
              "      <td>Cafetera</td>\n",
              "      <td>NaN</td>\n",
              "    </tr>\n",
              "    <tr>\n",
              "      <th>508025741</th>\n",
              "      <td>Quindio</td>\n",
              "      <td>Cafetera</td>\n",
              "      <td>NaN</td>\n",
              "    </tr>\n",
              "    <tr>\n",
              "      <th>508026131</th>\n",
              "      <td>Tolima</td>\n",
              "      <td>Central</td>\n",
              "      <td>NaN</td>\n",
              "    </tr>\n",
              "  </tbody>\n",
              "</table>\n",
              "<p>86969 rows × 3 columns</p>\n",
              "</div>"
            ],
            "text/plain": [
              "                 COD_DEPTO    Region  Ingreso_mes\n",
              "ID                                               \n",
              "478012011  Valle del Cauca  Pacifica          0.0\n",
              "478012411  Valle del Cauca  Pacifica          0.0\n",
              "478012511  Valle del Cauca  Pacifica    1300000.0\n",
              "478013811  Valle del Cauca  Pacifica     400000.0\n",
              "478014511          Cordoba    Caribe      60000.0\n",
              "...                    ...       ...          ...\n",
              "508024811            Huila   Central          NaN\n",
              "508024821            Huila   Central          NaN\n",
              "508025411           Caldas  Cafetera          NaN\n",
              "508025741          Quindio  Cafetera          NaN\n",
              "508026131           Tolima   Central          NaN\n",
              "\n",
              "[86969 rows x 3 columns]"
            ]
          },
          "metadata": {
            "tags": []
          },
          "execution_count": 152
        }
      ]
    },
    {
      "cell_type": "code",
      "metadata": {
        "colab": {
          "base_uri": "https://localhost:8080/",
          "height": 232
        },
        "id": "0MoOEjSXpMV8",
        "outputId": "f817433e-787b-4cc0-a4d2-d31322344e46"
      },
      "source": [
        "datos_depto_2.dropna(axis=0,inplace=True) # drops nahs by axis 0\n",
        "depto_limpia=datos_depto_2[(datos_depto_2 != 0).all(1)]\n",
        "depto_limpia.head()"
      ],
      "execution_count": 153,
      "outputs": [
        {
          "output_type": "execute_result",
          "data": {
            "text/html": [
              "<div>\n",
              "<style scoped>\n",
              "    .dataframe tbody tr th:only-of-type {\n",
              "        vertical-align: middle;\n",
              "    }\n",
              "\n",
              "    .dataframe tbody tr th {\n",
              "        vertical-align: top;\n",
              "    }\n",
              "\n",
              "    .dataframe thead th {\n",
              "        text-align: right;\n",
              "    }\n",
              "</style>\n",
              "<table border=\"1\" class=\"dataframe\">\n",
              "  <thead>\n",
              "    <tr style=\"text-align: right;\">\n",
              "      <th></th>\n",
              "      <th>COD_DEPTO</th>\n",
              "      <th>Region</th>\n",
              "      <th>Ingreso_mes</th>\n",
              "    </tr>\n",
              "    <tr>\n",
              "      <th>ID</th>\n",
              "      <th></th>\n",
              "      <th></th>\n",
              "      <th></th>\n",
              "    </tr>\n",
              "  </thead>\n",
              "  <tbody>\n",
              "    <tr>\n",
              "      <th>478012511</th>\n",
              "      <td>Valle del Cauca</td>\n",
              "      <td>Pacifica</td>\n",
              "      <td>1300000.0</td>\n",
              "    </tr>\n",
              "    <tr>\n",
              "      <th>478013811</th>\n",
              "      <td>Valle del Cauca</td>\n",
              "      <td>Pacifica</td>\n",
              "      <td>400000.0</td>\n",
              "    </tr>\n",
              "    <tr>\n",
              "      <th>478014511</th>\n",
              "      <td>Cordoba</td>\n",
              "      <td>Caribe</td>\n",
              "      <td>60000.0</td>\n",
              "    </tr>\n",
              "    <tr>\n",
              "      <th>478014811</th>\n",
              "      <td>Cordoba</td>\n",
              "      <td>Caribe</td>\n",
              "      <td>48000.0</td>\n",
              "    </tr>\n",
              "    <tr>\n",
              "      <th>478014831</th>\n",
              "      <td>Cordoba</td>\n",
              "      <td>Caribe</td>\n",
              "      <td>120000.0</td>\n",
              "    </tr>\n",
              "  </tbody>\n",
              "</table>\n",
              "</div>"
            ],
            "text/plain": [
              "                 COD_DEPTO    Region  Ingreso_mes\n",
              "ID                                               \n",
              "478012511  Valle del Cauca  Pacifica    1300000.0\n",
              "478013811  Valle del Cauca  Pacifica     400000.0\n",
              "478014511          Cordoba    Caribe      60000.0\n",
              "478014811          Cordoba    Caribe      48000.0\n",
              "478014831          Cordoba    Caribe     120000.0"
            ]
          },
          "metadata": {
            "tags": []
          },
          "execution_count": 153
        }
      ]
    },
    {
      "cell_type": "code",
      "metadata": {
        "colab": {
          "base_uri": "https://localhost:8080/"
        },
        "id": "3oLlQjeszqRL",
        "outputId": "4c7ca16b-58f7-46d2-8481-f19a07767b59"
      },
      "source": [
        "por_region=depto_limpia.groupby([\"Region\"])[\"Ingreso_mes\"].mean()\n",
        "por_region"
      ],
      "execution_count": 159,
      "outputs": [
        {
          "output_type": "execute_result",
          "data": {
            "text/plain": [
              "Region\n",
              "Cafetera          2.810429e+06\n",
              "Caribe            2.430351e+06\n",
              "Central           3.122168e+06\n",
              "No clasificado    3.118984e+06\n",
              "Pacifica          2.494580e+06\n",
              "Name: Ingreso_mes, dtype: float64"
            ]
          },
          "metadata": {
            "tags": []
          },
          "execution_count": 159
        }
      ]
    },
    {
      "cell_type": "code",
      "metadata": {
        "colab": {
          "base_uri": "https://localhost:8080/",
          "height": 326
        },
        "id": "DCUbdkSN0J5J",
        "outputId": "0710f1dc-c751-4031-e420-0cd14eb3b49b"
      },
      "source": [
        "fig,ax=plt.subplots()\n",
        "ax.bar(por_region.index,por_region.values,color=\"red\",alpha=0.6)\n",
        "ax.set_title(\"Promedio Ingresos Ultimo Mes por Region\",fontsize=16)\n",
        "ax.set_xlabel(\"Regiones\",fontsize=16)\n",
        "plt.xticks(rotation=0,fontsize=12)\n",
        "ax.title.set_position([.5, 1.1])\n"
      ],
      "execution_count": 198,
      "outputs": [
        {
          "output_type": "display_data",
          "data": {
            "image/png": "[encoded data removed]",
            "text/plain": [
              "<Figure size 432x288 with 1 Axes>"
            ]
          },
          "metadata": {
            "tags": [],
            "needs_background": "light"
          }
        }
      ]
    },
    {
      "cell_type": "code",
      "metadata": {
        "colab": {
          "base_uri": "https://localhost:8080/",
          "height": 307
        },
        "id": "CzXQjeY1ot1T",
        "outputId": "f81d6d41-54af-4481-9dd1-117ac3ef09c2"
      },
      "source": [
        "sns.boxplot( x=depto_limpia[\"Region\"], y=depto_limpia[\"Ingreso_mes\"] ,data=depto_limpia)\n"
      ],
      "execution_count": 154,
      "outputs": [
        {
          "output_type": "execute_result",
          "data": {
            "text/plain": [
              "<matplotlib.axes._subplots.AxesSubplot at 0x7f9276b5e210>"
            ]
          },
          "metadata": {
            "tags": []
          },
          "execution_count": 154
        },
        {
          "output_type": "display_data",
          "data": {
            "image/png": "[encoded data removed]",
            "text/plain": [
              "<Figure size 432x288 with 1 Axes>"
            ]
          },
          "metadata": {
            "tags": [],
            "needs_background": "light"
          }
        }
      ]
    },
    {
      "cell_type": "code",
      "metadata": {
        "colab": {
          "base_uri": "https://localhost:8080/"
        },
        "id": "RhtMTc0DuJqi",
        "outputId": "92d94644-701e-4240-be15-ca481b7ca640"
      },
      "source": [
        "ejemplo=depto_limpia[[\"Region\",\"Ingreso_mes\"]]\n",
        "ejemplo.value_counts()"
      ],
      "execution_count": 146,
      "outputs": [
        {
          "output_type": "execute_result",
          "data": {
            "text/plain": [
              "Region     Ingreso_mes\n",
              "Caribe     1200000.0      778\n",
              "           600000.0       763\n",
              "           800000.0       664\n",
              "           1000000.0      660\n",
              "           300000.0       616\n",
              "                         ... \n",
              "Central    8100000.0        1\n",
              "           7596000.0        1\n",
              "           7440000.0        1\n",
              "           7400000.0        1\n",
              "Antioquia  5000.0           1\n",
              "Length: 5334, dtype: int64"
            ]
          },
          "metadata": {
            "tags": []
          },
          "execution_count": 146
        }
      ]
    },
    {
      "cell_type": "code",
      "metadata": {
        "colab": {
          "base_uri": "https://localhost:8080/"
        },
        "id": "smXNDDoyz63A",
        "outputId": "ca8b80c4-a229-461d-aa9a-64004058ad6a"
      },
      "source": [
        ""
      ],
      "execution_count": 156,
      "outputs": [
        {
          "output_type": "execute_result",
          "data": {
            "text/plain": [
              "Region\n",
              "Cafetera          2.810429e+06\n",
              "Caribe            2.430351e+06\n",
              "Central           3.122168e+06\n",
              "No clasificado    3.118984e+06\n",
              "Pacifica          2.494580e+06\n",
              "Name: Ingreso_mes, dtype: float64"
            ]
          },
          "metadata": {
            "tags": []
          },
          "execution_count": 156
        }
      ]
    },
    {
      "cell_type": "markdown",
      "metadata": {
        "id": "182WScKZb3_g"
      },
      "source": [
        "* Ahora se realiza un Boxplot que permite visualizar la distribución del valor agregado generado por los micronegocios encuestados."
      ]
    },
    {
      "cell_type": "code",
      "metadata": {
        "id": "JLzR6lkAcnhe",
        "colab": {
          "base_uri": "https://localhost:8080/"
        },
        "outputId": "54f76b37-861a-4dd7-97b3-55f4c9df910a"
      },
      "source": [
        "datos_analisis[\"Ventas ultimo mes\"].isnull().sum()"
      ],
      "execution_count": 47,
      "outputs": [
        {
          "output_type": "execute_result",
          "data": {
            "text/plain": [
              "27840"
            ]
          },
          "metadata": {
            "tags": []
          },
          "execution_count": 47
        }
      ]
    },
    {
      "cell_type": "code",
      "metadata": {
        "id": "KRqyhBedd6tH"
      },
      "source": [
        "\"\"\n",
        "datos_depto=datos_depto.replace({\"Atlantico\":regiones_str[0],\"Bolivar\":regiones_str[0],\"Cesar\":regiones_str[0],\\\n",
        "                     \"Cordoba\":regiones_str[0],\"La Guajira\":regiones_str[0],\"Magdalena\":regiones_str[0]\\\n",
        "                     ,\"Sucre\":regiones_str[0],\"Caldas\":regiones_str[1],\"Quindio\":regiones_str[1],\"Risaralda\"\\\n",
        "                     :regiones_str[1],\"Tolima\":regiones_str[1],\"Boyaca\":regiones_str[2],\"Cundinamarca\":regiones_str[2]\\\n",
        "                     ,\"Meta\":regiones_str[2],\"Bogota\":regiones_str[2],\"Huila\":regiones_str[2],\"Cauca\":regiones_str[3]\\\n",
        "                     ,\"Choco\":regiones_str[3],\"Nariño\":regiones_str[3],\"Valle del Cauca\":regiones_str[3],\\\n",
        "                     \"N.Santander\":regiones_str[4],\"Santander\":regiones_str[4],\"Caqueta\":regiones_str[4],\"Antioquia\"\\\n",
        "                     :regiones_str[4],\"San Andres\":regiones_str[4]})\n",
        "datos_depto=(pd.DataFrame(datos_depto)).insert(0,\"val_agre\",datos_analisis[\"Valor Agreagado mensual\"])"
      ],
      "execution_count": 30,
      "outputs": []
    },
    {
      "cell_type": "code",
      "metadata": {
        "colab": {
          "base_uri": "https://localhost:8080/",
          "height": 167
        },
        "id": "W_u64nFfmvLa",
        "outputId": "f906fe29-d5c6-439b-8a21-e39ddcafc942"
      },
      "source": [
        "datos_depto.head()"
      ],
      "execution_count": 31,
      "outputs": [
        {
          "output_type": "error",
          "ename": "AttributeError",
          "evalue": "ignored",
          "traceback": [
            "\u001b[0;31m---------------------------------------------------------------------------\u001b[0m",
            "\u001b[0;31mAttributeError\u001b[0m                            Traceback (most recent call last)",
            "\u001b[0;32m<ipython-input-31-41ed5f6efdd9>\u001b[0m in \u001b[0;36m<module>\u001b[0;34m()\u001b[0m\n\u001b[0;32m----> 1\u001b[0;31m \u001b[0mdatos_depto\u001b[0m\u001b[0;34m.\u001b[0m\u001b[0mhead\u001b[0m\u001b[0;34m(\u001b[0m\u001b[0;34m)\u001b[0m\u001b[0;34m\u001b[0m\u001b[0;34m\u001b[0m\u001b[0m\n\u001b[0m",
            "\u001b[0;31mAttributeError\u001b[0m: 'NoneType' object has no attribute 'head'"
          ]
        }
      ]
    },
    {
      "cell_type": "code",
      "metadata": {
        "id": "QnWf13xqmdSP"
      },
      "source": [
        "sns.boxplot( x=df[\"Valor Agregado mensual\"], y=df[\"sepal_length\"],data=datos_depto )"
      ],
      "execution_count": null,
      "outputs": []
    },
    {
      "cell_type": "code",
      "metadata": {
        "id": "iRim4kn7ksik"
      },
      "source": [
        "datos_depto.head(5)"
      ],
      "execution_count": null,
      "outputs": []
    },
    {
      "cell_type": "code",
      "metadata": {
        "id": "FCOMfRQUvLt7"
      },
      "source": [
        "sum(datos[region_caribe].values)"
      ],
      "execution_count": null,
      "outputs": []
    },
    {
      "cell_type": "code",
      "metadata": {
        "id": "3zVa9PHoxqnP"
      },
      "source": [
        "for i in range(5):\n",
        "  print(i)"
      ],
      "execution_count": null,
      "outputs": []
    },
    {
      "cell_type": "code",
      "metadata": {
        "id": "AI1Z1vUhbvmK"
      },
      "source": [
        "region_caribe=[\"Atlantico\",\"Bolivar\",\"Cesar\",\"Cordoba\",\"La Guajira\",\"Magdalena\",\"Sucre\"]"
      ],
      "execution_count": null,
      "outputs": []
    },
    {
      "cell_type": "code",
      "metadata": {
        "id": "1yOm0oAPQFD3"
      },
      "source": [
        "datos=datos_analisis[\"COD_DEPTO\"].replace({5:\"Antioquia\",8:\"Atlantico\",11:\"Bogota\",13:\"Bolivar\",15:\"Boyaca\",\\\n",
        "                        17:\"Caldas\",18:\"Caqueta\",19:\"Cauca\",20:\"Cesar\",23:\"Cordoba\",\\\n",
        "                        25:\"Cundinamarca\",27:\"Choco\",41:\"Huila\",44:\"La Guajira\",47:\"Magdalena\",\\\n",
        "                        50:\"Meta\",52:\"Nariño\",54:\"Norte de Santander\",63:\"Quindio\",\\\n",
        "                        66:\"Risaralda\",68:\"Santander\",70:\"Sucre\",73:\"Tolima\",76:\"Valle del Cauca\",\n",
        "                        88:\"Archipielago de San Andres\"}).value_counts()\n",
        "                      \n",
        "(list(datos.values)*100)\n",
        "result=list(map(lambda x:x*(1/86969),list(datos.values*100)))\n",
        "result"
      ],
      "execution_count": null,
      "outputs": []
    },
    {
      "cell_type": "code",
      "metadata": {
        "id": "ZlYG8uXcUwJy"
      },
      "source": [
        "\n",
        "datos_analisis.groupby(\"Sexo propietario\")[\"COD_DEPTO\"].mean()"
      ],
      "execution_count": null,
      "outputs": []
    },
    {
      "cell_type": "code",
      "metadata": {
        "id": "fcUGWmUAXiE3"
      },
      "source": [
        "datos_analisis.AREA.value_counts()"
      ],
      "execution_count": null,
      "outputs": []
    },
    {
      "cell_type": "code",
      "metadata": {
        "id": "wKuK6nqVk9i0"
      },
      "source": [
        "datos.COD_DEPTO_x.value_counts"
      ],
      "execution_count": null,
      "outputs": []
    },
    {
      "cell_type": "code",
      "metadata": {
        "id": "CEmMa_EkY-1n"
      },
      "source": [
        "datos_analisis.groupby([\"COD_DEPTO\",\"Sexo propietario\"])[\"Ingreso Mixto\"].mean()"
      ],
      "execution_count": null,
      "outputs": []
    },
    {
      "cell_type": "code",
      "metadata": {
        "id": "lESl3eG6KCkc"
      },
      "source": [
        "?pd.drop_duplicate"
      ],
      "execution_count": null,
      "outputs": []
    },
    {
      "cell_type": "code",
      "metadata": {
        "id": "UUb-CBfwGO41"
      },
      "source": [
        " ventas_ingresos.SECUENCIA_P.value_counts()"
      ],
      "execution_count": null,
      "outputs": []
    },
    {
      "cell_type": "code",
      "metadata": {
        "id": "C5ZZGlpjGbPF"
      },
      "source": [
        "regiones=[\"region_caribe\",\"region_cafetera\",\"region_central\",\"region_pacifica\",\"otros_deptos\"]\n",
        "regiones[0]"
      ],
      "execution_count": null,
      "outputs": []
    },
    {
      "cell_type": "code",
      "metadata": {
        "id": "cCnB9DntYOI6"
      },
      "source": [
        "ventas_ingresos.shape"
      ],
      "execution_count": null,
      "outputs": []
    },
    {
      "cell_type": "code",
      "metadata": {
        "id": "z11TunNXYQ1a"
      },
      "source": [
        "datos=pd.merge(identificacion,ventas_ingresos,on=\"directorio\",how=\"right\")        # unemos las dos tablas \n",
        "datos.head"
      ],
      "execution_count": null,
      "outputs": []
    },
    {
      "cell_type": "code",
      "metadata": {
        "id": "gsLWsesiY5RQ"
      },
      "source": [
        "datos=datos.drop(columns=['SECUENCIA_ENCUESTA_x','SECUENCIA_P_x',\n",
        " 'P35','MES_REF','SECUENCIA_ENCUESTA_y',\"F_EXP_x\",'P4005','P4006','P4007','P4008','P4009',\\\n",
        " 'P4010','P4011','P4012','P4013','P4014','P4015','P4016','P4017','P4018','P3075',\\\n",
        " 'P3068_ENE','P3068_1','P3068_FEB','P3068_2','P3068_MAR','P3068_3','P3068_ABR',\\\n",
        " 'P3068_4','P3068_MAY','P3068_5','P3068_JUN','P3068_6','P3068_JUL','P3068_7',\\\n",
        " 'P3068_AGO','P3068_8','P3068_SEP','P3068_9','P3068_OCT','P3068_10','P3068_NOV',\\\n",
        " 'P3068_11','P3068_DIC','P3068_12','P3068_TOD','P3068_NIN','P4019','P4020','P4021',\\\n",
        " 'P4022','P4023','P4024','P4025','P4026','P4027','P4028','P4029','P4030','P4031',\\\n",
        " 'P4032','P3072','AREA_y',\\\n",
        " 'F_EXP_y',\"SECUENCIA_P_y\",\"VENTAS_MES_ANIO_ANTERIOR\",\"VENTAS_ANIO_ANTERIOR\",\"P3057\",\\\n",
        " \"P3058\",\"P3059\",\t\"P3060\",\t\"P3061\",\t\"P3062\",\t\"P4002\",\t\"P3063\",\t\"P3064\",\t\"P3065\",\\\n",
        " \t\"P3066\",\t\"P3067\",\"P3092\",\"P3093\",\"DIRECTORIO_x\"])"
      ],
      "execution_count": null,
      "outputs": []
    },
    {
      "cell_type": "code",
      "metadata": {
        "id": "hx5Ydfa0vie5"
      },
      "source": [
        "datos.head(7)"
      ],
      "execution_count": null,
      "outputs": []
    },
    {
      "cell_type": "code",
      "metadata": {
        "id": "-UiqhyF_iOyV"
      },
      "source": [
        "datos=datos.replace(r'^\\s+$', np.nan, regex=True)\n",
        "datos.head(7)"
      ],
      "execution_count": null,
      "outputs": []
    },
    {
      "cell_type": "code",
      "metadata": {
        "id": "0J7Jwd2MrEQz"
      },
      "source": [
        "plt.hist(datos.COD_DEPTO_x.value_counts(normalize=True))"
      ],
      "execution_count": null,
      "outputs": []
    },
    {
      "cell_type": "code",
      "metadata": {
        "id": "Q7faqmreGeBb"
      },
      "source": [
        "datos.VALOR_AGREGADO.value_counts"
      ],
      "execution_count": null,
      "outputs": []
    },
    {
      "cell_type": "code",
      "metadata": {
        "id": "Mio7Oj4NGxZL"
      },
      "source": [
        "datos"
      ],
      "execution_count": null,
      "outputs": []
    },
    {
      "cell_type": "markdown",
      "metadata": {
        "id": "dlJD721Ssx2Y"
      },
      "source": [
        ""
      ]
    },
    {
      "cell_type": "code",
      "metadata": {
        "id": "61GegCMXsddb"
      },
      "source": [
        "prueba=pd.read_csv(\"Modulo de identificacion.csv\",sep=\";\")\n",
        "prueba"
      ],
      "execution_count": null,
      "outputs": []
    },
    {
      "cell_type": "code",
      "metadata": {
        "id": "NT8yKblhtGjM"
      },
      "source": [
        "list(datos.columns)"
      ],
      "execution_count": null,
      "outputs": []
    },
    {
      "cell_type": "code",
      "metadata": {
        "id": "ftAhLfEfvRyG"
      },
      "source": [
        "tabla1={\"nombre\":[\"juan\",\"pedro\",\"angie\"],\n",
        "        \"dinero\":[300,400,500]}\n",
        "tabla2={\"nombre\":[\"pedro\",\"juan\",\"angie\",\"juanca\"],\n",
        "        \"color_fav\":[\"negro\",\"rojo\",\"azul\",\"amarillo\"]}\n",
        "tabla11=pd.DataFrame(tabla1)\n",
        "tabla22=pd.DataFrame(tabla2)"
      ],
      "execution_count": null,
      "outputs": []
    },
    {
      "cell_type": "code",
      "metadata": {
        "id": "nDKSrfx6KVER"
      },
      "source": [
        "ejemplo=pd.merge(tabla11,tabla22,on=\"nombre\",how=\"outer\")"
      ],
      "execution_count": null,
      "outputs": []
    },
    {
      "cell_type": "code",
      "metadata": {
        "id": "cbJvDVbYK0aC"
      },
      "source": [
        "tabla11"
      ],
      "execution_count": null,
      "outputs": []
    },
    {
      "cell_type": "code",
      "metadata": {
        "id": "RuU4iGjSK5dU"
      },
      "source": [
        "tabla22"
      ],
      "execution_count": null,
      "outputs": []
    },
    {
      "cell_type": "code",
      "metadata": {
        "id": "76evBJAgKrYD"
      },
      "source": [
        "ejemplo.index([\"APELLIDO\",\"rana\",\"sapo\"])"
      ],
      "execution_count": null,
      "outputs": []
    },
    {
      "cell_type": "code",
      "metadata": {
        "id": "nUmp0mUpK4Gw"
      },
      "source": [
        ""
      ],
      "execution_count": null,
      "outputs": []
    },
    {
      "cell_type": "code",
      "metadata": {
        "id": "crT5V8YtKsRC"
      },
      "source": [
        "def hola():\n",
        "  '''Esta función Saluda'''\n",
        "  x=\"hola\"\n",
        "  print(x)"
      ],
      "execution_count": null,
      "outputs": []
    },
    {
      "cell_type": "code",
      "metadata": {
        "id": "q9AZF3qqj3g1"
      },
      "source": [
        "hola()"
      ],
      "execution_count": null,
      "outputs": []
    },
    {
      "cell_type": "code",
      "metadata": {
        "id": "HyIFOrg2j4jC"
      },
      "source": [
        "np.arange(25)"
      ],
      "execution_count": null,
      "outputs": []
    },
    {
      "cell_type": "code",
      "metadata": {
        "id": "_XlC8HwSf6HM"
      },
      "source": [
        ""
      ],
      "execution_count": null,
      "outputs": []
    }
  ]
}