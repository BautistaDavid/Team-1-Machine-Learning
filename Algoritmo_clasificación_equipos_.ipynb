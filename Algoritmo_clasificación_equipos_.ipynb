{
  "nbformat": 4,
  "nbformat_minor": 0,
  "metadata": {
    "colab": {
      "name": "Algoritmo_clasificación_equipos .ipynb",
      "provenance": [],
      "include_colab_link": true
    },
    "kernelspec": {
      "display_name": "Python 3",
      "name": "python3"
    },
    "language_info": {
      "name": "python"
    },
    "widgets": {
      "application/vnd.jupyter.widget-state+json": {
        "e4c42c30da1944a381fc5631fe8440a7": {
          "model_module": "@jupyter-widgets/controls",
          "model_name": "VBoxModel",
          "state": {
            "_view_name": "VBoxView",
            "_dom_classes": [
              "widget-interact"
            ],
            "_model_name": "VBoxModel",
            "_view_module": "@jupyter-widgets/controls",
            "_model_module_version": "1.5.0",
            "_view_count": null,
            "_view_module_version": "1.5.0",
            "box_style": "",
            "layout": "IPY_MODEL_263798b1120245409d5860fb8d334102",
            "_model_module": "@jupyter-widgets/controls",
            "children": [
              "IPY_MODEL_f4aa521cda78495f85a89bbeee0e4305",
              "IPY_MODEL_e7e2440d45a9408a94469c9035e93dc6",
              "IPY_MODEL_a9a9ca0f139d4b829acb55c44e303ab5",
              "IPY_MODEL_306baaa69ed2457aae98061b76818a49"
            ]
          }
        },
        "263798b1120245409d5860fb8d334102": {
          "model_module": "@jupyter-widgets/base",
          "model_name": "LayoutModel",
          "state": {
            "_view_name": "LayoutView",
            "grid_template_rows": null,
            "right": null,
            "justify_content": null,
            "_view_module": "@jupyter-widgets/base",
            "overflow": null,
            "_model_module_version": "1.2.0",
            "_view_count": null,
            "flex_flow": null,
            "width": null,
            "min_width": null,
            "border": null,
            "align_items": null,
            "bottom": null,
            "_model_module": "@jupyter-widgets/base",
            "top": null,
            "grid_column": null,
            "overflow_y": null,
            "overflow_x": null,
            "grid_auto_flow": null,
            "grid_area": null,
            "grid_template_columns": null,
            "flex": null,
            "_model_name": "LayoutModel",
            "justify_items": null,
            "grid_row": null,
            "max_height": null,
            "align_content": null,
            "visibility": null,
            "align_self": null,
            "height": null,
            "min_height": null,
            "padding": null,
            "grid_auto_rows": null,
            "grid_gap": null,
            "max_width": null,
            "order": null,
            "_view_module_version": "1.2.0",
            "grid_template_areas": null,
            "object_position": null,
            "object_fit": null,
            "grid_auto_columns": null,
            "margin": null,
            "display": null,
            "left": null
          }
        },
        "f4aa521cda78495f85a89bbeee0e4305": {
          "model_module": "@jupyter-widgets/controls",
          "model_name": "RadioButtonsModel",
          "state": {
            "_options_labels": [
              "Pts/P",
              "Ratio_victorias",
              "Ratio_derrotas",
              "golesF/P",
              "golesC/P"
            ],
            "_view_name": "RadioButtonsView",
            "style": "IPY_MODEL_6379c74e412c44ea9d6ca988c878fc73",
            "_dom_classes": [],
            "description": "Variable X_1:",
            "_model_name": "RadioButtonsModel",
            "index": 0,
            "_view_module": "@jupyter-widgets/controls",
            "_model_module_version": "1.5.0",
            "_view_count": null,
            "disabled": false,
            "_view_module_version": "1.5.0",
            "description_tooltip": null,
            "_model_module": "@jupyter-widgets/controls",
            "layout": "IPY_MODEL_47b4f7551796488a91c18d6b06c8f8d1"
          }
        },
        "e7e2440d45a9408a94469c9035e93dc6": {
          "model_module": "@jupyter-widgets/controls",
          "model_name": "RadioButtonsModel",
          "state": {
            "_options_labels": [
              "golesF/P",
              "Pts/P",
              "Ratio_victorias",
              "Ratio_derrotas",
              "golesC/P"
            ],
            "_view_name": "RadioButtonsView",
            "style": "IPY_MODEL_158953d228f942c0b04963cc780bdccb",
            "_dom_classes": [],
            "description": "Variable X_2",
            "_model_name": "RadioButtonsModel",
            "index": 4,
            "_view_module": "@jupyter-widgets/controls",
            "_model_module_version": "1.5.0",
            "_view_count": null,
            "disabled": false,
            "_view_module_version": "1.5.0",
            "description_tooltip": null,
            "_model_module": "@jupyter-widgets/controls",
            "layout": "IPY_MODEL_095a4c0508c34f72878704ba55ed1ddc"
          }
        },
        "a9a9ca0f139d4b829acb55c44e303ab5": {
          "model_module": "@jupyter-widgets/controls",
          "model_name": "RadioButtonsModel",
          "state": {
            "_options_labels": [
              "Matriz de confusion",
              "Matriz probabilidades",
              "Matriz predicciones"
            ],
            "_view_name": "RadioButtonsView",
            "style": "IPY_MODEL_dc58ea05d7b3436eb28f023a467bccda",
            "_dom_classes": [],
            "description": "Información Adiccional",
            "_model_name": "RadioButtonsModel",
            "index": 0,
            "_view_module": "@jupyter-widgets/controls",
            "_model_module_version": "1.5.0",
            "_view_count": null,
            "disabled": false,
            "_view_module_version": "1.5.0",
            "description_tooltip": null,
            "_model_module": "@jupyter-widgets/controls",
            "layout": "IPY_MODEL_f84734e137724468b6269f674506d110"
          }
        },
        "306baaa69ed2457aae98061b76818a49": {
          "model_module": "@jupyter-widgets/output",
          "model_name": "OutputModel",
          "state": {
            "_view_name": "OutputView",
            "msg_id": "",
            "_dom_classes": [],
            "_model_name": "OutputModel",
            "outputs": [
              {
                "output_type": "stream",
                "metadata": {
                  "tags": []
                },
                "text": "Variable X_1 Pts/P\nVariable X_2: golesC/P\n \nTiempo de ejecución del modelo: 0.0026701569999971753 segundos\n \n                 Resultados\n                           \nIntercepto        -4.844812\nCoeficiente x_1    3.442192\nCoeficiente x_2   -0.463072\n\n \nInformacion del modelo Muestra de Evaluacion:\n \nMatriz de confusión muestra de Evaluación:\n \n[[60  1]\n [ 5 27]]\n",
                "stream": "stdout"
              },
              {
                "output_type": "display_data",
                "metadata": {
                  "tags": [],
                  "needs_background": "light"
                },
                "image/png": "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\n",
                "text/plain": "<Figure size 1080x360 with 3 Axes>"
              }
            ],
            "_view_module": "@jupyter-widgets/output",
            "_model_module_version": "1.0.0",
            "_view_count": null,
            "_view_module_version": "1.0.0",
            "layout": "IPY_MODEL_992a8a552a67462e9ef0a7641794f688",
            "_model_module": "@jupyter-widgets/output"
          }
        },
        "6379c74e412c44ea9d6ca988c878fc73": {
          "model_module": "@jupyter-widgets/controls",
          "model_name": "DescriptionStyleModel",
          "state": {
            "_view_name": "StyleView",
            "_model_name": "DescriptionStyleModel",
            "description_width": "",
            "_view_module": "@jupyter-widgets/base",
            "_model_module_version": "1.5.0",
            "_view_count": null,
            "_view_module_version": "1.2.0",
            "_model_module": "@jupyter-widgets/controls"
          }
        },
        "47b4f7551796488a91c18d6b06c8f8d1": {
          "model_module": "@jupyter-widgets/base",
          "model_name": "LayoutModel",
          "state": {
            "_view_name": "LayoutView",
            "grid_template_rows": null,
            "right": null,
            "justify_content": null,
            "_view_module": "@jupyter-widgets/base",
            "overflow": null,
            "_model_module_version": "1.2.0",
            "_view_count": null,
            "flex_flow": null,
            "width": "max-content",
            "min_width": null,
            "border": null,
            "align_items": null,
            "bottom": null,
            "_model_module": "@jupyter-widgets/base",
            "top": null,
            "grid_column": null,
            "overflow_y": null,
            "overflow_x": null,
            "grid_auto_flow": null,
            "grid_area": null,
            "grid_template_columns": null,
            "flex": null,
            "_model_name": "LayoutModel",
            "justify_items": null,
            "grid_row": null,
            "max_height": null,
            "align_content": null,
            "visibility": null,
            "align_self": null,
            "height": null,
            "min_height": null,
            "padding": null,
            "grid_auto_rows": null,
            "grid_gap": null,
            "max_width": null,
            "order": null,
            "_view_module_version": "1.2.0",
            "grid_template_areas": null,
            "object_position": null,
            "object_fit": null,
            "grid_auto_columns": null,
            "margin": null,
            "display": null,
            "left": null
          }
        },
        "158953d228f942c0b04963cc780bdccb": {
          "model_module": "@jupyter-widgets/controls",
          "model_name": "DescriptionStyleModel",
          "state": {
            "_view_name": "StyleView",
            "_model_name": "DescriptionStyleModel",
            "description_width": "",
            "_view_module": "@jupyter-widgets/base",
            "_model_module_version": "1.5.0",
            "_view_count": null,
            "_view_module_version": "1.2.0",
            "_model_module": "@jupyter-widgets/controls"
          }
        },
        "095a4c0508c34f72878704ba55ed1ddc": {
          "model_module": "@jupyter-widgets/base",
          "model_name": "LayoutModel",
          "state": {
            "_view_name": "LayoutView",
            "grid_template_rows": null,
            "right": null,
            "justify_content": null,
            "_view_module": "@jupyter-widgets/base",
            "overflow": null,
            "_model_module_version": "1.2.0",
            "_view_count": null,
            "flex_flow": null,
            "width": "max-content",
            "min_width": null,
            "border": null,
            "align_items": null,
            "bottom": null,
            "_model_module": "@jupyter-widgets/base",
            "top": null,
            "grid_column": null,
            "overflow_y": null,
            "overflow_x": null,
            "grid_auto_flow": null,
            "grid_area": null,
            "grid_template_columns": null,
            "flex": null,
            "_model_name": "LayoutModel",
            "justify_items": null,
            "grid_row": null,
            "max_height": null,
            "align_content": null,
            "visibility": null,
            "align_self": null,
            "height": null,
            "min_height": null,
            "padding": null,
            "grid_auto_rows": null,
            "grid_gap": null,
            "max_width": null,
            "order": null,
            "_view_module_version": "1.2.0",
            "grid_template_areas": null,
            "object_position": null,
            "object_fit": null,
            "grid_auto_columns": null,
            "margin": null,
            "display": null,
            "left": null
          }
        },
        "dc58ea05d7b3436eb28f023a467bccda": {
          "model_module": "@jupyter-widgets/controls",
          "model_name": "DescriptionStyleModel",
          "state": {
            "_view_name": "StyleView",
            "_model_name": "DescriptionStyleModel",
            "description_width": "",
            "_view_module": "@jupyter-widgets/base",
            "_model_module_version": "1.5.0",
            "_view_count": null,
            "_view_module_version": "1.2.0",
            "_model_module": "@jupyter-widgets/controls"
          }
        },
        "f84734e137724468b6269f674506d110": {
          "model_module": "@jupyter-widgets/base",
          "model_name": "LayoutModel",
          "state": {
            "_view_name": "LayoutView",
            "grid_template_rows": null,
            "right": null,
            "justify_content": null,
            "_view_module": "@jupyter-widgets/base",
            "overflow": null,
            "_model_module_version": "1.2.0",
            "_view_count": null,
            "flex_flow": null,
            "width": null,
            "min_width": null,
            "border": null,
            "align_items": null,
            "bottom": null,
            "_model_module": "@jupyter-widgets/base",
            "top": null,
            "grid_column": null,
            "overflow_y": null,
            "overflow_x": null,
            "grid_auto_flow": null,
            "grid_area": null,
            "grid_template_columns": null,
            "flex": null,
            "_model_name": "LayoutModel",
            "justify_items": null,
            "grid_row": null,
            "max_height": null,
            "align_content": null,
            "visibility": null,
            "align_self": null,
            "height": null,
            "min_height": null,
            "padding": null,
            "grid_auto_rows": null,
            "grid_gap": null,
            "max_width": null,
            "order": null,
            "_view_module_version": "1.2.0",
            "grid_template_areas": null,
            "object_position": null,
            "object_fit": null,
            "grid_auto_columns": null,
            "margin": null,
            "display": null,
            "left": null
          }
        },
        "992a8a552a67462e9ef0a7641794f688": {
          "model_module": "@jupyter-widgets/base",
          "model_name": "LayoutModel",
          "state": {
            "_view_name": "LayoutView",
            "grid_template_rows": null,
            "right": null,
            "justify_content": null,
            "_view_module": "@jupyter-widgets/base",
            "overflow": null,
            "_model_module_version": "1.2.0",
            "_view_count": null,
            "flex_flow": null,
            "width": null,
            "min_width": null,
            "border": null,
            "align_items": null,
            "bottom": null,
            "_model_module": "@jupyter-widgets/base",
            "top": null,
            "grid_column": null,
            "overflow_y": null,
            "overflow_x": null,
            "grid_auto_flow": null,
            "grid_area": null,
            "grid_template_columns": null,
            "flex": null,
            "_model_name": "LayoutModel",
            "justify_items": null,
            "grid_row": null,
            "max_height": null,
            "align_content": null,
            "visibility": null,
            "align_self": null,
            "height": null,
            "min_height": null,
            "padding": null,
            "grid_auto_rows": null,
            "grid_gap": null,
            "max_width": null,
            "order": null,
            "_view_module_version": "1.2.0",
            "grid_template_areas": null,
            "object_position": null,
            "object_fit": null,
            "grid_auto_columns": null,
            "margin": null,
            "display": null,
            "left": null
          }
        }
      }
    }
  },
  "cells": [
    {
      "cell_type": "markdown",
      "metadata": {
        "id": "view-in-github",
        "colab_type": "text"
      },
      "source": [
        "<a href=\"https://colab.research.google.com/github/BautistaDavid/Team-1-Machine-Learning/blob/main/Algoritmo_clasificaci%C3%B3n_equipos_.ipynb\" target=\"_parent\"><img src=\"https://colab.research.google.com/assets/colab-badge.svg\" alt=\"Open In Colab\"/></a>"
      ]
    },
    {
      "cell_type": "code",
      "metadata": {
        "id": "0CFwpI4QcaMP"
      },
      "source": [
        "import pandas as pd \n",
        "from google.colab import drive\n",
        "from ipywidgets import widgets,interact,interactive\n",
        "from sklearn.model_selection import train_test_split\n",
        "from sklearn import svm\n",
        "url_1=\"https://raw.githubusercontent.com/BautistaDavid/Team-1-Machine-Learning/main/five_principals_2020.txt\"\n",
        "url_2=\"https://raw.githubusercontent.com/BautistaDavid/Team-1-Machine-Learning/main/portugal_2020.txt\"\n",
        "url_3=\"https://raw.githubusercontent.com/BautistaDavid/Team-1-Machine-Learning/main/five_principals_2019.txt\"\n",
        "url_4=\"https://raw.githubusercontent.com/BautistaDavid/Team-1-Machine-Learning/main/potugal_2019.txt\"\n",
        "\n",
        "clasificados_2020=['Inter', 'Bayern Munich', 'Manchester City', 'Atlético Madrid',\n",
        "       'Real Madrid', 'Lille', 'Paris S-G', 'Milan', 'Barcelona',\n",
        "       'Atalanta', 'Juventus', 'Monaco', 'Napoli', 'Sevilla', 'Lyon',\n",
        "       'Manchester Utd', 'RB Leipzig', 'Dortmund', 'Liverpool', 'Lazio',\n",
        "       'Wolfsburg', 'Chelsea', 'Eint Frankfurt', 'Leicester City',\n",
        "       'West Ham', 'Tottenham', 'Roma', 'Real Sociedad',\n",
        "       'Betis', 'Marseille','Villarreal', 'Rennes', 'Leverkusen','Sporting CP',\n",
        "      'Porto', 'Benfica', 'Braga', 'Paços', 'Santa Clara']\n",
        "\n",
        "clasificados_2019=[\"Liverpool\",\"Paris S-G\",\"Bayern Munich\",\"Real Madrid\",\"Juventus\",\n",
        "                   \"Barcelona\",\"Inter\",\"Manchester City\",\"Atalanta\",\"Lazio\",\"Dortmund\",\n",
        "                   \"Marseille\",\"RB Leipzig\",\"M'Gladbach\",\"Leverkusen\",\"Atlético Madrid\",\n",
        "                   \"Sevilla\",\"Roma\",\"Rennes\",\"Lille\",\"Manchester Utd\",\"Chelsea\",\"Milan\",\n",
        "                   \"Leicester City\",\"Napoli\",\"Villarreal\",\"Tottenham\",\"Hoffenheim\",\"Arsenal\",\n",
        "                   \"Real Sociedad\",\"Granada\",\"Nice\",\"Reims\",\"Wolfsburg\",\"Porto\",\"Benfica\",\"Braga\",\n",
        "                   \"Sporting CB\",\"Rio Ave\"]\n",
        "\n"
      ],
      "execution_count": 52,
      "outputs": []
    },
    {
      "cell_type": "code",
      "metadata": {
        "colab": {
          "base_uri": "https://localhost:8080/",
          "height": 200
        },
        "id": "m7s1n2Insex7",
        "outputId": "092894e0-54a8-420d-8850-bdae7bad6280"
      },
      "source": [
        "five_principals_2020=pd.read_csv(url_1)\n",
        "portugal_2020=pd.read_csv(url_2)\n",
        "five_principals_2019=pd.read_csv(url_3)\n",
        "portugal_2019=pd.read_csv(url_4)\n",
        "\n",
        "clasificados=[clasificados_2019,clasificados_2020]\n",
        "\n",
        "for i in ([five_principals_2019,five_principals_2020]):\n",
        "  i.drop(columns=[\"xG\",\"xGA\",\"xGD\",\"xGD/90\",\"Asistencia\",\"LgRk\",\"Máximo Goleador del Equipo\",\"Portero\"],inplace=True)\n",
        "\n",
        "for j in ([portugal_2019,portugal_2020]):\n",
        "  j.insert(10,\"Pts/P\",j[\"Pts\"]/j[\"PJ\"])\n",
        "  j.insert(2,\"País\",\"por PT\")\n",
        "  j.drop(columns=[\"Asistencia\",\"Notas\",\"Máximo Goleador del Equipo\",\"Portero\"],inplace=True)\n",
        "  #aca podriamos agregar año\n",
        "datos_2020=pd.concat([five_principals_2020,portugal_2020])\n",
        "datos_2019=pd.concat([five_principals_2019,portugal_2019])\n",
        "\n",
        "for i in ([datos_2020,datos_2019]):\n",
        "  i[\"golesF/P\"]=i.GF/i.PJ\n",
        "  i[\"golesC/P\"]=i.GC/i.PJ\n",
        "  i.insert(11,\"Ratio_victorias\",i.PG/i.PJ)\n",
        "  i.insert(12,\"Ratio_derrotas\",i.PP/i.PJ)\n",
        "\n",
        "datos_2020[\"competicion_europea\"]=datos_2020[\"Equipo\"].isin(clasificados_2020)\n",
        "datos_2019[\"competicion_europea\"]=datos_2019[\"Equipo\"].isin(clasificados_2019)\n",
        "\n",
        "datos=pd.concat([datos_2020,datos_2019])\n",
        "datos.head()"
      ],
      "execution_count": 53,
      "outputs": [
        {
          "output_type": "execute_result",
          "data": {
            "text/html": [
              "<div>\n",
              "<style scoped>\n",
              "    .dataframe tbody tr th:only-of-type {\n",
              "        vertical-align: middle;\n",
              "    }\n",
              "\n",
              "    .dataframe tbody tr th {\n",
              "        vertical-align: top;\n",
              "    }\n",
              "\n",
              "    .dataframe thead th {\n",
              "        text-align: right;\n",
              "    }\n",
              "</style>\n",
              "<table border=\"1\" class=\"dataframe\">\n",
              "  <thead>\n",
              "    <tr style=\"text-align: right;\">\n",
              "      <th></th>\n",
              "      <th>RL</th>\n",
              "      <th>Equipo</th>\n",
              "      <th>País</th>\n",
              "      <th>PJ</th>\n",
              "      <th>PG</th>\n",
              "      <th>PE</th>\n",
              "      <th>PP</th>\n",
              "      <th>GF</th>\n",
              "      <th>GC</th>\n",
              "      <th>DG</th>\n",
              "      <th>Pts</th>\n",
              "      <th>Ratio_victorias</th>\n",
              "      <th>Ratio_derrotas</th>\n",
              "      <th>Pts/P</th>\n",
              "      <th>golesF/P</th>\n",
              "      <th>golesC/P</th>\n",
              "      <th>competicion_europea</th>\n",
              "    </tr>\n",
              "  </thead>\n",
              "  <tbody>\n",
              "    <tr>\n",
              "      <th>0</th>\n",
              "      <td>1</td>\n",
              "      <td>Inter</td>\n",
              "      <td>it ITA</td>\n",
              "      <td>38</td>\n",
              "      <td>28</td>\n",
              "      <td>7</td>\n",
              "      <td>3</td>\n",
              "      <td>89</td>\n",
              "      <td>35</td>\n",
              "      <td>54</td>\n",
              "      <td>91</td>\n",
              "      <td>0.736842</td>\n",
              "      <td>0.078947</td>\n",
              "      <td>2.39</td>\n",
              "      <td>2.342105</td>\n",
              "      <td>0.921053</td>\n",
              "      <td>True</td>\n",
              "    </tr>\n",
              "    <tr>\n",
              "      <th>1</th>\n",
              "      <td>2</td>\n",
              "      <td>Bayern Munich</td>\n",
              "      <td>de GER</td>\n",
              "      <td>34</td>\n",
              "      <td>24</td>\n",
              "      <td>6</td>\n",
              "      <td>4</td>\n",
              "      <td>99</td>\n",
              "      <td>44</td>\n",
              "      <td>55</td>\n",
              "      <td>78</td>\n",
              "      <td>0.705882</td>\n",
              "      <td>0.117647</td>\n",
              "      <td>2.29</td>\n",
              "      <td>2.911765</td>\n",
              "      <td>1.294118</td>\n",
              "      <td>True</td>\n",
              "    </tr>\n",
              "    <tr>\n",
              "      <th>2</th>\n",
              "      <td>3</td>\n",
              "      <td>Manchester City</td>\n",
              "      <td>eng ENG</td>\n",
              "      <td>38</td>\n",
              "      <td>27</td>\n",
              "      <td>5</td>\n",
              "      <td>6</td>\n",
              "      <td>83</td>\n",
              "      <td>32</td>\n",
              "      <td>51</td>\n",
              "      <td>86</td>\n",
              "      <td>0.710526</td>\n",
              "      <td>0.157895</td>\n",
              "      <td>2.26</td>\n",
              "      <td>2.184211</td>\n",
              "      <td>0.842105</td>\n",
              "      <td>True</td>\n",
              "    </tr>\n",
              "    <tr>\n",
              "      <th>3</th>\n",
              "      <td>4</td>\n",
              "      <td>Atlético Madrid</td>\n",
              "      <td>es ESP</td>\n",
              "      <td>38</td>\n",
              "      <td>26</td>\n",
              "      <td>8</td>\n",
              "      <td>4</td>\n",
              "      <td>67</td>\n",
              "      <td>25</td>\n",
              "      <td>42</td>\n",
              "      <td>86</td>\n",
              "      <td>0.684211</td>\n",
              "      <td>0.105263</td>\n",
              "      <td>2.26</td>\n",
              "      <td>1.763158</td>\n",
              "      <td>0.657895</td>\n",
              "      <td>True</td>\n",
              "    </tr>\n",
              "    <tr>\n",
              "      <th>4</th>\n",
              "      <td>5</td>\n",
              "      <td>Real Madrid</td>\n",
              "      <td>es ESP</td>\n",
              "      <td>38</td>\n",
              "      <td>25</td>\n",
              "      <td>9</td>\n",
              "      <td>4</td>\n",
              "      <td>67</td>\n",
              "      <td>28</td>\n",
              "      <td>39</td>\n",
              "      <td>84</td>\n",
              "      <td>0.657895</td>\n",
              "      <td>0.105263</td>\n",
              "      <td>2.21</td>\n",
              "      <td>1.763158</td>\n",
              "      <td>0.736842</td>\n",
              "      <td>True</td>\n",
              "    </tr>\n",
              "  </tbody>\n",
              "</table>\n",
              "</div>"
            ],
            "text/plain": [
              "   RL           Equipo     País  ...  golesF/P  golesC/P  competicion_europea\n",
              "0   1            Inter   it ITA  ...  2.342105  0.921053                 True\n",
              "1   2    Bayern Munich   de GER  ...  2.911765  1.294118                 True\n",
              "2   3  Manchester City  eng ENG  ...  2.184211  0.842105                 True\n",
              "3   4  Atlético Madrid   es ESP  ...  1.763158  0.657895                 True\n",
              "4   5      Real Madrid   es ESP  ...  1.763158  0.736842                 True\n",
              "\n",
              "[5 rows x 17 columns]"
            ]
          },
          "metadata": {
            "tags": []
          },
          "execution_count": 53
        }
      ]
    },
    {
      "cell_type": "code",
      "metadata": {
        "id": "6MF6zcbcRbvz"
      },
      "source": [
        "def informacion_principal(x_1,x_2):\n",
        "  print(\"Variable X_1\",x_1)\n",
        "  print(\"Variable X_2:\",x_2)\n",
        "  print(\" \")\n",
        "\n",
        "def variables_modelo(x_1,x_2):\n",
        "  global X,y,X_train,X_eval,y_train,y_eval\n",
        "  X=datos[[x_1,x_2]]\n",
        "  y=datos[\"competicion_europea\"]\n",
        "  X_train,X_eval,y_train,y_eval=train_test_split(X,y,test_size=0.4,random_state=777)\n",
        "\n",
        "def codigo_modelo(x_1,x_2):\n",
        "  global clf,y_pred_in,y_pred_out,y_pred_proba_out,support_vector_,coef_x1,coef_x2,matriz_c_out,intercepto\n",
        "  clf=svm.SVC(kernel=\"linear\",probability=True)\n",
        "  start_time=time.process_time()\n",
        "  clf.fit(X_train,y_train)\n",
        "  execution_time=time.process_time()-start_time\n",
        "  print(f\"Tiempo de ejecución del modelo: {execution_time} segundos\")\n",
        "\n",
        "  y_pred_in=clf.predict(X_train)\n",
        "  y_pred_out=clf.predict(X_eval)\n",
        "\n",
        "  y_pred_proba_out=clf.predict_proba(X_eval)\n",
        "   \n",
        "  support_vector_ = clf.support_vectors_\n",
        "  intercepto=clf.intercept_[0]\n",
        "  coef_x1=clf.coef_[0][0]\n",
        "  coef_x2=clf.coef_[0][1]\n",
        "  matriz_c_out=confusion_matrix(y_eval,y_pred_out)\n",
        "\n",
        "def datos_graficar(x_1,x_2):\n",
        "  global datos_total_0,datos_total_1,datos_train_0,datos_train_1,datos_eval_0,datos_eval_1,datos_train,datos_eval\n",
        "\n",
        "  datos_total_0=datos.loc[datos.loc[:,\"competicion_europea\"]==0]\n",
        "  datos_total_1=datos.loc[datos.loc[:,\"competicion_europea\"]==1]\n",
        "\n",
        "  datos_train=pd.concat([X_train,y_train],axis=1)\n",
        "  datos_train_0=datos_train.loc[datos_train.loc[:,\"competicion_europea\"]==0]\n",
        "  datos_train_1=datos_train.loc[datos_train.loc[:,\"competicion_europea\"]==1]\n",
        "\n",
        "  datos_eval=pd.concat([X_eval,y_eval],axis=1)\n",
        "  datos_eval_0=datos_eval.loc[datos_eval.loc[:,\"competicion_europea\"]==0]\n",
        "  datos_eval_1=datos_eval.loc[datos_eval.loc[:,\"competicion_europea\"]==1]\n",
        "\n",
        "def graficas_modelo(x_1,x_2):\n",
        "  fig,ax=plt.subplots(1,3,figsize=(15,5))\n",
        "  plt.subplots_adjust(left=0.1, right=0.9,top=0.9, hspace=0.4)\n",
        "  x=np.linspace(-10,10,100)\n",
        "\n",
        "  ax[0].scatter(datos_train_0[x_1].values,datos_train_0[x_2].values,alpha=0.5,color=\"orange\",label=\"No Clasificados\")\n",
        "  ax[0].scatter(datos_train_1[x_1].values,datos_train_1[x_2].values,alpha=0.5,color=\"blue\",label=\"Clasificados\")\n",
        "  ax[0].set_title(\"SVM Muestra De Entrenamiento\")\n",
        "\n",
        "  ax[1].scatter(datos_eval_0[x_1].values,datos_eval_0[x_2].values,alpha=0.5,color=\"orange\",label=\"No Clasificados\")\n",
        "  ax[1].scatter(datos_eval_1[x_1].values,datos_eval_1[x_2].values,alpha=0.5,color=\"blue\",label=\"Clasificados\")\n",
        "  ax[1].set_title(\"SVM Muestra De Evaluacion\")\n",
        "\n",
        "  ax[2].scatter(datos_total_0[x_1].values,datos_total_0[x_2].values,alpha=0.5,color=\"orange\",label=\"No Clasificados\")\n",
        "  ax[2].scatter(datos_total_1[x_1].values,datos_total_1[x_2].values,alpha=0.5,color=\"blue\",label=\"Clasificados\")\n",
        "  ax[2].set_title(\"SVM Total de la Muestra\")\n",
        "\n",
        "  for i in range(3):\n",
        "    ax[i].plot(x,(intercepto/-coef_x2)+(coef_x1/-coef_x2)*x,color=\"black\")\n",
        "    ax[i].scatter(support_vector_[:,0], support_vector_[:,1], color='red',alpha=0.7,label=\"Vectores de Soporte\")\n",
        "    ax[i].set_xlim(datos[x_1].min()-0.2,datos[x_1].max()+0.2)\n",
        "    ax[i].set_ylim(datos[x_2].min()-0.2,datos[x_2].max()+0.2)\n",
        "    ax[i].grid()\n",
        "    ax[i].set_xlabel(x_1,fontsize=14)\n",
        "    ax[i].set_ylabel(x_2,fontsize=14)\n",
        "    ax[i].legend()\n",
        "\n",
        "def resultados_modelo(x_1,x_2):\n",
        "  rest={\"\":[\"Intercepto\",\"Coeficiente x_1\",\"Coeficiente x_2\"],\n",
        "        \"Resultados\":[intercepto,coef_x1,coef_x2]}\n",
        "  resultados=pd.DataFrame(rest)\n",
        "  resultados.set_index(\"\",inplace=True)\n",
        "  print(resultados)\n",
        "  print() \n",
        "  \n",
        "\n",
        "def evaluacion_modelo(x_1)\n",
        "  \n",
        "def informacion_out_sample(x_1,x_2,opcion):\n",
        "  print(\" \")\n",
        "  print(\"Informacion del modelo Muestra de Evaluacion:\")\n",
        "  print(\" \")\n",
        "  if opcion==\"Matriz de confusion\":\n",
        "    print(\"Matriz de confusión muestra de Evaluación:\")\n",
        "    print(\" \")\n",
        "    print(matriz_c_out)\n",
        "  if opcion==\"Matriz probabilidades\":\n",
        "    print(\"Matriz de probabilidades de Evaluación:\")\n",
        "    print(\" \")\n",
        "    print(y_pred_proba_out)\n",
        "  if opcion==\"Matriz predicciones\":\n",
        "    print(\"Matriz de predicciones de clase:\")\n",
        "    print(\" \")\n",
        "    print(y_pred_out)\n",
        "\n",
        "\n",
        "\n",
        "\n",
        "\n",
        "\n",
        "\n",
        "  \n",
        "\n",
        "\n"
      ],
      "execution_count": 95,
      "outputs": []
    },
    {
      "cell_type": "code",
      "metadata": {
        "id": "-I8Lt86gjtaf"
      },
      "source": [
        "from sklearn.model_selection import train_test_split\n",
        "from sklearn import svm\n",
        "import numpy as np\n",
        "import matplotlib.pyplot as plt\n",
        "from sklearn.metrics import confusion_matrix\n",
        "import time\n",
        "from sklearn.metrics import mean_squared_error\n",
        "%matplotlib inline\n",
        "\n",
        "def codigo_interactivo(x_1,x_2,opcion):\n",
        "  informacion_principal(x_1,x_2) #Funcion definida previamente\n",
        "  variables_modelo(x_1,x_2)      #Funcion definida previamente \n",
        "  codigo_modelo(x_1,x_2)        #Funcion definifa previamente\n",
        "  print(\" \")\n",
        "  datos_graficar(x_1,x_2)      #Funcion definida previamente \n",
        "  graficas_modelo(x_1,x_2)     # Funcion definida previamente }\n",
        "  \n",
        "  resultados_modelo(x_1,x_2)\n",
        "  informacion_out_sample(x_1,x_2,opcion)\n",
        "\n",
        "\n"
      ],
      "execution_count": 99,
      "outputs": []
    },
    {
      "cell_type": "code",
      "metadata": {
        "colab": {
          "base_uri": "https://localhost:8080/",
          "height": 1000,
          "referenced_widgets": [
            "e4c42c30da1944a381fc5631fe8440a7",
            "263798b1120245409d5860fb8d334102",
            "f4aa521cda78495f85a89bbeee0e4305",
            "e7e2440d45a9408a94469c9035e93dc6",
            "a9a9ca0f139d4b829acb55c44e303ab5",
            "306baaa69ed2457aae98061b76818a49",
            "6379c74e412c44ea9d6ca988c878fc73",
            "47b4f7551796488a91c18d6b06c8f8d1",
            "158953d228f942c0b04963cc780bdccb",
            "095a4c0508c34f72878704ba55ed1ddc",
            "dc58ea05d7b3436eb28f023a467bccda",
            "f84734e137724468b6269f674506d110",
            "992a8a552a67462e9ef0a7641794f688"
          ]
        },
        "id": "5Jdq8Dc6sCDh",
        "outputId": "428864f8-35a6-4489-ac9a-9aced96edc93"
      },
      "source": [
        "interactive_plot=interactive(codigo_interactivo,x_1=widgets.RadioButtons(options=['Pts/P', 'Ratio_victorias',\"Ratio_derrotas\", 'golesF/P', 'golesC/P'],\n",
        "                          layout={'width': 'max-content'},description=\"Variable X_1:\", continuos_update=False),\n",
        "                          x_2=widgets.RadioButtons(options=['golesF/P','Pts/P', 'Ratio_victorias', 'Ratio_derrotas', 'golesC/P'],\n",
        "                          layout={'width': 'max-content'},description=\"Variable X_2\", continuos_update=False),\n",
        "                          opcion=widgets.RadioButtons(options=[\"Matriz de confusion\",\"Matriz probabilidades\",\"Matriz predicciones\"],description=\"Información Adiccional\")\n",
        "\n",
        ")\n",
        "interactive_plot"
      ],
      "execution_count": 100,
      "outputs": [
        {
          "output_type": "display_data",
          "data": {
            "application/vnd.jupyter.widget-view+json": {
              "model_id": "e4c42c30da1944a381fc5631fe8440a7",
              "version_minor": 0,
              "version_major": 2
            },
            "text/plain": [
              "interactive(children=(RadioButtons(description='Variable X_1:', layout=Layout(width='max-content'), options=('…"
            ]
          },
          "metadata": {
            "tags": []
          }
        }
      ]
    },
    {
      "cell_type": "code",
      "metadata": {
        "id": "DZvIYN4dsbcf"
      },
      "source": [
        ""
      ],
      "execution_count": null,
      "outputs": []
    },
    {
      "cell_type": "code",
      "metadata": {
        "id": "7BpJj-zYeTDX"
      },
      "source": [
        ""
      ],
      "execution_count": null,
      "outputs": []
    },
    {
      "cell_type": "code",
      "metadata": {
        "id": "CCy5Vz5msDAG"
      },
      "source": [
        ""
      ],
      "execution_count": null,
      "outputs": []
    },
    {
      "cell_type": "code",
      "metadata": {
        "id": "aiNCqDJYsEXO"
      },
      "source": [
        ""
      ],
      "execution_count": null,
      "outputs": []
    },
    {
      "cell_type": "code",
      "metadata": {
        "id": "CtRVpNDoud9-"
      },
      "source": [
        ""
      ],
      "execution_count": null,
      "outputs": []
    },
    {
      "cell_type": "code",
      "metadata": {
        "id": "7dyk_yGxyAu2"
      },
      "source": [
        ""
      ],
      "execution_count": null,
      "outputs": []
    },
    {
      "cell_type": "code",
      "metadata": {
        "id": "oJJkd-_alVPX",
        "colab": {
          "base_uri": "https://localhost:8080/"
        },
        "outputId": "22788800-f518-491a-d877-38a95332e24d"
      },
      "source": [
        "for i in range(3):\n",
        "  print(i)"
      ],
      "execution_count": null,
      "outputs": [
        {
          "output_type": "stream",
          "text": [
            "0\n",
            "1\n",
            "2\n"
          ],
          "name": "stdout"
        }
      ]
    },
    {
      "cell_type": "code",
      "metadata": {
        "colab": {
          "base_uri": "https://localhost:8080/",
          "height": 408
        },
        "id": "Ga7Fp5rJPifJ",
        "outputId": "f0a66898-9911-4f82-ea13-719765b2095e"
      },
      "source": [
        "x_variadas(\"golesF/P\",\"golesC/P\")\n",
        "X_train"
      ],
      "execution_count": null,
      "outputs": [
        {
          "output_type": "execute_result",
          "data": {
            "text/html": [
              "<div>\n",
              "<style scoped>\n",
              "    .dataframe tbody tr th:only-of-type {\n",
              "        vertical-align: middle;\n",
              "    }\n",
              "\n",
              "    .dataframe tbody tr th {\n",
              "        vertical-align: top;\n",
              "    }\n",
              "\n",
              "    .dataframe thead th {\n",
              "        text-align: right;\n",
              "    }\n",
              "</style>\n",
              "<table border=\"1\" class=\"dataframe\">\n",
              "  <thead>\n",
              "    <tr style=\"text-align: right;\">\n",
              "      <th></th>\n",
              "      <th>golesF/P</th>\n",
              "      <th>golesC/P</th>\n",
              "    </tr>\n",
              "  </thead>\n",
              "  <tbody>\n",
              "    <tr>\n",
              "      <th>29</th>\n",
              "      <td>1.447368</td>\n",
              "      <td>1.026316</td>\n",
              "    </tr>\n",
              "    <tr>\n",
              "      <th>4</th>\n",
              "      <td>1.176471</td>\n",
              "      <td>1.205882</td>\n",
              "    </tr>\n",
              "    <tr>\n",
              "      <th>14</th>\n",
              "      <td>0.794118</td>\n",
              "      <td>1.588235</td>\n",
              "    </tr>\n",
              "    <tr>\n",
              "      <th>80</th>\n",
              "      <td>1.236842</td>\n",
              "      <td>1.921053</td>\n",
              "    </tr>\n",
              "    <tr>\n",
              "      <th>59</th>\n",
              "      <td>0.964286</td>\n",
              "      <td>1.250000</td>\n",
              "    </tr>\n",
              "    <tr>\n",
              "      <th>...</th>\n",
              "      <td>...</td>\n",
              "      <td>...</td>\n",
              "    </tr>\n",
              "    <tr>\n",
              "      <th>87</th>\n",
              "      <td>0.894737</td>\n",
              "      <td>1.394737</td>\n",
              "    </tr>\n",
              "    <tr>\n",
              "      <th>50</th>\n",
              "      <td>1.000000</td>\n",
              "      <td>1.107143</td>\n",
              "    </tr>\n",
              "    <tr>\n",
              "      <th>59</th>\n",
              "      <td>1.052632</td>\n",
              "      <td>1.526316</td>\n",
              "    </tr>\n",
              "    <tr>\n",
              "      <th>47</th>\n",
              "      <td>1.529412</td>\n",
              "      <td>1.588235</td>\n",
              "    </tr>\n",
              "    <tr>\n",
              "      <th>5</th>\n",
              "      <td>1.294118</td>\n",
              "      <td>1.058824</td>\n",
              "    </tr>\n",
              "  </tbody>\n",
              "</table>\n",
              "<p>139 rows × 2 columns</p>\n",
              "</div>"
            ],
            "text/plain": [
              "    golesF/P  golesC/P\n",
              "29  1.447368  1.026316\n",
              "4   1.176471  1.205882\n",
              "14  0.794118  1.588235\n",
              "80  1.236842  1.921053\n",
              "59  0.964286  1.250000\n",
              "..       ...       ...\n",
              "87  0.894737  1.394737\n",
              "50  1.000000  1.107143\n",
              "59  1.052632  1.526316\n",
              "47  1.529412  1.588235\n",
              "5   1.294118  1.058824\n",
              "\n",
              "[139 rows x 2 columns]"
            ]
          },
          "metadata": {
            "tags": []
          },
          "execution_count": 34
        }
      ]
    },
    {
      "cell_type": "code",
      "metadata": {
        "id": "_UZV1NrcUvkq"
      },
      "source": [
        "def intento(a):\n",
        "  global suma\n",
        "  suma=a+a"
      ],
      "execution_count": null,
      "outputs": []
    },
    {
      "cell_type": "code",
      "metadata": {
        "id": "V-TclzvlXkTS"
      },
      "source": [
        "intento(4)"
      ],
      "execution_count": null,
      "outputs": []
    },
    {
      "cell_type": "code",
      "metadata": {
        "colab": {
          "base_uri": "https://localhost:8080/"
        },
        "id": "WJccRFSSXmL_",
        "outputId": "23ba6a48-94f4-451e-bec7-bf414da9eef7"
      },
      "source": [
        "suma+suma"
      ],
      "execution_count": null,
      "outputs": [
        {
          "output_type": "execute_result",
          "data": {
            "text/plain": [
              "16"
            ]
          },
          "metadata": {
            "tags": []
          },
          "execution_count": 37
        }
      ]
    },
    {
      "cell_type": "code",
      "metadata": {
        "colab": {
          "base_uri": "https://localhost:8080/",
          "height": 191
        },
        "id": "LAPHa0IxXn6w",
        "outputId": "dcac8cb7-1231-4d24-a080-97b979e653cd"
      },
      "source": [
        "def g():\n",
        "  a=5\n",
        "globals()[a]"
      ],
      "execution_count": null,
      "outputs": [
        {
          "output_type": "error",
          "ename": "NameError",
          "evalue": "ignored",
          "traceback": [
            "\u001b[0;31m---------------------------------------------------------------------------\u001b[0m",
            "\u001b[0;31mNameError\u001b[0m                                 Traceback (most recent call last)",
            "\u001b[0;32m<ipython-input-49-93510808d8ec>\u001b[0m in \u001b[0;36m<module>\u001b[0;34m()\u001b[0m\n\u001b[1;32m      1\u001b[0m \u001b[0;32mdef\u001b[0m \u001b[0mg\u001b[0m\u001b[0;34m(\u001b[0m\u001b[0;34m)\u001b[0m\u001b[0;34m:\u001b[0m\u001b[0;34m\u001b[0m\u001b[0;34m\u001b[0m\u001b[0m\n\u001b[1;32m      2\u001b[0m   \u001b[0ma\u001b[0m\u001b[0;34m=\u001b[0m\u001b[0;36m5\u001b[0m\u001b[0;34m\u001b[0m\u001b[0;34m\u001b[0m\u001b[0m\n\u001b[0;32m----> 3\u001b[0;31m \u001b[0mglobals\u001b[0m\u001b[0;34m(\u001b[0m\u001b[0;34m)\u001b[0m\u001b[0;34m[\u001b[0m\u001b[0ma\u001b[0m\u001b[0;34m]\u001b[0m\u001b[0;34m\u001b[0m\u001b[0;34m\u001b[0m\u001b[0m\n\u001b[0m",
            "\u001b[0;31mNameError\u001b[0m: name 'a' is not defined"
          ]
        }
      ]
    },
    {
      "cell_type": "code",
      "metadata": {
        "id": "H7dyS9LIY7ST"
      },
      "source": [
        ""
      ],
      "execution_count": null,
      "outputs": []
    }
  ]
}