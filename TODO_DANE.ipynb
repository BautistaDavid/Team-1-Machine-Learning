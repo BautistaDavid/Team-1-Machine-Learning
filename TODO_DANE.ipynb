{
  "nbformat": 4,
  "nbformat_minor": 0,
  "metadata": {
    "colab": {
      "name": "TODO_DANE.ipynb",
      "provenance": [],
      "authorship_tag": "ABX9TyMP2/CQntwvwlbA86YpdbfW",
      "include_colab_link": true
    },
    "kernelspec": {
      "name": "python3",
      "display_name": "Python 3"
    },
    "language_info": {
      "name": "python"
    }
  },
  "cells": [
    {
      "cell_type": "markdown",
      "metadata": {
        "id": "view-in-github",
        "colab_type": "text"
      },
      "source": [
        "<a href=\"https://colab.research.google.com/github/BautistaDavid/Team-1-Machine-Learning/blob/main/TODO_DANE.ipynb\" target=\"_parent\"><img src=\"https://colab.research.google.com/assets/colab-badge.svg\" alt=\"Open In Colab\"/></a>"
      ]
    },
    {
      "cell_type": "code",
      "metadata": {
        "id": "muZWwSZ773db"
      },
      "source": [
        "import bs4\n",
        "import requests as rq\n",
        "from bs4 import BeautifulSoup\n",
        "import pandas as pd \n",
        "import numpy as np\n"
      ],
      "execution_count": null,
      "outputs": []
    },
    {
      "cell_type": "code",
      "metadata": {
        "id": "AHHxcH7DEhIj"
      },
      "source": [
        "lista=[\"317\",\"206\",\"207\",\"205\",\"182\",\"77\",\"68\",\"328\",\"356\",\"427\",\"458\",\"547\",\"599\",\"659\",\"701\"]\n",
        "        #07    #08   #09   10    11   12   13   14    15    16    17"
      ],
      "execution_count": null,
      "outputs": []
    },
    {
      "cell_type": "code",
      "metadata": {
        "id": "MiSBweTGKnuP"
      },
      "source": [
        "url_web_main=\"http://microdatos.dane.gov.co/index.php/catalog/182/get_microdata\"\n",
        "web_main=rq.get(url_web_main)\n",
        "web_sopa_main=BeautifulSoup(web_main.text,\"lxml\")"
      ],
      "execution_count": null,
      "outputs": []
    },
    {
      "cell_type": "code",
      "metadata": {
        "id": "kq59i_MfKy2P"
      },
      "source": [
        "links_scrap=((web_sopa_main.find(\"div\",attrs={\"class\":\"tab-body-no-sidebar\"})).find(\"div\",attrs={\"class\":\"resources data-files\"})).find_all(\"input\")\n",
        "links_scrap.pop()\n",
        "links_scrap.pop()\n",
        "links=[]\n",
        "nombres=[]\n",
        "for i in links_scrap:\n",
        "  pre_link=i.get(\"onclick\")\n",
        "  links.append(pre_link.split(\" '\")[1])\n",
        "  nombres.append(pre_link.split(\"'\")[1])\n",
        "\n",
        "lista_indices=[]\n",
        "for i in nombres:\n",
        "  if i.split(\".\")[1]!=\"csv\":\n",
        "    lista_indices.append(nombres.index(i))\n",
        "\n",
        "nombres=np.delete(nombres,lista_indices).tolist()\n",
        "links=np.delete(links,lista_indices).tolist()\n"
      ],
      "execution_count": null,
      "outputs": []
    },
    {
      "cell_type": "code",
      "metadata": {
        "colab": {
          "base_uri": "https://localhost:8080/"
        },
        "id": "08n-JquAR5P2",
        "outputId": "3df6f97c-3cb2-4354-c1b5-e97a145ff841"
      },
      "source": [
        "links"
      ],
      "execution_count": null,
      "outputs": [
        {
          "output_type": "execute_result",
          "data": {
            "text/plain": [
              "['http://microdatos.dane.gov.co/index.php/catalog/182/download/12731']"
            ]
          },
          "metadata": {},
          "execution_count": 89
        }
      ]
    },
    {
      "cell_type": "code",
      "metadata": {
        "colab": {
          "base_uri": "https://localhost:8080/"
        },
        "id": "YIRyzVewVRf-",
        "outputId": "fe52bfd6-15e7-468e-9dd7-1bfe944057bf"
      },
      "source": [
        "nombres"
      ],
      "execution_count": null,
      "outputs": [
        {
          "output_type": "execute_result",
          "data": {
            "text/plain": [
              "['Septiembre.csv.zip',\n",
              " 'Octubre.csv.zip',\n",
              " 'Noviembre.csv.zip',\n",
              " 'Diciembre.csv.zip',\n",
              " 'Enero.csv.zip',\n",
              " 'Febrero.csv.zip',\n",
              " 'Marzo.csv.zip',\n",
              " 'Abril.csv.zip',\n",
              " 'Mayo.csv.zip',\n",
              " 'Junio.csv.zip',\n",
              " 'Julio.csv.zip',\n",
              " 'Agosto.csv.zip']"
            ]
          },
          "metadata": {},
          "execution_count": 17
        }
      ]
    },
    {
      "cell_type": "code",
      "metadata": {
        "id": "ae9K8j_GV3p1",
        "colab": {
          "base_uri": "https://localhost:8080/"
        },
        "outputId": "b212e965-48fd-4417-9f64-15e58b4ca93f"
      },
      "source": [
        "diccionario_links=dict (zip(nombres,links))\n",
        "diccionario_links"
      ],
      "execution_count": null,
      "outputs": [
        {
          "output_type": "execute_result",
          "data": {
            "text/plain": [
              "{'Abril.csv.zip': 'http://microdatos.dane.gov.co/index.php/catalog/317/download/13497',\n",
              " 'Agosto.csv.zip': 'http://microdatos.dane.gov.co/index.php/catalog/317/download/13505',\n",
              " 'Diciembre.csv.zip': 'http://microdatos.dane.gov.co/index.php/catalog/317/download/10934',\n",
              " 'Enero.csv.zip': 'http://microdatos.dane.gov.co/index.php/catalog/317/download/13491',\n",
              " 'Febrero.csv.zip': 'http://microdatos.dane.gov.co/index.php/catalog/317/download/13493',\n",
              " 'Julio.csv.zip': 'http://microdatos.dane.gov.co/index.php/catalog/317/download/13503',\n",
              " 'Junio.csv.zip': 'http://microdatos.dane.gov.co/index.php/catalog/317/download/13501',\n",
              " 'Marzo.csv.zip': 'http://microdatos.dane.gov.co/index.php/catalog/317/download/13495',\n",
              " 'Mayo.csv.zip': 'http://microdatos.dane.gov.co/index.php/catalog/317/download/13499',\n",
              " 'Noviembre.csv.zip': 'http://microdatos.dane.gov.co/index.php/catalog/317/download/10930',\n",
              " 'Octubre.csv.zip': 'http://microdatos.dane.gov.co/index.php/catalog/317/download/10928',\n",
              " 'Septiembre.csv.zip': 'http://microdatos.dane.gov.co/index.php/catalog/317/download/10924'}"
            ]
          },
          "metadata": {},
          "execution_count": 32
        }
      ]
    },
    {
      "cell_type": "code",
      "metadata": {
        "id": "Ns7OkJ8RMcxp"
      },
      "source": [
        "for año in lista:\n",
        "  url_web_main=\"http://microdatos.dane.gov.co/index.php/catalog/\"+año+\"/get_microdata\"\n",
        "  web_main=rq.get(url_web_main)\n",
        "  web_sopa_main=BeautifulSoup(web_main.text,\"lxml\")\n",
        "\n",
        "  links_scrap=((web_sopa_main.find(\"div\",attrs={\"class\":\"tab-body-no-sidebar\"})).find(\"div\",attrs={\"class\":\"resources data-files\"})).find_all(\"input\")\n",
        "  links_scrap.pop()\n",
        "  links_scrap.pop()\n",
        "  links=[]\n",
        "  nombres=[]\n",
        "  for i in links_scrap:\n",
        "    pre_link=i.get(\"onclick\")\n",
        "    links.append(pre_link.split(\" '\")[1])\n",
        "    nombres.append(pre_link.split(\"'\")[1])\n",
        "\n",
        "  lista_indices=[]\n",
        "  for i in nombres:\n",
        "    if i.split(\".\")[1]!=\"csv\":\n",
        "      lista_indices.append(nombres.index(i))\n",
        "\n",
        "  nombres=np.delete(nombres,lista_indices).tolist()\n",
        "  links=np.delete(links,lista_indices).tolist()  # para eliminar los archivos que no fueran csv\n",
        "\n",
        "  diccionario_links=dict (zip(nombres,links))\n",
        "  años=list(range(2007,2022))\n",
        "\n",
        "  locals() [\"Diccionario_links_\"+str(años[lista.index(año)])]=diccionario_links\n",
        "\n"
      ],
      "execution_count": null,
      "outputs": []
    },
    {
      "cell_type": "code",
      "metadata": {
        "colab": {
          "base_uri": "https://localhost:8080/"
        },
        "id": "GKkmyYFnXkbX",
        "outputId": "96078000-c80b-40bd-8a30-139832721a1d"
      },
      "source": [
        "Diccionario_links_2021"
      ],
      "execution_count": null,
      "outputs": [
        {
          "output_type": "execute_result",
          "data": {
            "text/plain": [
              "{'Abril.csv.zip': 'http://microdatos.dane.gov.co/index.php/catalog/701/download/20484',\n",
              " 'Enero.csv.zip': 'http://microdatos.dane.gov.co/index.php/catalog/701/download/20154',\n",
              " 'Febrero.csv.zip': 'http://microdatos.dane.gov.co/index.php/catalog/701/download/20181',\n",
              " 'Junio.csv.zip': 'http://microdatos.dane.gov.co/index.php/catalog/701/download/20551',\n",
              " 'Marzo.csv.zip': 'http://microdatos.dane.gov.co/index.php/catalog/701/download/20388',\n",
              " 'Mayo.csv.zip': 'http://microdatos.dane.gov.co/index.php/catalog/701/download/20528'}"
            ]
          },
          "metadata": {},
          "execution_count": 65
        }
      ]
    },
    {
      "cell_type": "code",
      "metadata": {
        "colab": {
          "base_uri": "https://localhost:8080/"
        },
        "id": "C3OF-nysYz4s",
        "outputId": "f4627bf4-4287-421c-d05f-5c7d7bbc886f"
      },
      "source": [
        "Diccionario_links_2011"
      ],
      "execution_count": null,
      "outputs": [
        {
          "output_type": "execute_result",
          "data": {
            "text/plain": [
              "{'Total Departamentos.csv.zip': 'http://microdatos.dane.gov.co/index.php/catalog/182/download/12731'}"
            ]
          },
          "metadata": {},
          "execution_count": 86
        }
      ]
    },
    {
      "cell_type": "code",
      "metadata": {
        "id": "pq9km4ZdaJvB"
      },
      "source": [
        ""
      ],
      "execution_count": null,
      "outputs": []
    },
    {
      "cell_type": "code",
      "metadata": {
        "id": "V_STq1S0cr3w"
      },
      "source": [
        ""
      ],
      "execution_count": null,
      "outputs": []
    },
    {
      "cell_type": "code",
      "metadata": {
        "id": "JVtu3Nu3cr7L",
        "colab": {
          "base_uri": "https://localhost:8080/"
        },
        "outputId": "2bf18cb9-a693-4b1b-b469-60d9bab855c5"
      },
      "source": [
        "links_scrap=((web_sopa_main.find(\"div\",attrs={\"class\":\"tab-body-no-sidebar\"})).find(\"div\",attrs={\"class\":\"resources data-files\"})).find_all(\"input\")\n",
        "links_scrap"
      ],
      "execution_count": null,
      "outputs": [
        {
          "output_type": "execute_result",
          "data": {
            "text/plain": [
              "[<input alt=\"zip\" onclick=\"mostrarModal('Enero_txt.zip' , 'http://microdatos.dane.gov.co/index.php/catalog/182/download/2729 ');\" src=\"images/page_white_compressed.png\" title=\"Enero_txt.zip\" type=\"image\"/>,\n",
              " <input alt=\"zip\" onclick=\"mostrarModal('Febrero_txt.zip' , 'http://microdatos.dane.gov.co/index.php/catalog/182/download/2731 ');\" src=\"images/page_white_compressed.png\" title=\"Febrero_txt.zip\" type=\"image\"/>,\n",
              " <input alt=\"zip\" onclick=\"mostrarModal('Marzo_txt.zip' , 'http://microdatos.dane.gov.co/index.php/catalog/182/download/2733 ');\" src=\"images/page_white_compressed.png\" title=\"Marzo_txt.zip\" type=\"image\"/>,\n",
              " <input alt=\"zip\" onclick=\"mostrarModal('Abril_txt.zip' , 'http://microdatos.dane.gov.co/index.php/catalog/182/download/2735 ');\" src=\"images/page_white_compressed.png\" title=\"Abril_txt.zip\" type=\"image\"/>,\n",
              " <input alt=\"zip\" onclick=\"mostrarModal('Mayo_txt.zip' , 'http://microdatos.dane.gov.co/index.php/catalog/182/download/2737 ');\" src=\"images/page_white_compressed.png\" title=\"Mayo_txt.zip\" type=\"image\"/>,\n",
              " <input alt=\"zip\" onclick=\"mostrarModal('Junio_txt.zip' , 'http://microdatos.dane.gov.co/index.php/catalog/182/download/2739 ');\" src=\"images/page_white_compressed.png\" title=\"Junio_txt.zip\" type=\"image\"/>,\n",
              " <input alt=\"zip\" onclick=\"mostrarModal('Julio_txt.zip' , 'http://microdatos.dane.gov.co/index.php/catalog/182/download/2741 ');\" src=\"images/page_white_compressed.png\" title=\"Julio_txt.zip\" type=\"image\"/>,\n",
              " <input alt=\"zip\" onclick=\"mostrarModal('Agosto_txt.zip' , 'http://microdatos.dane.gov.co/index.php/catalog/182/download/2743 ');\" src=\"images/page_white_compressed.png\" title=\"Agosto_txt.zip\" type=\"image\"/>,\n",
              " <input alt=\"zip\" onclick=\"mostrarModal('Septiembre_txt.zip' , 'http://microdatos.dane.gov.co/index.php/catalog/182/download/2745 ');\" src=\"images/page_white_compressed.png\" title=\"Septiembre_txt.zip\" type=\"image\"/>,\n",
              " <input alt=\"zip\" onclick=\"mostrarModal('Octubre_txt.zip' , 'http://microdatos.dane.gov.co/index.php/catalog/182/download/2747 ');\" src=\"images/page_white_compressed.png\" title=\"Octubre_txt.zip\" type=\"image\"/>,\n",
              " <input alt=\"zip\" onclick=\"mostrarModal('Noviembre_txt.zip' , 'http://microdatos.dane.gov.co/index.php/catalog/182/download/2749 ');\" src=\"images/page_white_compressed.png\" title=\"Noviembre_txt.zip\" type=\"image\"/>,\n",
              " <input alt=\"zip\" onclick=\"mostrarModal('Diciembre_txt.zip' , 'http://microdatos.dane.gov.co/index.php/catalog/182/download/2751 ');\" src=\"images/page_white_compressed.png\" title=\"Diciembre_txt.zip\" type=\"image\"/>,\n",
              " <input alt=\"zip\" onclick=\"mostrarModal('total_2011_c.zip' , 'http://microdatos.dane.gov.co/index.php/catalog/182/download/2752 ');\" src=\"images/page_white_compressed.png\" title=\"total_2011_c.zip\" type=\"image\"/>,\n",
              " <input alt=\"zip\" onclick=\"mostrarModal('total_2011_c_txt.zip' , 'http://microdatos.dane.gov.co/index.php/catalog/182/download/2753 ');\" src=\"images/page_white_compressed.png\" title=\"total_2011_c_txt.zip\" type=\"image\"/>,\n",
              " <input alt=\"zip\" onclick=\"mostrarModal('Enero_csv.zip' , 'http://microdatos.dane.gov.co/index.php/catalog/182/download/12719 ');\" src=\"images/page_white_compressed.png\" title=\"Enero_csv.zip\" type=\"image\"/>,\n",
              " <input alt=\"zip\" onclick=\"mostrarModal('Febrero_csv.zip' , 'http://microdatos.dane.gov.co/index.php/catalog/182/download/12720 ');\" src=\"images/page_white_compressed.png\" title=\"Febrero_csv.zip\" type=\"image\"/>,\n",
              " <input alt=\"zip\" onclick=\"mostrarModal('Marzo_csv.zip' , 'http://microdatos.dane.gov.co/index.php/catalog/182/download/12721 ');\" src=\"images/page_white_compressed.png\" title=\"Marzo_csv.zip\" type=\"image\"/>,\n",
              " <input alt=\"zip\" onclick=\"mostrarModal('Abril_csv.zip' , 'http://microdatos.dane.gov.co/index.php/catalog/182/download/12722 ');\" src=\"images/page_white_compressed.png\" title=\"Abril_csv.zip\" type=\"image\"/>,\n",
              " <input alt=\"zip\" onclick=\"mostrarModal('Mayo_csv.zip' , 'http://microdatos.dane.gov.co/index.php/catalog/182/download/12723 ');\" src=\"images/page_white_compressed.png\" title=\"Mayo_csv.zip\" type=\"image\"/>,\n",
              " <input alt=\"zip\" onclick=\"mostrarModal('Junio_csv.zip' , 'http://microdatos.dane.gov.co/index.php/catalog/182/download/12724 ');\" src=\"images/page_white_compressed.png\" title=\"Junio_csv.zip\" type=\"image\"/>,\n",
              " <input alt=\"zip\" onclick=\"mostrarModal('Julio_csv.zip' , 'http://microdatos.dane.gov.co/index.php/catalog/182/download/12725 ');\" src=\"images/page_white_compressed.png\" title=\"Julio_csv.zip\" type=\"image\"/>,\n",
              " <input alt=\"zip\" onclick=\"mostrarModal('Agosto_csv.zip' , 'http://microdatos.dane.gov.co/index.php/catalog/182/download/12726 ');\" src=\"images/page_white_compressed.png\" title=\"Agosto_csv.zip\" type=\"image\"/>,\n",
              " <input alt=\"zip\" onclick=\"mostrarModal('Septiembre_csv.zip' , 'http://microdatos.dane.gov.co/index.php/catalog/182/download/12727 ');\" src=\"images/page_white_compressed.png\" title=\"Septiembre_csv.zip\" type=\"image\"/>,\n",
              " <input alt=\"zip\" onclick=\"mostrarModal('Octubre_csv.zip' , 'http://microdatos.dane.gov.co/index.php/catalog/182/download/12728 ');\" src=\"images/page_white_compressed.png\" title=\"Octubre_csv.zip\" type=\"image\"/>,\n",
              " <input alt=\"zip\" onclick=\"mostrarModal('Noviembre_csv.zip' , 'http://microdatos.dane.gov.co/index.php/catalog/182/download/12729 ');\" src=\"images/page_white_compressed.png\" title=\"Noviembre_csv.zip\" type=\"image\"/>,\n",
              " <input alt=\"zip\" onclick=\"mostrarModal('Diciembre_csv.zip' , 'http://microdatos.dane.gov.co/index.php/catalog/182/download/12730 ');\" src=\"images/page_white_compressed.png\" title=\"Diciembre_csv.zip\" type=\"image\"/>,\n",
              " <input alt=\"zip\" onclick=\"mostrarModal('Total Departamentos.csv.zip' , 'http://microdatos.dane.gov.co/index.php/catalog/182/download/12731 ');\" src=\"images/page_white_compressed.png\" title=\"Total Departamentos.csv.zip\" type=\"image\"/>,\n",
              " <input alt=\"zip\" onclick=\"mostrarModal('Enero.sav.zip' , 'http://microdatos.dane.gov.co/index.php/catalog/182/download/12804 ');\" src=\"images/page_white_compressed.png\" title=\"Enero.sav.zip\" type=\"image\"/>,\n",
              " <input alt=\"zip\" onclick=\"mostrarModal('Febrero.sav.zip' , 'http://microdatos.dane.gov.co/index.php/catalog/182/download/12805 ');\" src=\"images/page_white_compressed.png\" title=\"Febrero.sav.zip\" type=\"image\"/>,\n",
              " <input alt=\"zip\" onclick=\"mostrarModal('Marzo.sav.zip' , 'http://microdatos.dane.gov.co/index.php/catalog/182/download/12806 ');\" src=\"images/page_white_compressed.png\" title=\"Marzo.sav.zip\" type=\"image\"/>,\n",
              " <input alt=\"zip\" onclick=\"mostrarModal('Abril.sav.zip' , 'http://microdatos.dane.gov.co/index.php/catalog/182/download/12807 ');\" src=\"images/page_white_compressed.png\" title=\"Abril.sav.zip\" type=\"image\"/>,\n",
              " <input alt=\"zip\" onclick=\"mostrarModal('Mayo.sav.zip' , 'http://microdatos.dane.gov.co/index.php/catalog/182/download/12808 ');\" src=\"images/page_white_compressed.png\" title=\"Mayo.sav.zip\" type=\"image\"/>,\n",
              " <input alt=\"zip\" onclick=\"mostrarModal('Junio.sav.zip' , 'http://microdatos.dane.gov.co/index.php/catalog/182/download/12809 ');\" src=\"images/page_white_compressed.png\" title=\"Junio.sav.zip\" type=\"image\"/>,\n",
              " <input alt=\"zip\" onclick=\"mostrarModal('Julio.sav.zip' , 'http://microdatos.dane.gov.co/index.php/catalog/182/download/12810 ');\" src=\"images/page_white_compressed.png\" title=\"Julio.sav.zip\" type=\"image\"/>,\n",
              " <input alt=\"zip\" onclick=\"mostrarModal('Agosto.sav.zip' , 'http://microdatos.dane.gov.co/index.php/catalog/182/download/12811 ');\" src=\"images/page_white_compressed.png\" title=\"Agosto.sav.zip\" type=\"image\"/>,\n",
              " <input alt=\"zip\" onclick=\"mostrarModal('Septiembre.sav.zip' , 'http://microdatos.dane.gov.co/index.php/catalog/182/download/12812 ');\" src=\"images/page_white_compressed.png\" title=\"Septiembre.sav.zip\" type=\"image\"/>,\n",
              " <input alt=\"zip\" onclick=\"mostrarModal('Octubre.sav.zip' , 'http://microdatos.dane.gov.co/index.php/catalog/182/download/12813 ');\" src=\"images/page_white_compressed.png\" title=\"Octubre.sav.zip\" type=\"image\"/>,\n",
              " <input alt=\"zip\" onclick=\"mostrarModal('Noviembre.sav.zip' , 'http://microdatos.dane.gov.co/index.php/catalog/182/download/12814 ');\" src=\"images/page_white_compressed.png\" title=\"Noviembre.sav.zip\" type=\"image\"/>,\n",
              " <input alt=\"zip\" onclick=\"mostrarModal('Diciembre.sav.zip' , 'http://microdatos.dane.gov.co/index.php/catalog/182/download/12815 ');\" src=\"images/page_white_compressed.png\" title=\"Diciembre.sav.zip\" type=\"image\"/>,\n",
              " <input onclick=\"ocultarModal()\" style=\"margin-top: 5px;margin-right:15px\" type=\"button\" value=\"X\"/>,\n",
              " <input id=\"btoDownload\" name=\"btoDownload\" onclick=\"download(document.getElementById('microDataUrl').value)\" type=\"button\" value=\"Descargar\"/>]"
            ]
          },
          "metadata": {},
          "execution_count": 90
        }
      ]
    },
    {
      "cell_type": "code",
      "metadata": {
        "id": "0o_pCyxmcxhL",
        "colab": {
          "base_uri": "https://localhost:8080/"
        },
        "outputId": "17893494-8378-4a1a-8e52-4bb3bf21da42"
      },
      "source": [
        "Diccionario_links_2007"
      ],
      "execution_count": null,
      "outputs": [
        {
          "output_type": "execute_result",
          "data": {
            "text/plain": [
              "{'Abril.csv.zip': 'http://microdatos.dane.gov.co/index.php/catalog/317/download/13497',\n",
              " 'Agosto.csv.zip': 'http://microdatos.dane.gov.co/index.php/catalog/317/download/13505',\n",
              " 'Diciembre.csv.zip': 'http://microdatos.dane.gov.co/index.php/catalog/317/download/10934',\n",
              " 'Enero.csv.zip': 'http://microdatos.dane.gov.co/index.php/catalog/317/download/13491',\n",
              " 'Febrero.csv.zip': 'http://microdatos.dane.gov.co/index.php/catalog/317/download/13493',\n",
              " 'Julio.csv.zip': 'http://microdatos.dane.gov.co/index.php/catalog/317/download/13503',\n",
              " 'Junio.csv.zip': 'http://microdatos.dane.gov.co/index.php/catalog/317/download/13501',\n",
              " 'Marzo.csv.zip': 'http://microdatos.dane.gov.co/index.php/catalog/317/download/13495',\n",
              " 'Mayo.csv.zip': 'http://microdatos.dane.gov.co/index.php/catalog/317/download/13499',\n",
              " 'Noviembre.csv.zip': 'http://microdatos.dane.gov.co/index.php/catalog/317/download/10930',\n",
              " 'Octubre.csv.zip': 'http://microdatos.dane.gov.co/index.php/catalog/317/download/10928',\n",
              " 'Septiembre.csv.zip': 'http://microdatos.dane.gov.co/index.php/catalog/317/download/10924'}"
            ]
          },
          "metadata": {},
          "execution_count": 5
        }
      ]
    },
    {
      "cell_type": "code",
      "metadata": {
        "id": "Vm2gRNH4_TS-"
      },
      "source": [
        ""
      ],
      "execution_count": null,
      "outputs": []
    }
  ]
}